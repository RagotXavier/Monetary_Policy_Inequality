{
 "cells": [
  {
   "cell_type": "markdown",
   "id": "b796720c",
   "metadata": {},
   "source": [
    "The function ̀`Multi(proj::Projection,solution::AiyagariSolution,params::Params,μ)` computes the trunacted model for a given value of the Lagrange multiplier $\\mu$.\n",
    "\n",
    "Returns four elements: \n",
    "* the residual of the FOC on $T$ which should be equal 0 for the optimal $\\mu$;\n",
    "* the vector `lambdal_b` of Lagrange multipliers $\\bar{\\lambda}_l$;\n",
    "* the vector `lambdac_b` of Lagrange multipliers $\\bar{\\lambda}_c$;\n",
    "* the vector `ψ_b` of social liquidity values $\\bar{\\psi}$. "
   ]
  },
  {
   "cell_type": "code",
   "execution_count": 33,
   "id": "69214fdc",
   "metadata": {},
   "outputs": [
    {
     "data": {
      "text/plain": [
       "Multi (generic function with 1 method)"
      ]
     },
     "metadata": {},
     "output_type": "display_data"
    }
   ],
   "source": [
    "function Multi(proj::Projection,solution::AiyagariSolution,params::Params,μ)\n",
    "\n",
    "    @unpack N,Ntot,ind_h,allocation_proj,ξs = proj\n",
    "    @unpack S_h,Π_h,y0_h,a_beg_h,a_end_h,c_h,l_h,ly_h,u_h,u′_h,u′′_h,v_h,v′_h,nb_cc_h,ind_cc_h = (\n",
    "                allocation_proj)\n",
    "    @unpack ξu0,ξu1,ξu2,ξuE,ξy,ξv0,ξv1 = ξs \n",
    "    @unpack β,α,ϵ,κ,δ,tk,Tt,u′,u′′,v′,v′′,ys = params\n",
    "    @unpack w,R,K,L,G,Y,A = solution\n",
    "\n",
    "    T = typeof(w)\n",
    "    r = R - 1\n",
    "    ξv0_tilde = ξv0./(y0_h)\n",
    "    ξv1_tilde = ξv1./(y0_h)\n",
    "    ω = ones(T,1,Ntot)'\n",
    "\n",
    "    Π_h_ψ = spdiagm(S_h)*Π_h*spdiagm(one(T)./S_h) #### verify ∀x :  Π_h_ψ*(S_h.*x)=S_h.(Π_h*x)  \n",
    "    Is = sparse(I,Ntot,Ntot)\n",
    "    P  = Is - sparse(ind_cc_h,ind_cc_h,ones(T,nb_cc_h),Ntot,Ntot)   \n",
    "\n",
    "    M0 = w*L*Is - (α-1)*(r+(1-tk)*δ)*S_h*a_beg_h'- α*w*S_h*(y0_h.*l_h)' \n",
    "    L1t = Is - β*(1+r)*Π_h_ψ - (β/K)*(α-1)*(r+(1-tk)*δ)*S_h*a_beg_h'- (β/K)*α*w*S_h*(y0_h.*l_h)' \n",
    "    x1 = L1t* (S_h .* ξu0 .* u′.(c_h)) - (β/K)*μ*(α*Y - (α-1)*(r+ (1-tk)*δ)*A - (r+δ)*K - α*w*L)*S_h  \n",
    "    L1l = L1t*spdiagm(w*y0_h.*ξu1.*u′′.(c_h)) -  (β/K)*α*w*S_h*(y0_h.*ξu1.*u′.(c_h))'*Π_h' \n",
    "    L1c = L1t*spdiagm(ξuE.*u′′.(c_h))*(Is-(1+r)*Π_h') + (β/K)*(α-1)*(r+(1-tk)*δ)*S_h*(ξuE.*u′.(c_h))'*Π_h' \n",
    "    L0t = M0*spdiagm(ξuE.*u′′.(c_h))*(Is-(1+r)*Π_h')+ (α-1)*(r+ (1-tk)*δ)*S_h*(ξuE.*u′.(c_h))'*Π_h' #\n",
    "    L0 = L0t\\(M0*spdiagm(w*y0_h.*ξu1.*u′′.(c_h)) - spdiagm(L* ξv1_tilde.*v′′.(l_h)) - α*w*(S_h*(y0_h.*ξu1.*u′.(c_h))')) #\n",
    "    x0 =  L0t\\(M0*(ω.*S_h.*ξu0.*u′.(c_h)) - L*S_h.*ξv0_tilde.*v′.(l_h) + μ*(1-α)*(Y - (r+ (1-tk)*δ)*A - w*L)*S_h) \n",
    "    L2 = (I - P + P*L1c)\\(P*L1l) \n",
    "    x2 = (I - P + P*L1c)\\(P*x1)\n",
    "\n",
    "    lambdal_b = - (L0 - L2)\\(x0-x2) # end-of-period\n",
    "    lambdac_b = x2 - L2*inv(L2 - L0)*(x2-x0) \n",
    "    lambdac_t_b = Π_h'*lambdac_b # beginning of period\n",
    "    lambdal_t_b = Π_h'*lambdal_b # beginning of period\n",
    "    \n",
    "    ψ_b =(S_h.*ξu0.*u′.(c_h) - spdiagm(ξuE.*u′′.(c_h))*(Is - (1+r)*Π_h')*x2 + \n",
    "        spdiagm(ξuE.*u′′.(c_h))*(Is - (1+r)*Π_h')*L2*inv(L2 - L0)*(x2-x0) - \n",
    "        spdiagm(w*y0_h.*ξu1.*u′′.(c_h))*inv(L0 - L2)*(x0-x2))\n",
    "   \n",
    "    resid = μ .-  ones(T,1,Ntot)*(ψ_b)\n",
    "    \n",
    "    return resid, lambdal_b, lambdac_b, ψ_b\n",
    "\n",
    "end\n"
   ]
  },
  {
   "cell_type": "markdown",
   "id": "1fbfeb35",
   "metadata": {},
   "source": [
    "The function `multi_find(proj::Projection,solution::AiyagariSolution,params::Params)` iterates on $\\mu$ to find the optimal $\\mu$. Then returns the steady-state Lagrange mutlipliers associated to the truncated model `Proj`."
   ]
  },
  {
   "cell_type": "code",
   "execution_count": 39,
   "id": "937f7d52",
   "metadata": {},
   "outputs": [
    {
     "data": {
      "text/plain": [
       "multi_find (generic function with 1 method)"
      ]
     },
     "metadata": {},
     "output_type": "display_data"
    }
   ],
   "source": [
    "\n",
    "function multi_find(proj::Projection,solution::AiyagariSolution,params::Params)\n",
    "   \n",
    "    @unpack allocation_proj,ξs = proj\n",
    "    @unpack S_h, Π_h,a_beg_h,c_h,u′_h,l_h,y0_h = (allocation_proj)            \n",
    "    @unpack A,B,L,Y,R,w,K = solution\n",
    "    @unpack β,tk,u′,κ,δ,ϵ,ν,ys,Sy = params\n",
    "    @unpack ξuE,ξu1 = ξs\n",
    "\n",
    "    r = R - 1\n",
    "    μ_init  = 100.0\n",
    "    fw(μ)   = Multi(proj,solution,params,μ)[1]\n",
    "    μ_solut = find_zero(fw, μ_init)  \n",
    "\n",
    "    lambdal = Multi(proj,solution,params,μ_solut)[2] \n",
    "    lambdac =  Multi(proj,solution,params,μ_solut)[3] \n",
    "    ψ_b  =  Multi(proj,solution,params,μ_solut)[4] \n",
    "\n",
    "    lambdact = Π_h'*lambdac\n",
    "    lambdalt = Π_h'*lambdal\n",
    "    Γ = (1/A)*(  μ_solut*A .- a_beg_h'*ψ_b - (ξuE.*u′.(c_h))'*lambdact) \n",
    "    \n",
    "    υ  =  β*(1-tk)*Γ*B \n",
    "    Lγ = κ./(Y*(ϵ-1)).*( μ_solut*w*L .+ (r/(1-tk)+δ)*(β^(-1)*υ + Γ*(1-tk)*K)  .-  \n",
    "        w*((y0_h.*l_h)'*ψ_b .+ (y0_h.*ξu1.*u′.(c_h))'*lambdal) .- μ_solut*Y .+ Y*sum((y0_h.^ν).*ψ_b)/sum((y0_h.^ν).*S_h))\n",
    "    \n",
    "    plan = Plan(\n",
    "        vec(lambdac),\n",
    "        vec(lambdact),\n",
    "        vec(lambdal),\n",
    "        vec(lambdalt),\n",
    "        vec(ψ_b),\n",
    "        μ_solut,\n",
    "        Γ[1],\n",
    "        υ[1],\n",
    "        Lγ[1])\n",
    "    \n",
    "    return plan\n",
    "\n",
    "end   \n",
    "    \n",
    "\n"
   ]
  }
 ],
 "metadata": {
  "kernelspec": {
   "display_name": "Julia 1.8.0",
   "language": "julia",
   "name": "julia-1.8"
  },
  "language_info": {
   "file_extension": ".jl",
   "mimetype": "application/julia",
   "name": "julia",
   "version": "1.8.0"
  }
 },
 "nbformat": 4,
 "nbformat_minor": 5
}
