{
 "cells": [
  {
   "cell_type": "markdown",
   "id": "21c668bd",
   "metadata": {},
   "source": [
    "# Loading packages"
   ]
  },
  {
   "cell_type": "code",
   "execution_count": 1,
   "id": "c8afd1f9",
   "metadata": {},
   "outputs": [],
   "source": [
    "using Parameters       # @unpack\n",
    "using QuantEcon        # rouwenhorst\n",
    "using LinearAlgebra    # dot\n",
    "using Roots            # findzero\n",
    "using SparseArrays     # SparseMatrixCSC\n",
    "using IterativeSolvers # powm!\n",
    "using Plots            # Plots\n",
    "using NBInclude        # including notebooks instead of jl files\n",
    "using MAT              # write the .m file "
   ]
  },
  {
   "cell_type": "markdown",
   "id": "54fef423",
   "metadata": {},
   "source": [
    "# Loading external notebooks"
   ]
  },
  {
   "cell_type": "code",
   "execution_count": 7,
   "id": "4d0e9cbe",
   "metadata": {},
   "outputs": [],
   "source": [
    "@nbinclude(\"Structures.ipynb\");    # Structures and parameter calibration from targets\n",
    "@nbinclude(\"Utils.ipynb\");         # Some useful functions\n",
    "@nbinclude(\"SolveAiyagari.ipynb\"); # Solves the Aiyagari model\n",
    "@nbinclude(\"Projection.ipynb\");    # Computes the steady-state truncated model\n",
    "@nbinclude(\"Weights.ipynb\");       # Computes the steady-state Lagrange multipliers"
   ]
  },
  {
   "cell_type": "markdown",
   "id": "5ba0a9b1",
   "metadata": {},
   "source": [
    "# Calibration"
   ]
  },
  {
   "cell_type": "code",
   "execution_count": 3,
   "id": "e771ba81",
   "metadata": {},
   "outputs": [],
   "source": [
    "params = Params(\n",
    "    KsY=2.5*4,\n",
    "    α=0.36,\n",
    "    δ=0.025,\n",
    "    γ=1.4,\n",
    "    ϕ=0.5,\n",
    "    χ = 1.0,\n",
    "    ϵ = 6.0,\n",
    "    κ= 20.0, ####  price adjustment not taxe\n",
    "    ν= 10.0,\n",
    "    tl=0.28, #### 0.28\n",
    "    tk=0.36, #tk=0.36\n",
    "    Tt=0.114, #0.104\n",
    "    na=100,\n",
    "    a_min=1e-9, \n",
    "    a_max=1000.0,\n",
    "    curv_a=4.0,\n",
    "    ny=5,\n",
    "    ρy= 0.99, #0.9615 #0.99\n",
    "    σy= 0.123#0.0835#0.123 #0.14059684585185987 #0.835\n",
    "    );"
   ]
  },
  {
   "cell_type": "markdown",
   "id": "367e658d",
   "metadata": {},
   "source": [
    "# Solving the Aiyagari model"
   ]
  },
  {
   "cell_type": "code",
   "execution_count": 4,
   "id": "923d9ceb",
   "metadata": {},
   "outputs": [
    {
     "name": "stdout",
     "output_type": "stream",
     "text": [
      "iteration: 50 0.5266600290235655\n",
      "iteration: 100 1.0\n",
      "iteration: 150 0.014267882645254812\n",
      "iteration: 200 0.12822311533935743\n",
      "iteration: 250 0.008780738647343272\n",
      "iteration: 300 0.002606676703948411\n",
      "iteration: 350 0.0010020149035497078\n",
      "iteration: 400 0.0004093297516392791\n",
      "iteration: 450 0.00016931912269668796\n",
      "iteration: 500 6.982647540395853e-5\n",
      "iteration: 550 2.8573055497736048e-5\n",
      "iteration: 600 1.1594912960923357e-5\n",
      "iteration: 650 4.671049487624437e-6\n",
      "iteration: 700 1.871104405443975e-6\n",
      "iteration: 750 7.465166260166849e-7\n",
      "iteration: 800 2.9708203286041186e-7\n",
      "iteration: 850 1.1806347863646086e-7\n",
      "iteration: 900 4.6894520894797436e-8\n",
      "iteration: 950 1.862638831391128e-8\n",
      "iteration: 1000 7.400617417176227e-9\n",
      "Solved in 1000 iterations\n"
     ]
    }
   ],
   "source": [
    "solution = steady(params);"
   ]
  },
  {
   "cell_type": "markdown",
   "id": "274e5cc7",
   "metadata": {},
   "source": [
    "# Computing the truncated model\n",
    "\n",
    "The following code computes the truncated model with a truncation length $N$ and saves the result as `steady_state_dynare.mat` for running the Dynare code."
   ]
  },
  {
   "cell_type": "code",
   "execution_count": 8,
   "id": "a0cbee2b",
   "metadata": {},
   "outputs": [],
   "source": [
    "N=2\n",
    "proj = Project_plan(N,solution,params);   #computes the steady-state truncated model\n",
    "plan = multi_find(proj,solution, params); #computes steady-state Lagrange multipliers \n",
    "Write_Dynare(proj,solution,params,plan);  #writes the mat file for Dynare \n",
    "describe_solution(solution,params)        #returns a description of the solution"
   ]
  },
  {
   "cell_type": "code",
   "execution_count": null,
   "id": "82f3db2a",
   "metadata": {},
   "outputs": [],
   "source": []
  }
 ],
 "metadata": {
  "kernelspec": {
   "display_name": "Julia 1.8.0",
   "language": "julia",
   "name": "julia-1.8"
  },
  "language_info": {
   "file_extension": ".jl",
   "mimetype": "application/julia",
   "name": "julia",
   "version": "1.8.0"
  }
 },
 "nbformat": 4,
 "nbformat_minor": 5
}
