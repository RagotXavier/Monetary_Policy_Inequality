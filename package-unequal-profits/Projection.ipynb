{
 "cells": [
  {
   "cell_type": "markdown",
   "id": "9caffa80",
   "metadata": {},
   "source": [
    "# Helper functions"
   ]
  },
  {
   "cell_type": "markdown",
   "id": "b6fd59b0",
   "metadata": {},
   "source": [
    "The function `convertBasisE10(vE, E, N)` converts a number expressed in base-`E` (and represented as the vector `vE`) into its decimal representation `p` (as an integer).\n",
    "\n",
    "*Convention:* `vE(1)` represents the idiosyncratic  state in the present period and `vE(N)` represents the past idosyncratic state N-1 periods"
   ]
  },
  {
   "cell_type": "code",
   "execution_count": 3,
   "id": "b3e996fe",
   "metadata": {},
   "outputs": [
    {
     "data": {
      "text/plain": [
       "convertBasisE10 (generic function with 1 method)"
      ]
     },
     "execution_count": 3,
     "metadata": {},
     "output_type": "execute_result"
    }
   ],
   "source": [
    "function convertBasisE10(vE::Vector{I}, E::I)::I where {I<:Integer}\n",
    "# converts the a vector vE into an integer p \n",
    "\n",
    "    @assert (minimum(vE)≥1)&&(maximum(vE)≤E)\n",
    "    \n",
    "    N = length(vE)    \n",
    "    p = one(I) #otherwise p lieas between 0 and (E+1)^N - 1\n",
    "    for k ∈ eachindex(vE)\n",
    "        p += (vE[k]-1)*E^(N-k)\n",
    "    end\n",
    "    return p\n",
    "end"
   ]
  },
  {
   "cell_type": "markdown",
   "id": "eced5f30",
   "metadata": {},
   "source": [
    "The function `convertBasis10E(p, E, N)` converts a number expressed in base-10 (and represented as the integer p) into its base-`E` representation `vE` (as a vector of length `N`). This is the inverse of `convertBasisE10`.\n",
    "\n",
    "*Convention:* `vE(1)` represents the idiosyncratic  state in the present period and `vE(N)` represents the past idosyncratic state N-1 periods"
   ]
  },
  {
   "cell_type": "code",
   "execution_count": 4,
   "id": "9142ee97",
   "metadata": {},
   "outputs": [
    {
     "data": {
      "text/plain": [
       "convertBasis10E (generic function with 1 method)"
      ]
     },
     "execution_count": 4,
     "metadata": {},
     "output_type": "execute_result"
    }
   ],
   "source": [
    "function  convertBasis10E(p::I, E::I, N::I)::Vector{I} where{I<:Integer}\n",
    "\n",
    "    vE = zeros(I, N)    \n",
    "    @assert (p≥1)&&(p≤E^N)\n",
    "    ptemp = p-1;\n",
    "    for k ∈ eachindex(vE)\n",
    "        ptemp, r = divrem(ptemp,E)\n",
    "        vE[N-k+1] = 1+r        \n",
    "    end\n",
    "    return vE\n",
    "end"
   ]
  },
  {
   "cell_type": "markdown",
   "id": "de6ed9d3",
   "metadata": {},
   "source": [
    "The function `myMultSp` multiplies in an efficient way a sparse matrix and s parse vector between specifies indices."
   ]
  },
  {
   "cell_type": "code",
   "execution_count": null,
   "id": "d87f37f4",
   "metadata": {},
   "outputs": [],
   "source": [
    "function myMultSp(M::SparseMatrixCSC{T,I}, V::SparseVector{T,I}, start_i::I, end_i::I, start_j::I, end_j::I)  where{I<:Integer, T<:Real}\n",
    "# Computes the vector U, such that:\n",
    "    # U[start_i:end_i] = M[start_i:end_i:,start_j:end_j] * V[start_j:end_j] and U[i] = 0 if i∉start_j:end_j\n",
    "    \n",
    "    (rowsM, colsM, valsM) = findnz(M)\n",
    "    (colsV, valsV) = findnz(V)\n",
    "    res_iter = start_i:end_i\n",
    "    res_vals = zeros(T, end_i-start_i+1)\n",
    "    for (iM,jM,vM) ∈ zip(rowsM, colsM, valsM)\n",
    "        if (iM ≥ start_i)&&(iM ≤ end_i)&&(jM ≥ start_j)&&(jM ≤ end_j)\n",
    "            jVs = findall(x->x==jM,colsV)\n",
    "            if !(isempty(jVs))                \n",
    "                res_vals[iM-start_i+1] += vM * valsV[jVs[1]]\n",
    "            end\n",
    "        end            \n",
    "    end\n",
    "    \n",
    "    n = sum(res_vals.>1e-16)\n",
    "    toR_iter = zeros(I, n)\n",
    "    toR_vals = zeros(T, n)\n",
    "    count = 0\n",
    "    for (i, v) in enumerate(res_vals)\n",
    "        if v > 1e-16\n",
    "            count +=1\n",
    "            toR_iter[count] = res_iter[i]\n",
    "            toR_vals[count] = v\n",
    "        end\n",
    "    end\n",
    "    toR = sparsevec(toR_iter, toR_vals, length(V))\n",
    "    return (toR_iter, toR_vals, length(V))\n",
    "end;"
   ]
  },
  {
   "cell_type": "markdown",
   "id": "6ae87d97",
   "metadata": {},
   "source": [
    "# Core functions"
   ]
  },
  {
   "cell_type": "markdown",
   "id": "f4aab909",
   "metadata": {},
   "source": [
    "The function `historySizes(N::I, Πy::Matrix{T})` constructs a sparse vector of the size of truncated history.\n",
    "The indices of the sparse vector (i.e. of non zero size) provides the list of non-empty histories"
   ]
  },
  {
   "cell_type": "code",
   "execution_count": null,
   "id": "cab2125b",
   "metadata": {},
   "outputs": [],
   "source": [
    "function historySizes(N::I, Πy::Matrix{T};\n",
    "        maxiter::I=1000000, tol::T=1e-16) where{I<:Integer, T<:Real}\n",
    "    ny = size(Πy,1)\n",
    "    \n",
    "    _, Sy = powm!(Πy', ones(typeof(Πy[1]), ny),maxiter = maxiter,tol = tol)\n",
    "    Sy /= sum(Sy)\n",
    "    Ntot = ny^N #total nb of histories\n",
    "    Sh   = zeros(typeof(Πy[1]), Ntot) # size of truncated histories\n",
    "    y0h   = zeros(I, Ntot) # current productivity indices of history\n",
    "    for i ∈ eachindex(Sh)\n",
    "        vE =  convertBasis10E(i, ny, N)\n",
    "        Sh[i] = Sy[vE[N]] #distribution according to the terminal productity level\n",
    "        y0h[i] = vE[1]\n",
    "        for j = N-1:-1:1\n",
    "            Sh[i] *= Πy[vE[j+1],vE[j]] \n",
    "            # We move backwards and compute the probability to move from productivity \n",
    "            # vE[j] to productivity vE[j+1]\n",
    "        end  \n",
    "    end\n",
    "    ind_h, S_h = findnz(sparsevec(Sh))\n",
    "    return ind_h, S_h, y0h[ind_h]\n",
    "end"
   ]
  },
  {
   "cell_type": "markdown",
   "id": "4139f89d",
   "metadata": {},
   "source": [
    "The function `historyDist(ny::I, N::I, stationaryDist::Matrix{T}, \n",
    "            transitMat::SparseMatrixCSC{T,I})::Matrix{T}` computes a matrix $((na \\times ny), ny^N)$ of the distribution of histories over the product grid asset $\\times$ productivity. More precisely, if `statDist_h = historyDist(ny, N, stationaryDist, transitMat)`, then `statDist_h[:,h]` is the distribution of history `h` over the grid (asset $\\times$ productivity)."
   ]
  },
  {
   "cell_type": "code",
   "execution_count": null,
   "id": "283a7eee",
   "metadata": {},
   "outputs": [],
   "source": [
    "function historyDist(ny::I, N::I, stationaryDist::Matrix{T}, \n",
    "            transitMat::SparseMatrixCSC{T,I})::Matrix{T} where{I<:Integer, T<:Real}\n",
    "    \n",
    "    na = div(size(transitMat,1),ny)\n",
    "    Nh = ny^N\n",
    "    statDist_h = zeros(T, length(stationaryDist), Nh)\n",
    "    temp_v = zeros(T, na)\n",
    "    for i ∈ 1:Nh\n",
    "        vE     = convertBasis10E(i, ny, N)\n",
    "        shift0 = (vE[N]-1)*na\n",
    "        statDist_h[1+shift0:na+shift0,i] =  stationaryDist[:,vE[N]]\n",
    "        for j=N-1:-1:1                \n",
    "            shift1 = (vE[j+1]-1)*na\n",
    "            shift0 = (vE[j]-1)*na\n",
    "            temp_v .= statDist_h[1+shift1:na+shift1,i]\n",
    "            statDist_h[:,i] .= zero(T)\n",
    "            statDist_h[1+shift0:na+shift0,i] .= (\n",
    "                transitMat[1+shift0:na+shift0,1+shift1:na+shift1] * temp_v)\n",
    "        end\n",
    "    end\n",
    "    return statDist_h\n",
    "end"
   ]
  },
  {
   "cell_type": "markdown",
   "id": "1e78e2de",
   "metadata": {},
   "source": [
    "The function `historyTrans(N::I,ind_h::Vector{I},Πy::Matrix{T})` computes the transition matrix over truncated histories (returns a sparse matrix)."
   ]
  },
  {
   "cell_type": "code",
   "execution_count": null,
   "id": "e1a11dfb",
   "metadata": {},
   "outputs": [],
   "source": [
    "function historyTrans(N::I,ind_h::Vector{I},Πy::Matrix{T}) where{I<:Integer,T<:Real}\n",
    "    ny = length(Πy[:,1])\n",
    "    Ntot = length(ind_h)\n",
    "    Πh = spzeros(T,Ntot,Ntot)\n",
    "    for (i,h) ∈ enumerate(ind_h)\n",
    "        vE_h = convertBasis10E(h, ny, N)\n",
    "        for (j,ht) ∈ enumerate(ind_h)\n",
    "            vE_ht = convertBasis10E(ht, ny, N)\n",
    "            if all(vE_ht[2:end] .== vE_h[1:end-1])\n",
    "                Πh[i,j] = Πy[vE_h[1],vE_ht[1]]\n",
    "            end\n",
    "        end\n",
    "    end\n",
    "    return Πh\n",
    "end"
   ]
  },
  {
   "cell_type": "markdown",
   "id": "755a0ce9",
   "metadata": {},
   "source": [
    "The function `credit_constrained_h(shareCC::T, S_h::Vector{T}, c_h::Vector{T};method::String=\"first larger\")` computes the number of credit-constrained histories (and returns their indices). \n",
    "* `shareCC` is the target for the share of credit-constrained households;\n",
    "* `S_h` is the vector of history sizes;\n",
    "* `c_h` is the vactor along which households are ranked."
   ]
  },
  {
   "cell_type": "code",
   "execution_count": null,
   "id": "b5a2bf7a",
   "metadata": {},
   "outputs": [],
   "source": [
    "function credit_constrained_h(shareCC::T, S_h::Vector{T}, c_h::Vector{T};method::String=\"first larger\") where{T<:Real}\n",
    "\n",
    "    ind_c_indiv = sortperm(c_h)\n",
    "    S_h_sorted = S_h[ind_c_indiv]\n",
    "    if method==\"closest\"\n",
    "        i_cc = argmin(abs.(cumsum(S_h_sorted) .- shareCC)) #closest distance\n",
    "    else #(method==\"first larger\")\n",
    "        i_cc = findfirst(x->x>0.0, cumsum(S_h_sorted) .- shareCC)#at least as large\n",
    "    end\n",
    "    return i_cc, ind_c_indiv[1:i_cc]\n",
    "end"
   ]
  },
  {
   "cell_type": "markdown",
   "id": "43815c18",
   "metadata": {},
   "source": [
    "The function `Project_plan(N::Integer, # length of the truncation\n",
    "                      solution::AiyagariSolution, \n",
    "                      params::Params)` returns the truncated model (a `Projection` structure)\n",
    "* `Ǹ` is the truncation length;\n",
    "* `solution` is the steady-state solution of the Aiyagari mode;\n",
    "* `params` is the economy parameters."
   ]
  },
  {
   "cell_type": "code",
   "execution_count": null,
   "id": "dcc2a230",
   "metadata": {},
   "outputs": [],
   "source": [
    "function Project_plan(N::Integer, # length of the truncation\n",
    "                      solution::AiyagariSolution, \n",
    "                      params::Params;\n",
    "                      maxiter=1000000,tol=1e-16)\n",
    "    @unpack β,α,δ,tk,tl,u,u′,u′′,v,v′,l_supply,na,a_min,aGrid,ny,ys,Πy = params\n",
    "    @unpack ga,gc,gl,R,w, A,K,L,transitMat,stationaryDist,residEuler = solution\n",
    "    (ind_h, S_h, ind_y0_h) = historySizes(N, Πy)\n",
    "    y0_h = [ys[i] for i in ind_y0_h]\n",
    "    T = typeof(Πy[1,1])\n",
    "    statDist_h = historyDist(ny, N, stationaryDist, transitMat)[:,ind_h]\n",
    "    Ntot = length(ind_h)#nb of history with positive size\n",
    "    Π_h = historyTrans(N,ind_h,Πy)\n",
    "    \n",
    "    #Compute allocations\n",
    "    c_h       = sum(statDist_h .* repeat(gc[:],1,Ntot), dims=1)[:]./S_h   \n",
    "    l_h       = sum(statDist_h .* repeat(gl[:],1,Ntot), dims=1)[:]./S_h\n",
    "    a_beg_h   = sum(statDist_h .* repeat(aGrid[:],ny,Ntot), dims=1)[:]./S_h\n",
    "    a_end_h   = sum(statDist_h .* repeat(ga[:],1,Ntot), dims=1)[:]./S_h\n",
    "    u_h       = sum(statDist_h .* repeat(u.(gc[:]),1,Ntot), dims=1)[:]./S_h\n",
    "    u′_h      = sum(statDist_h .* repeat(u′.(gc[:]),1,Ntot), dims=1)[:]./S_h\n",
    "    u′′_h     = sum(statDist_h .* repeat(u′′.(gc[:]),1,Ntot), dims=1)[:]./S_h\n",
    "    v_h       = sum(statDist_h .* repeat(v.(gl[:]),1,Ntot), dims=1)[:]./S_h\n",
    "    v′_h      = sum(statDist_h .* repeat(v′.(gl[:]),1,Ntot), dims=1)[:]./S_h\n",
    "    ly_h  = sum(statDist_h .* repeat(((repeat(ys',na,1).*gl)[:]),1,Ntot), dims=1)[:]./S_h\n",
    "    resid_E_h = sum(statDist_h .* repeat(residEuler[:],1,Ntot), dims=1)[:]./S_h\n",
    "    \n",
    "    #Define credit constrained histories\n",
    "    share_cc = sum(stationaryDist[1,:]) #Share of credit constrained agents\n",
    "    nb_cc_h, ind_cc_h = credit_constrained_h(share_cc, S_h, c_h;method=\"first larger\")\n",
    "    \n",
    "    allocation_proj = Allocation_proj(\n",
    "        S_h=S_h,\n",
    "        Π_h=Π_h,\n",
    "        y0_h=y0_h,\n",
    "        a_beg_h=a_beg_h,\n",
    "        a_end_h=a_end_h,\n",
    "        c_h=c_h,\n",
    "        l_h=l_h,\n",
    "        ly_h=ly_h,\n",
    "        u_h=u_h,\n",
    "        u′_h=u′_h,\n",
    "        u′′_h=u′′_h,\n",
    "        v_h=v_h,\n",
    "        v′_h=v′_h,\n",
    "        resid_E_h=resid_E_h,\n",
    "        nb_cc_h=nb_cc_h,\n",
    "        ind_cc_h=ind_cc_h)\n",
    "    \n",
    "    ξu0 = u_h./u.(c_h)\n",
    "    ξu1 = u′_h./u′.(c_h)\n",
    "    ξu2 = u′′_h./u′′.(c_h)\n",
    "    ξuE = ((I-β*R*Π_h)\\resid_E_h)./u′.(c_h)\n",
    "    ξy  = ly_h./(y0_h.*l_h)\n",
    "    ξv0 = v_h./v.(l_h)\n",
    "    ξv1 = w*y0_h.*u′_h./(v′.(l_h)) #(equivalent to τ*w*ξy*.(y0_h.*l_h).^τ?*ξu1.*u′.(c_h)./l_h)\n",
    "    \n",
    "    ξs = ξs_struct(\n",
    "        ξu0=ξu0,\n",
    "        ξu1=ξu1,\n",
    "        ξu2=ξu2,\n",
    "        ξuE=ξuE,\n",
    "        ξy=ξy,\n",
    "        ξv0=ξv0,\n",
    "        ξv1=ξv1)\n",
    "    \n",
    "    return Projection(\n",
    "        N = N,\n",
    "        Ntot = Ntot,\n",
    "        ind_h=ind_h,\n",
    "        allocation_proj = allocation_proj,\n",
    "        ξs = ξs)\n",
    "\n",
    "end"
   ]
  }
 ],
 "metadata": {
  "kernelspec": {
   "display_name": "Julia 1.8.0",
   "language": "julia",
   "name": "julia-1.8"
  },
  "language_info": {
   "file_extension": ".jl",
   "mimetype": "application/julia",
   "name": "julia",
   "version": "1.8.0"
  }
 },
 "nbformat": 4,
 "nbformat_minor": 5
}
