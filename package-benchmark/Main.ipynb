{
 "cells": [
  {
   "cell_type": "markdown",
   "id": "5fb82f31",
   "metadata": {},
   "source": [
    "# Loading packages"
   ]
  },
  {
   "cell_type": "code",
   "execution_count": 1,
   "id": "c8afd1f9",
   "metadata": {},
   "outputs": [],
   "source": [
    "using Parameters       # @unpack\n",
    "using QuantEcon        # rouwenhorst\n",
    "using LinearAlgebra    # dot\n",
    "using Roots            # findzero\n",
    "using SparseArrays     # SparseMatrixCSC\n",
    "using IterativeSolvers # powm!\n",
    "using Plots            # Plots\n",
    "using NBInclude        # including notebooks instead of jl files\n",
    "using MAT              # write the .m file "
   ]
  },
  {
   "cell_type": "markdown",
   "id": "8608930c",
   "metadata": {},
   "source": [
    "# Loading external notebooks"
   ]
  },
  {
   "cell_type": "code",
   "execution_count": 6,
   "id": "4d0e9cbe",
   "metadata": {},
   "outputs": [],
   "source": [
    "@nbinclude(\"Structures.ipynb\");    # Structures and parameter calibration from targets\n",
    "@nbinclude(\"Utils.ipynb\");         # Some useful functions\n",
    "@nbinclude(\"SolveAiyagari.ipynb\"); # Solves the Aiyagari model\n",
    "@nbinclude(\"Projection.ipynb\");    # Computes the steady-state truncated model\n",
    "@nbinclude(\"Weights.ipynb\");       # Computes the steady-state Lagrange multipliers"
   ]
  },
  {
   "cell_type": "markdown",
   "id": "95f11258",
   "metadata": {},
   "source": [
    "# Calibration"
   ]
  },
  {
   "cell_type": "code",
   "execution_count": 7,
   "id": "e771ba81",
   "metadata": {},
   "outputs": [],
   "source": [
    "params = Params(\n",
    "    KsY=2.5*4,\n",
    "    α=0.36,\n",
    "    δ=0.025,\n",
    "    γ=1.,\n",
    "    ϕ=0.5,\n",
    "    χ = 1.0,\n",
    "    ϵ = 6.0,\n",
    "    κ= 100.0,\n",
    "    tl=0.28, \n",
    "    tk=0.36, \n",
    "    Tt=0.114,\n",
    "    na=100,\n",
    "    a_min=1e-9, \n",
    "    a_max=1000.0,\n",
    "    curv_a=4.0,\n",
    "    ny=5,\n",
    "    ρy= 0.99, \n",
    "    σy= 0.123\n",
    "    );"
   ]
  },
  {
   "cell_type": "markdown",
   "id": "eed9276f",
   "metadata": {},
   "source": [
    "# Solving the Aiyagari model"
   ]
  },
  {
   "cell_type": "code",
   "execution_count": 8,
   "id": "8bfe4d7b",
   "metadata": {},
   "outputs": [
    {
     "name": "stdout",
     "output_type": "stream",
     "text": [
      "iteration: 50 0.09568587041670695\n",
      "iteration: 100 0.030022482264500563\n",
      "iteration: 150 0.0072569600170772925\n",
      "iteration: 200 0.0028468441483664435\n",
      "iteration: 250 0.0016444734013053403\n",
      "iteration: 300 0.0007640979841305837\n",
      "iteration: 350 0.0003120000000505593\n",
      "iteration: 400 0.00011848289549371028\n",
      "iteration: 450 4.314978345489052e-5\n",
      "iteration: 500 1.532034874196381e-5\n",
      "iteration: 550 5.355401936159087e-6\n",
      "iteration: 600 1.8552842297577143e-6\n",
      "iteration: 650 6.399030669226624e-7\n",
      "iteration: 700 2.2040069873057368e-7\n",
      "iteration: 750 7.593799469811634e-8\n",
      "iteration: 800 2.6193112559287657e-8\n",
      "iteration: 850 9.046087883550571e-9\n",
      "Solved in 850 iterations\n"
     ]
    }
   ],
   "source": [
    "solution = steady(params);"
   ]
  },
  {
   "cell_type": "markdown",
   "id": "274e5cc7",
   "metadata": {},
   "source": [
    "# Computing the truncated model\n",
    "\n",
    "The following code computes the truncated model with a truncation length $N$ and saves the result as `steady_state_dynare.mat` for running the Dynare code."
   ]
  },
  {
   "cell_type": "code",
   "execution_count": 11,
   "id": "a0cbee2b",
   "metadata": {},
   "outputs": [
    {
     "data": {
      "text/plain": [
       "Dict{String, Float64} with 11 entries:\n",
       "  \"total tax/Y\"                 => 0.228864\n",
       "  \"Share of constrained agents\" => 0.194328\n",
       "  \"L\"                           => 0.391889\n",
       "  \"MPC\"                         => 0.172001\n",
       "  \"I/Y\"                         => 0.25\n",
       "  \"C/Y\"                         => 0.628753\n",
       "  \"Gini\"                        => 0.730188\n",
       "  \"G/Y\"                         => 0.121247\n",
       "  \"B/Y\"                         => 0.635375\n",
       "  \"Transfers/Y\"                 => 0.0796604\n",
       "  \"K/Y\"                         => 10.0"
      ]
     },
     "execution_count": 11,
     "metadata": {},
     "output_type": "execute_result"
    }
   ],
   "source": [
    "N=2\n",
    "proj = Project_plan(N,solution,params);   #computes the steady-state truncated model\n",
    "plan = multi_find(proj,solution, params); #computes steady-state Lagrange multipliers \n",
    "Write_Dynare(proj,solution,params,plan);  #writes the mat file for Dynare \n",
    "describe_solution(solution,params)        #returns a description of the solution"
   ]
  },
  {
   "cell_type": "code",
   "execution_count": null,
   "id": "e651a970",
   "metadata": {},
   "outputs": [],
   "source": []
  }
 ],
 "metadata": {
  "kernelspec": {
   "display_name": "Julia 1.8.0",
   "language": "julia",
   "name": "julia-1.8"
  },
  "language_info": {
   "file_extension": ".jl",
   "mimetype": "application/julia",
   "name": "julia",
   "version": "1.8.0"
  }
 },
 "nbformat": 4,
 "nbformat_minor": 5
}
