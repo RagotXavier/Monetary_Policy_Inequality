{
 "cells": [
  {
   "cell_type": "code",
   "execution_count": 1,
   "id": "c8afd1f9",
   "metadata": {},
   "outputs": [],
   "source": [
    "using Parameters       # @unpack\n",
    "using QuantEcon        # rouwenhorst\n",
    "using LinearAlgebra    # dot\n",
    "using Roots            # findzero\n",
    "using SparseArrays     # SparseMatrixCSC\n",
    "using IterativeSolvers # powm!\n",
    "using Plots            # Plots\n",
    "using NBInclude        # including notebooks instead of jl files\n",
    "using MAT              ####  write the .m file \n",
    "using DataFrames\n",
    "using Printf\n",
    "\n"
   ]
  },
  {
   "cell_type": "code",
   "execution_count": 2,
   "id": "4d0e9cbe",
   "metadata": {},
   "outputs": [],
   "source": [
    "@nbinclude(\"Structures_Reiter_Comp.ipynb\");\n",
    "@nbinclude(\"Utils_Reiter_Comp.ipynb\");\n",
    "@nbinclude(\"SolveAiyagari_Reiter_Comp.ipynb\");"
   ]
  },
  {
   "cell_type": "code",
   "execution_count": 3,
   "metadata": {},
   "outputs": [
    {
     "data": {
      "text/plain": [
       "1.0044102383608413"
      ]
     },
     "metadata": {},
     "output_type": "display_data"
    }
   ],
   "source": [
    "params = Params(\n",
    "    Rt=1.0, #### Will be determined \n",
    "    β=0.99,\n",
    "    α=0.36,\n",
    "    δ=0.025,\n",
    "    γ=1.,\n",
    "    ϕ=0.5,\n",
    "    χ = 1.0,\n",
    "    ϵ = 6.0,\n",
    "    κ= 100.0, #### price adjustment not taxe\n",
    "    tl=0.00, #### 0.28\n",
    "    tk=0.00, #tk=0.36\n",
    "    Tt=0.00, #0.104\n",
    "    na=100,\n",
    "    a_min=1e-9, \n",
    "    a_max=1000.0,\n",
    "    curv_a=4.0,\n",
    "    ny=5,\n",
    "    ρy= 0.99, #0.9615 #0.99\n",
    "    σy= 0.123#0.0835#0.123 #0.14059684585185987 #0.835\n",
    "    );\n",
    "\n",
    "# R_opti = find_zero(find_KSL, (1.004,1.005)) # Uncomment if params is changed \n",
    "R_opti =  1.0044102383608413\n"
   ]
  },
  {
   "cell_type": "code",
   "execution_count": 9,
   "id": "61017e7e",
   "metadata": {},
   "outputs": [
    {
     "name": "stdout",
     "output_type": "stream",
     "text": [
      "Solved in 800 iterations\n"
     ]
    },
    {
     "data": {
      "text/plain": [
       "Dict{String, Float64} with 11 entries:\n",
       "  \"total tax/Y\"                 => 0.0\n",
       "  \"Share of constrained agents\" => 0.194226\n",
       "  \"L\"                           => 0.361034\n",
       "  \"MPC\"                         => 0.146496\n",
       "  \"I/Y\"                         => 0.306016\n",
       "  \"C/Y\"                         => 0.693984\n",
       "  \"Gini\"                        => 0.734675\n",
       "  \"G/Y\"                         => 2.70567e-15\n",
       "  \"B/Y\"                         => -2.0984e-13\n",
       "  \"Transfers/Y\"                 => 0.0\n",
       "  \"K/Y\"                         => 12.2406"
      ]
     },
     "metadata": {},
     "output_type": "display_data"
    }
   ],
   "source": [
    "\n",
    "####################################\n",
    "## STEADY-STATE 3 PROJECTIONS\n",
    "####################################\n",
    "\n",
    "params_opti = Params(\n",
    "    Rt=R_opti,\n",
    "    β=0.99,\n",
    "    α=0.36,\n",
    "    δ=0.025,\n",
    "    γ=1.,\n",
    "    ϕ=0.5,\n",
    "    χ = 1.0,\n",
    "    ϵ = 6.0,\n",
    "    κ= 100.0, #### price adjustment not taxe\n",
    "    tl=0.00, #### 0.28\n",
    "    tk=0.00, #tk=0.36\n",
    "    Tt=0.00, #0.104\n",
    "    na=100,\n",
    "    a_min=1e-9, \n",
    "    a_max=1000.0,\n",
    "    curv_a=4.0,\n",
    "    ny=5,\n",
    "    ρy= 0.99, #0.9615 #0.99\n",
    "    σy= 0.123#0.0835#0.123 #0.14059684585185987 #0.835\n",
    "    );\n",
    "        \n",
    "solution_opti = steady(params_opti);\n",
    "describe_solution(solution_opti,params_opti)\n"
   ]
  },
  {
   "cell_type": "markdown",
   "id": "5eb46b57",
   "metadata": {},
   "source": [
    "# Refined Truncation"
   ]
  },
  {
   "cell_type": "code",
   "execution_count": 18,
   "id": "9e56af40",
   "metadata": {},
   "outputs": [],
   "source": [
    "## Truncation Refined\n",
    "\n",
    "@nbinclude(\"Projection_refined_Reiter_Comp.ipynb\");\n",
    "Vidio = repeat([20],params.ny)\n",
    "\n",
    "N=5;\n",
    "proj_refined = refinedProject_plan(N,Vidio,solution_opti,params_opti,new_ξs=false)\n",
    "Write_Dynare(proj_refined,solution_opti,params_opti,\"Refined\")"
   ]
  },
  {
   "cell_type": "code",
   "execution_count": 16,
   "id": "b7c75667",
   "metadata": {},
   "outputs": [
    {
     "data": {
      "text/plain": [
       "25-element Vector{Float64}:\n",
       " 0.98014999875\n",
       " 0.01970149750000002\n",
       " 0.00014850375000000028\n",
       " 0.0\n",
       " 0.0\n",
       " 0.004925374375000005\n",
       " 0.9802238768749999\n",
       " 0.014776496250000014\n",
       " 7.425250000000014e-5\n",
       " 0.0\n",
       " ⋮\n",
       " 7.425250000000014e-5\n",
       " 0.014776496250000014\n",
       " 0.980223876875\n",
       " 0.004925374375000005\n",
       " 0.0\n",
       " 0.0\n",
       " 0.00014850375000000028\n",
       " 0.01970149750000002\n",
       " 0.98014999875"
      ]
     },
     "metadata": {},
     "output_type": "display_data"
    }
   ],
   "source": [
    "ρy= 0.99 \n",
    "σy= 0.123\n",
    "\n",
    "\n",
    "mc    = rouwenhorst(params_opti.ny, ρy, σy)\n",
    "Trans = collect(mc.p')\n",
    "Trans[findall(x->x<=5*10^-5,Trans)] .= zero(Trans[1,1])\n",
    "for i = 1:params_opti.ny\n",
    "    Trans[i,i] += one(Trans[1,1]) - sum(Trans,dims=1)[i]\n",
    "end\n",
    "\n",
    "Transv = vec(Trans)\n"
   ]
  },
  {
   "cell_type": "code",
   "execution_count": 17,
   "id": "fe5a83f4",
   "metadata": {},
   "outputs": [],
   "source": [
    "\n",
    "@nbinclude(\"Projection_Reiter_Comp.ipynb\")\n",
    "Vind,Wind,resE,apol,cpol,lpol = Projection_Reiter(params_opti,solution_opti)\n",
    "ytype = kron(collect(StepRange(1, Int8(1), params_opti.ny)),ones(Int64,params_opti.na)); # on the initial grid\n",
    "\n",
    "\n",
    "file = matopen(\"../dynamics/todynare_Comp_Reiter.mat\", \"w\")\n",
    "\n",
    "write(file, \"alpha\", params_opti.α)\n",
    "write(file, \"beta\", params_opti.β)\n",
    "write(file, \"delta\", params_opti.δ)\n",
    "write(file, \"gamma\", params_opti.γ)\n",
    "write(file, \"chi\", params_opti.χ)\n",
    "write(file, \"phi\", params_opti.ϕ)      \n",
    "write(file, \"Trans\", reshape(Transv,params_opti.ny,params_opti.ny))\n",
    "write(file, \"abar\", minimum(params_opti.aGrid))\n",
    "write(file, \"ys\", params_opti.ys)\n",
    "write(file, \"Vind\", Vind)\n",
    "write(file, \"Wind\", Wind)\n",
    "write(file, \"resE\", resE)\n",
    "write(file, \"na\", params_opti.na)\n",
    "write(file, \"ny\", params_opti.ny)\n",
    "write(file, \"ytype\", ytype)\n",
    "write(file, \"apol\", apol') # policy rule ap(a) ie Va'\n",
    "write(file, \"aGrid\", repeat(params_opti.aGrid,params_opti.ny*2))\n",
    "write(file, \"D_ss\", vec(solution_opti.stationaryDist))\n",
    "write(file, \"Cpol\",cpol')\n",
    "write(file, \"Lpol\",lpol')\n",
    "write(file, \"polA_ss\",vec(solution_opti.ga))\n",
    "write(file, \"w\",solution_opti.w)\n",
    "write(file, \"R\",solution_opti.R)\n",
    "write(file, \"A\",solution_opti.A)\n",
    "write(file, \"K\",solution_opti.K)\n",
    "write(file, \"Ltot\",solution_opti.L)\n",
    "write(file, \"Ctot\",solution_opti.C)\n",
    "write(file, \"B\",solution_opti.B)\n",
    "write(file, \"Resid\",solution_opti.residEuler)\n",
    "close(file)\n"
   ]
  }
 ],
 "metadata": {
  "kernelspec": {
   "display_name": "Julia 1.10.0",
   "language": "julia",
   "name": "julia-1.10"
  },
  "language_info": {
   "file_extension": ".jl",
   "mimetype": "application/julia",
   "name": "julia",
   "version": "1.10.0"
  }
 },
 "nbformat": 4,
 "nbformat_minor": 5
}
