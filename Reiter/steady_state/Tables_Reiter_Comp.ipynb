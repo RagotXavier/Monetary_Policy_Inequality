{
 "cells": [
  {
   "cell_type": "code",
   "execution_count": null,
   "metadata": {},
   "outputs": [],
   "source": [
    "using Parameters       # @unpack\n",
    "using QuantEcon        # rouwenhorst\n",
    "using LinearAlgebra    # dot\n",
    "using Roots            # findzero\n",
    "using SparseArrays     # SparseMatrixCSC\n",
    "using IterativeSolvers # powm!\n",
    "using Plots            # Plots\n",
    "using NBInclude        # including notebooks instead of jl files\n",
    "using MAT              ####  write the .m file \n",
    "using DataFrames\n",
    "using Printf\n",
    "\n"
   ]
  },
  {
   "cell_type": "code",
   "execution_count": null,
   "metadata": {},
   "outputs": [],
   "source": [
    "@nbinclude(\"Structures_Reiter_Comp.ipynb\");\n",
    "@nbinclude(\"Utils_Reiter_Comp.ipynb\");\n",
    "@nbinclude(\"SolveAiyagari_Reiter_Comp.ipynb\");"
   ]
  },
  {
   "cell_type": "markdown",
   "metadata": {},
   "source": [
    "## APPENDIX F"
   ]
  },
  {
   "cell_type": "markdown",
   "metadata": {},
   "source": [
    "### TABLE 11 "
   ]
  },
  {
   "cell_type": "code",
   "execution_count": null,
   "metadata": {},
   "outputs": [],
   "source": [
    "describe_simulation(\"Refined\",1) "
   ]
  },
  {
   "cell_type": "code",
   "execution_count": null,
   "metadata": {},
   "outputs": [],
   "source": [
    "describe_simulation(\"Reiter\",1) \n"
   ]
  },
  {
   "cell_type": "markdown",
   "metadata": {},
   "source": [
    "### Table 12"
   ]
  },
  {
   "cell_type": "code",
   "execution_count": null,
   "metadata": {},
   "outputs": [],
   "source": [
    "######### TABLEAU AVERAGE AND MAX ABSOLUTE DIFFERENCE BETWWEN SIMULATION METHODS #########\n",
    "function custom_display(df::DataFrame)\n",
    "    io = IOContext(stdout, :compact => true, :scientific => 1.0e-4)\n",
    "    show(io, \"text/plain\", df)\n",
    "end\n",
    "\n",
    "\n",
    "file_diff = matopen(\"../dynamics/diff_Reiter.mat\")\n",
    "file_diff = read(file_diff) \n",
    "\n",
    "df_diff = DataFrame(Variable=vec(file_diff[\"list_var\"]), Mean_Diff=[@sprintf(\"%.2e\", x) for x in vec(file_diff[\"mean_diff\"])], Max_Diff=[@sprintf(\"%.2e\", x) for x in vec(file_diff[\"max_diff\"]) ])\n",
    "\n",
    "\n",
    "custom_display(df_diff)\n",
    "\n"
   ]
  }
 ],
 "metadata": {
  "kernelspec": {
   "display_name": "Julia 1.10.0",
   "language": "julia",
   "name": "julia-1.10"
  },
  "language_info": {
   "file_extension": ".jl",
   "mimetype": "application/julia",
   "name": "julia",
   "version": "1.10.0"
  }
 },
 "nbformat": 4,
 "nbformat_minor": 2
}
