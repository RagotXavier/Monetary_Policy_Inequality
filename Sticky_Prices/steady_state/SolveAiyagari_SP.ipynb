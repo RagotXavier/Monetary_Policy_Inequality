{
 "cells": [
  {
   "cell_type": "markdown",
   "metadata": {},
   "source": [
    "# Packages"
   ]
  },
  {
   "cell_type": "markdown",
   "metadata": {},
   "source": [
    "using Parameters       # @unpack\n",
    "using QuantEcon        # rouwenhorst\n",
    "using LinearAlgebra    # dot\n",
    "using Roots            # findzero\n",
    "using SparseArrays     # SparseMatrixCSC\n",
    "using IterativeSolvers # powm!\n",
    "using Plots            # Plots\n",
    "using NBInclude        # including notebooks instead of jl files"
   ]
  },
  {
   "cell_type": "markdown",
   "metadata": {},
   "source": [
    "# Including structs and related constructors\n",
    "\n",
    "We introduce two structures. \n",
    "* `Parameters` is an immutable struct containing the parameters of the model and of the resolution.\n",
    "* `AiyagariSolution` is a mutable struct containing the solution of the model (policy functions, stationary distribution, prices and aggregate quantities). \n",
    "\n",
    "Besides the natural constructors, we introduce one special constructor for each structure. These special constructors can be seen as calibration devices. \n",
    "\n",
    "## Calibration constructor for parameter structure `Param`\n",
    "``` \n",
    "Params(\n",
    "    KsY::T, #Capital-to-output ratio. Used to calibrate β and χ \n",
    "             by assuming βR=1 at the steady state and assuming an \n",
    "             aggregate labor supply normalized to 1/3\n",
    "    α::T,   # Capital param. in the Cobb Douglas prod. function. \n",
    "    δ::T,   # Capital depreciation\n",
    "    γ::T,   # IES inverse (for consumption)\n",
    "    ϕ::T,   # Labor elasticity\n",
    "    κ::T,   # The labor income taxation is such that an agent\n",
    "    tk::T,  # capital tax\n",
    "    na::I,  # number of points on the asset grid\n",
    "    a_min::T,   # minimal asset holdings\n",
    "    a_max::T,   # maximal asset holding\n",
    "    curv_a::T,  # curvature of the exponential asset grid \n",
    "                # The grid is then constructed using these \n",
    "                # elements\n",
    "    ny::I,  # nb of productivity levels\n",
    "    ρy::T,  # annual persistence of the productivity process, \n",
    "            # assuming it is an AR(1). It is then discretized at \n",
    "            # a quarterly frequency using the Rouwenhorst (1995)\n",
    "            # procedure (run in when callling the constructor).\n",
    "    σ2y::T  # annual variance of the productivity process, also\n",
    "            # used in the Rouwenhorst procedure. \n",
    "    )\n",
    "```\n",
    "\n",
    "\n"
   ]
  },
  {
   "cell_type": "markdown",
   "metadata": {},
   "source": [
    "We include the `Structures.ipynb` notebook that contains  the two structures previously mentionned. We use the package `NBInclude` for being able to include notebooks. This is simply more convenient for an html presentation."
   ]
  },
  {
   "cell_type": "markdown",
   "metadata": {},
   "source": [
    "@nbinclude(\"Structures.ipynb\");"
   ]
  },
  {
   "cell_type": "markdown",
   "metadata": {},
   "source": [
    "We also import some useful functions (computing the Gini coefficient, etc.) of the notebook `Utils.ipynb`."
   ]
  },
  {
   "cell_type": "markdown",
   "metadata": {},
   "source": [
    "@nbinclude(\"Utils.ipynb\");"
   ]
  },
  {
   "cell_type": "markdown",
   "metadata": {},
   "source": [
    "# Computation of policy functions by EGM method"
   ]
  },
  {
   "cell_type": "markdown",
   "metadata": {},
   "source": [
    "## First helper function\n",
    "\n",
    "The first function `interpLinear` is a linear interpolation function, that is more specialized and hence slightly faster than the interpolation function of the `LinearInterpolation` package.\n",
    "\n",
    "The function specification is `interpLinear(x, xs, ys, n, lb)` where:\n",
    "* `x` is a scalar where the interpolation is computed;\n",
    "* `xs` and `ys` are sorted vectors such that `(xs[i], ys[i])` for `i=1,...,n` is a set of `n` known points;\n",
    "* `n` is the common length of vectors `xs` and `ys`;\n",
    "* `lb` is the lower bound for the truncation of the interpolation. If the interpolation result is lower than lb, the interpolation is trauncated to lb.\n",
    "\n",
    "The function returns a pair containing:\n",
    "* a scalar corresponding to the interpolated value (truncated if needed);\n",
    "* an index `np` which is such that the interpolation is performed between indices `np` and `np+1`."
   ]
  },
  {
   "cell_type": "code",
   "execution_count": 1,
   "metadata": {},
   "outputs": [
    {
     "data": {
      "text/plain": [
       "interpLinear (generic function with 1 method)"
      ]
     },
     "metadata": {},
     "output_type": "display_data"
    }
   ],
   "source": [
    "function interpLinear(x::T, \n",
    "                      xs::Vector{T},\n",
    "                      ys::Vector{T}, \n",
    "                      n::I, lb_y::T)::Tuple{T,I} where{T<:Real,I<:Integer}\n",
    "   \n",
    "    nx = searchsortedlast(xs, x) \n",
    "    #np is the largest index such that xs[np]≤x (and hence xs[np+1]>x). Returns 0 if x≤xs[1]. xs sorted.\n",
    "        \n",
    "    #Adjust nx if x falls out of bounds of xs\n",
    "    if nx == 0\n",
    "        nx += 1\n",
    "    elseif (nx==n)\n",
    "        nx -= 1\n",
    "    end    \n",
    "\n",
    "    # Linear interpolation in x between xs[nx] and xs[nx+1]\n",
    "    x_l,x_h = xs[nx],xs[nx+1]\n",
    "    y_l,y_h = ys[nx],ys[nx+1]\n",
    "    y = y_l + (y_h-y_l)/(x_h-x_l)*(x-x_l) \n",
    "    \n",
    "    # returns interpolated value and corresponding index\n",
    "    return ((y<lb_y) ? lb_y : y), nx\n",
    "    \n",
    "end"
   ]
  },
  {
   "cell_type": "markdown",
   "metadata": {},
   "source": [
    "## Second helper function\n",
    "\n",
    "The second function is `update_cEGM!(solution, params)`, where:\n",
    "* `solution::AiyagariSolution` is a mutable `struct` `AiyagariSolution` which is updated by the function;\n",
    "* `params::Params` is a immutable `struct` `Params` which contains economy parameters.\n",
    "\n",
    "The function updates the consumption policy function `gc` (in `solution`) using:\n",
    "* previous period savings `agrid` (in `params`), \n",
    "* current savings policy function `ga` (in `solution`), \n",
    "* model parameters in `params`.    "
   ]
  },
  {
   "cell_type": "code",
   "execution_count": null,
   "metadata": {},
   "outputs": [],
   "source": [
    "function update_cEGM!(solution::AiyagariSolution,\n",
    "                      params::Params)::Nothing\n",
    "    \n",
    "    @unpack Tt, u′,l_supply,na,a_min,aGrid,ny,ys = params\n",
    "    @unpack ga,R,w = solution\n",
    "    cs = similar(ga)\n",
    "\n",
    "    for iy = 1:ny\n",
    "        for ia = 1:na\n",
    "            cs[ia,iy] = find_zero(c -> c-(R*aGrid[ia] + \n",
    "                w*(ys[iy]*l_supply(w,ys[iy],u′(c)))\n",
    "                -interpLinear(aGrid[ia], ga[:,iy], aGrid, na, a_min)[1] + Tt),\n",
    "                one(w))\n",
    "            # we solve for the agent's budget constraint (a fsolve is needed because\n",
    "            # of the labor supply Euler equation). We use a linear interpolation for the\n",
    "            # saving policy function -- which is somewhat 'inverted' because of the EGM\n",
    "            # solution.\n",
    "        end\n",
    "    end\n",
    "    solution.gc = cs\n",
    "    return nothing\n",
    "end;"
   ]
  },
  {
   "cell_type": "markdown",
   "metadata": {},
   "source": [
    "## Third helper function\n",
    "\n",
    "\n",
    "The third function is `EulerBackEGM!(solution, params)`, where (as before):\n",
    "* `solution::AiyagariSolution` is a mutable `struct` `AiyagariSolution` which is updated by the function;\n",
    "* `params::Params` is a immutable `struct` `Params` which contains economy parameters.\n",
    "\n",
    "The function updates the policy functions for savings `ga`, for consumption `gc`, and for labor supply `gl` (all of them in `solution`) using the Euler equations for labor and consumption."
   ]
  },
  {
   "cell_type": "code",
   "execution_count": null,
   "metadata": {},
   "outputs": [],
   "source": [
    "function EulerBackEGM!(solution::AiyagariSolution,\n",
    "                       params::Params)::Nothing\n",
    "    \n",
    "    @unpack β,Tt,u′,inv_u′,l_supply,na,aGrid,ny,ys,Πy = params\n",
    "    update_cEGM!(solution, params) \n",
    "    @unpack gc,R,w = solution\n",
    "    \n",
    "    u′s_next = similar(gc)\n",
    "    u′s_next .= u′.(gc)\n",
    "    Eu′s = similar(gc)\n",
    "    Eu′s .= β*R*u′s_next*Πy'\n",
    "    \n",
    "    cs = similar(gc)\n",
    "    ls = similar(gc)    \n",
    "    as = similar(gc)\n",
    "    \n",
    "    cs .= inv_u′.(Eu′s)\n",
    "    for ia = 1:na\n",
    "        for iy = 1:ny\n",
    "            ls[ia,iy] = l_supply(w,ys[iy],Eu′s[ia,iy]) \n",
    "            as[ia,iy] = (aGrid[ia] + cs[ia,iy] -Tt - w*(ys[iy]*ls[ia,iy]))/R                 \n",
    "        end\n",
    "    end\n",
    "    # as is a(a')\n",
    "    # cs is c(a')\n",
    "    # ls is l(a')\n",
    "    \n",
    "    # updates policy function in solution\n",
    "    solution.gc .= cs\n",
    "    solution.ga .= as\n",
    "    solution.gl .= ls\n",
    "    return nothing\n",
    "end;"
   ]
  },
  {
   "cell_type": "markdown",
   "metadata": {},
   "source": [
    "## Final function computing policy functions\n",
    "\n",
    "\n",
    "The final function (the one actually computing policy functions) is `SolveEGM!(solution, params; tol::Float64=1e-6, maxiter::Int64=10000)`, where (as before):\n",
    "* `solution::AiyagariSolution` is a mutable `struct` `AiyagariSolution` which is updated by the function;\n",
    "* `params::Params` is a immutable `struct` `Params` which contains economy parameters;\n",
    "* `tol::Float64` is a precision criterion to stop the convergence process;\n",
    "* `maxiter::Int64` is a number of maximal repetitions (in case of non-convergence of policy function). The me\n",
    "\n",
    "The function computes the policy functions for savings `ga`, for consumption `gc`, and for labor supply `gl` (all of them in `solution`) by iterating over the function `EulerBackEGM!`. \n",
    "\n",
    "The function stops when:\n",
    "* either the difference between the policy function `ga` and its update is below the threshold `tol`;\n",
    "* or the number of iterations is above the number of repetitions `maxiter`.\n",
    "The output message is different in both cases."
   ]
  },
  {
   "cell_type": "code",
   "execution_count": null,
   "metadata": {},
   "outputs": [],
   "source": [
    "function SolveEGM!(solution::AiyagariSolution,\n",
    "                   params::Params;\n",
    "                   tol::T=1e-6, maxiter::I=10000)::Nothing where {T<:Real,I<:Integer}\n",
    "    # ierates on policy functions until convergence\n",
    "    \n",
    "    as  = similar(solution.ga)\n",
    "    as .= solution.ga\n",
    "    i = 0\n",
    "    while true \n",
    "        i += 1\n",
    "        EulerBackEGM!(solution, params) #updates policy functions once\n",
    "        if i%50 == 0\n",
    "            # The convergence is only checked by blocks of 50 iterations            \n",
    "            test = maximum(abs.(solution.ga .- as) ./ (\n",
    "                abs.(solution.ga) .+ abs.(as))) #computation of the convergence criterion\n",
    "            \n",
    "            println(\"iteration: \", i , \" \", maximum(test))\n",
    "            flush(stdout)\n",
    "            if test < tol\n",
    "                # convergence is reached\n",
    "                println(\"Solved in \",i,\" \",\"iterations\")\n",
    "                break\n",
    "            end\n",
    "            if i > maxiter\n",
    "                # maximal nb of iterations is reached (but no convergence)\n",
    "                println(\"Convergence not reached after \",i,\"iterations. Criterion = \", test)\n",
    "                break\n",
    "            end\n",
    "        end\n",
    "        as .= solution.ga\n",
    "    end \n",
    "    return nothing\n",
    "end;"
   ]
  },
  {
   "cell_type": "markdown",
   "metadata": {},
   "source": [
    "# Computing stationary distribution"
   ]
  },
  {
   "cell_type": "markdown",
   "metadata": {},
   "source": [
    "## The helper function\n",
    "\n",
    "There is one helper function `transitionMat(ga,params)` where:\n",
    "* `ga::Matrix{T}` is the saving policy function (a `na`$\\times$ `ny` matrix defined on the product grid of assets $\\times$ productivity);\n",
    "\n",
    "* `params::Param` is the collection of model parameters.\n",
    "NB: For types, we have: `T<:Real` and `I<:Integer`.\n",
    "\n",
    "The function returns a sparse matrix (of type `SparseMatrixCSC{T,I}` from the package `SparseArrays`) such that:\n",
    "* the sparse matrix is of size `na*ny`$\\times$`na*ny`;\n",
    "* a matrix element corresponds to the probability to switch from a pair of (savings, productivity level) to another pair of (savings, productivity level)."
   ]
  },
  {
   "cell_type": "code",
   "execution_count": null,
   "metadata": {},
   "outputs": [],
   "source": [
    "function transitionMat(ga::Matrix{T}, params::Params{T,T1,T2,T3,T4,T5,T6,T7,T8,I})::SparseMatrixCSC{T,I} where {\n",
    "                            T<:Real,T1<:Function,T2<:Function,T3<:Function,\n",
    "                            T4<:Function,T5<:Function,T6<:Function,T7<:Function,\n",
    "                            T8<:Function,I<:Int64}\n",
    "    @unpack na,a_min,aGrid,ny,Πy = params\n",
    "    \n",
    "    trans  = spzeros(T, I, na*ny, na*ny)\n",
    "    p      = zero(T)\n",
    "    a_val  = zero(T)\n",
    "    ia_val = zero(I)\n",
    "    i_mat  = zero(I)\n",
    "    j_mat  = zero(I)\n",
    "    for ia = 1:na\n",
    "        for iy = 1:ny\n",
    "            a_val, ia_val = interpLinear(aGrid[ia], ga[:,iy], aGrid, na, a_min) \n",
    "            p = (aGrid[ia] - ga[ia_val,iy])/(\n",
    "                    ga[ia_val+1,iy] - ga[ia_val,iy])\n",
    "            p = min(max(p,0.0),1.0)\n",
    "            j_mat = (iy-1)*na\n",
    "            for jy = 1:ny\n",
    "                i_mat = (jy-1)*na\n",
    "                trans[i_mat+ia_val+1,j_mat+ia] = p * Πy[iy,jy]\n",
    "                trans[i_mat+ia_val,j_mat+ia] = (one(T)-p) * Πy[iy,jy]\n",
    "            end\n",
    "        end\n",
    "    end   \n",
    "    return trans\n",
    "end;"
   ]
  },
  {
   "cell_type": "markdown",
   "metadata": {},
   "source": [
    "## The final function\n",
    "\n",
    "The function actually computing the stationary distribution is `stationaryDist(M; tol::Float64=1e-16, maxiter::Int64=100000)`, where:\n",
    "* `M::SparseMatrixCSC{T,I}` is a (sparse) transition matrix that results from function `transitionMat`;\n",
    "* `tol::Float64 = 1e-6` is a precision criterion to stop the convergence process;\n",
    "* `maxiter::Int64=10000` is a number of maximal repetitions (in case of non-convergence of the computation).\n",
    "\n",
    " The function returns a vector $\\Pi$ of size `na*ny` that verifies $\\Pi M=\\Pi$ and is  stationary distribution -- that is known to exist. It is computed as the normalised eigenvector corresponding to the largest eigen value of the transition matrix -- which is $1$. To do so, we rely on the function `powm!` of the package `IterativeSolvers`."
   ]
  },
  {
   "cell_type": "code",
   "execution_count": null,
   "metadata": {},
   "outputs": [],
   "source": [
    "function stationaryDist(M::SparseMatrixCSC{T,I}; tol::T=1e-5, maxiter::I=100000\n",
    "        )::Vector{T} where {T<:Real,I<:Integer}\n",
    "    nM = size(M)[1]\n",
    "    _, x = powm!(Matrix(M), ones(T, nM), \n",
    "                    maxiter = maxiter,tol = tol)\n",
    "    # returns the approximate largest eigenvalue λ of M and one of its eigenvector\n",
    "    return x/sum(x)\n",
    "end;"
   ]
  },
  {
   "cell_type": "markdown",
   "metadata": {},
   "source": [
    "# Computing the steady-state equilibrium"
   ]
  },
  {
   "cell_type": "markdown",
   "metadata": {},
   "source": [
    "## The main function"
   ]
  },
  {
   "cell_type": "markdown",
   "metadata": {},
   "source": [
    "The function `steady(params; tol::T=1e-8, maxiter::I=100000)` computes the steady-state solution of the Aiyigary model, where (as before):\n",
    "* `params::Params` is a immutable `struct` `Params` which contains economy parameters;\n",
    "* `tol::T=1e-8` is a precision criterion to stop the convergence process;\n",
    "* `maxiter::I=100000` is a number of maximal repetitions (in case of non-convergence of computations). The me\n",
    "\n",
    "The function returns the steady-state allocation under the form of a mutable `struct` of type `AiyagariSolution{T,I}`. \n",
    "\n",
    "The function `steady`relies on previous functions, in particular `SolveEGM!` for computing steady-state policy functions and `stationaryDist` to compute the stationnary distribution."
   ]
  },
  {
   "cell_type": "code",
   "execution_count": null,
   "metadata": {},
   "outputs": [],
   "source": [
    "function steady(params::Params;\n",
    "                tolEGM::T=1e-8, maxiterEGM::I=100000, \n",
    "                tolSD::T=1e-16, maxiterSD::I=500000)::AiyagariSolution{T,I} where {T<:Real,I<:Integer}\n",
    "\n",
    "    @unpack β,α,δ,tk,Tt,tl,u′,l_supply,na,a_min,a_max,aGrid,ny,ys = params\n",
    "    solution = AiyagariSolution(params)\n",
    "    \n",
    "    # computing steady-state policy function\n",
    "    SolveEGM!(solution, params, tol=tolEGM, maxiter=maxiterEGM)\n",
    "    \n",
    "    @unpack ga,R,w = solution\n",
    "    \n",
    "    # computing stationnary distribution\n",
    "    solution.transitMat = transitionMat(ga,params)\n",
    "    solution.stationaryDist = reshape(stationaryDist(solution.transitMat,tol=tolSD,maxiter=maxiterSD), na, ny)\n",
    "\n",
    "    resE = similar(ga)\n",
    "    as = similar(ga)  #policy rules as a function of beginning of period asset\n",
    "    ls = similar(ga)  #policy rules as a function of beginning of period asset\n",
    "    cs = similar(ga)  #policy rules as a function of beginning of period asset\n",
    "\n",
    "    # we 'invert' policy functions (to obtain policy rules as  a function of beginning of period asset)\n",
    "    err = zero(T)\n",
    "    for ia = 1:na\n",
    "        for iy = 1:ny\n",
    "            as[ia,iy] = interpLinear(aGrid[ia], ga[:,iy], aGrid, na, a_min)[1]\n",
    "#             as[ia,iy] = ga[ia,iy]\n",
    "            f_c(c::T) = c-(R*aGrid[ia] - as[ia,iy] + \n",
    "                w*(ys[iy]*l_supply(w,ys[iy],u′(c))) + Tt)\n",
    "            cs[ia,iy] = find_zero(f_c, [a_min, a_max], atol=0.0, rtol=0.0)\n",
    "            ls[ia,iy] = l_supply(w,ys[iy],u′(cs[ia,iy]))\n",
    "        end\n",
    "    end\n",
    "    solution.ga = as\n",
    "    solution.gc = cs\n",
    "    solution.gl = ls\n",
    "    \n",
    "    # We compute aggregate quantities\n",
    "    solution.A = sum(solution.stationaryDist.*as) #aggregate savings\n",
    "    solution.C = sum(solution.stationaryDist.*cs) #aggregate consumption\n",
    "    solution.L = sum(solution.stationaryDist.*(repeat(ys,1,na)'.*ls)) #aggregate labor supply\n",
    "    \n",
    "    solution.K = solution.L*(((R-1)/(1-tk)+δ)/α)^(one(T)/(α-one(T))) #aggregate capital\n",
    "    solution.Y = (solution.K)^α*(solution.L)^(1-α)\n",
    "    # solution.B = (1+tc)*(solution.A)-(solution.K)\n",
    "\n",
    "    solution.B = (solution.A)-(solution.K)                                           ####\n",
    "    solution.G = solution.Y- δ*solution.K - solution.C\n",
    "    # We check Euler equations by computing their residuals\n",
    "    solution.residEuler = u′.(cs) - β*R*reshape(\n",
    "        solution.transitMat'*reshape(u′.(cs),na*ny,1),na,ny)\n",
    "\n",
    "    return solution\n",
    "end;"
   ]
  },
  {
   "cell_type": "markdown",
   "metadata": {},
   "source": [
    "## Checking the consistency of the solution"
   ]
  },
  {
   "cell_type": "code",
   "execution_count": null,
   "metadata": {},
   "outputs": [],
   "source": [
    "function check_solution(solution::AiyagariSolution, params::Params)::Bool\n",
    "    @unpack β,α,κ,δ,tk,Tt,u′,l_supply,na,a_min,aGrid,ny,ys = params\n",
    "    @unpack ga,gc,gl,R,w,A,K,C,L,stationaryDist = solution\n",
    "    if !(sum(stationaryDist) ≈ 1.0)\n",
    "        println(\"error in stationary distribution\")\n",
    "        @show (sum(stationaryDist))\n",
    "        return false\n",
    "    end\n",
    "    if !(sum(stationaryDist .* ((repeat(ys,1,na)' .* gl))) ≈ L)\n",
    "        println(\"error in aggregate labor supply\")\n",
    "        @show (sum(stationaryDist .* ((repeat(ys,1,na)' .* gl))),L)\n",
    "        return false\n",
    "    end\n",
    "    if !(L*((1/β - (1-δ))/α)^(1/(α-1)) ≈ K)\n",
    "        println(\"error in aggregate savings\")\n",
    "        @show (L*((1/β - (1-δ))/α)^(1/(α-1)),K)\n",
    "        return false\n",
    "    end\n",
    "    if !(A ≈ sum(stationaryDist.*ga))\n",
    "        println(\"error in aggregate savings\")\n",
    "        @show (A,sum(stationaryDist.*ga))\n",
    "        return false\n",
    "    end\n",
    "    if abs(A-sum(stationaryDist.*repeat(params.aGrid,1,ny))) > na*ny*1e-10\n",
    "        println(\"difference in savings \")\n",
    "        @show (A, sum(stationaryDist.*repeat(params.aGrid,1,ny)),\n",
    "            A-sum(stationaryDist.*repeat(params.aGrid,1,ny)))\n",
    "        return false\n",
    "    end\n",
    "\n",
    "    C_ = w*sum(solution.stationaryDist.*(repeat(ys,1,na)'.*gl)) -A + Tt + R*sum(stationaryDist.*repeat(params.aGrid,1,ny))\n",
    "    if !(C ≈ C_)\n",
    "        println(\"error in aggregate consumption\")\n",
    "        @show (C_, C, C_-C)\n",
    "        return false\n",
    "    end\n",
    "    \n",
    "    return true\n",
    "end"
   ]
  },
  {
   "cell_type": "markdown",
   "metadata": {},
   "source": [
    "# Describing the model solution"
   ]
  },
  {
   "cell_type": "code",
   "execution_count": null,
   "metadata": {},
   "outputs": [],
   "source": [
    "function describe_solution(solution::AiyagariSolution, params::Params)\n",
    "    @unpack β,α,κ,δ,tl,tk,Tt,u′,l_supply,na,a_min,aGrid,ny,ys = params\n",
    "    @unpack ga,gc,gl,Rt,wt,R,w,A,C,K,L,G,Y,B,stationaryDist,residEuler = solution\n",
    "    \n",
    "    \n",
    "    #computing MPC\n",
    "    diff_gc = gc[2:end,:] - gc[1:end-1,:]\n",
    "    diff_ga = aGrid[2:end,:] - aGrid[1:end-1,:]\n",
    "    mpc = sum(diff_gc.*stationaryDist[1:end-1,:]./diff_ga)\n",
    "    \n",
    "    #Computing total fiscal revenues\n",
    "    capital_tax = tk*(Rt-1)*A\n",
    "    # labor_tax   = (wt*L - κ*wt^τ*sum(solution.stationaryDist.*(repeat(ys,1,na)'.*gl).^τ))\n",
    "    labor_tax   = tl*wt*L           ####\n",
    "    # conso_tax   = tc*C\n",
    "    # tot_tax     = capital_tax+labor_tax+conso_tax\n",
    "    tot_tax     = capital_tax+labor_tax                           ####\n",
    "\n",
    "    \n",
    "    # p1 = plot(repeat(aGrid,1,ny),residEuler,legend=:none) # by bins\n",
    "    # p2 = plot(aGrid,gl,legend=:none)\n",
    "    # p3 = plot(repeat(aGrid,1,ny),ga .- repeat(aGrid,1,ny),legend=:none)\n",
    "    # p4 = plot(repeat(aGrid,1,ny),gc,legend=:none)\n",
    "    # layout = @layout [a ; b c ; d]\n",
    "    # p = plot(p1, p2, p3, p4, layout=layout,\n",
    "    #     title=[\"Resid Euler\" \"Labor supply\" \"Net saving\" \"Consumption Rule\"])\n",
    "    \n",
    "    return Dict(\"Gini\" => Gini(ga, stationaryDist), \n",
    "                \"B/Y\" => B/(4*Y), \n",
    "                \"G/Y\" => G/Y, \n",
    "                \"C/Y\" => C/Y,\n",
    "                \"K/Y\" => K/(4*Y),\n",
    "                \"I/Y\" => δ*K/Y,\n",
    "                \"Transfers/Y\" => Tt/Y,\n",
    "                # \"Transfers/Y\" => (1+tc)*Tt/Y,\n",
    "                \"L\" => L,\n",
    "                \"MPC\" => mpc,\n",
    "                \"total tax/Y\" => tot_tax/Y,\n",
    "                \"Share of constrained agents\" => sum(stationaryDist[1,:]))\n",
    "                \n",
    "end"
   ]
  }
 ],
 "metadata": {
  "kernelspec": {
   "display_name": "Julia 1.8.0",
   "language": "julia",
   "name": "julia-1.8"
  },
  "language_info": {
   "file_extension": ".jl",
   "mimetype": "application/julia",
   "name": "julia",
   "version": "1.8.0"
  }
 },
 "nbformat": 4,
 "nbformat_minor": 2
}
