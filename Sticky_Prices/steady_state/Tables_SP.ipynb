{
 "cells": [
  {
   "cell_type": "code",
   "execution_count": 7,
   "metadata": {},
   "outputs": [],
   "source": [
    "using Parameters       # @unpack\n",
    "using QuantEcon        # rouwenhorst\n",
    "using LinearAlgebra    # dot\n",
    "using Roots            # findzero\n",
    "using SparseArrays     # SparseMatrixCSC\n",
    "using IterativeSolvers # powm!\n",
    "using Plots            # Plots\n",
    "using NBInclude        # including notebooks instead of jl files\n",
    "using MAT              ####  write the .m file \n",
    "using DataFrames\n",
    "using Printf\n"
   ]
  },
  {
   "cell_type": "code",
   "execution_count": 8,
   "metadata": {},
   "outputs": [],
   "source": [
    "@nbinclude(\"Simulation_SP.ipynb\");"
   ]
  },
  {
   "cell_type": "markdown",
   "metadata": {},
   "source": [
    "# APPENDIX D6\n",
    "### TABLE 7\n",
    "###  Report the theoretical moments of 3 economies\n",
    "\n",
    "Eco 1 is optimal\n",
    "\n",
    "Eco 2 is Pi^P = 1\n",
    "\n",
    "Eco 3 is Taylor\n",
    "\n",
    "\n"
   ]
  },
  {
   "cell_type": "code",
   "execution_count": 9,
   "metadata": {},
   "outputs": [
    {
     "data": {
      "text/html": [
       "<div><div style = \"float: left;\"><span>13×7 DataFrame</span></div><div style = \"clear: both;\"></div></div><div class = \"data-frame\" style = \"overflow-x: scroll;\"><table class = \"data-frame\" style = \"margin-bottom: 6px;\"><thead><tr class = \"header\"><th class = \"rowNumber\" style = \"font-weight: bold; text-align: right;\">Row</th><th style = \"text-align: left;\">Variable</th><th style = \"text-align: left;\">Mean_Eco_1</th><th style = \"text-align: left;\">Std_Eco_1</th><th style = \"text-align: left;\">Mean_Eco_2</th><th style = \"text-align: left;\">Std_Eco_2</th><th style = \"text-align: left;\">Mean_Eco_3</th><th style = \"text-align: left;\">Std_Eco_3</th></tr><tr class = \"subheader headerLastRow\"><th class = \"rowNumber\" style = \"font-weight: bold; text-align: right;\"></th><th title = \"Any\" style = \"text-align: left;\">Any</th><th title = \"Float64\" style = \"text-align: left;\">Float64</th><th title = \"Float64\" style = \"text-align: left;\">Float64</th><th title = \"Float64\" style = \"text-align: left;\">Float64</th><th title = \"Float64\" style = \"text-align: left;\">Float64</th><th title = \"Float64\" style = \"text-align: left;\">Float64</th><th title = \"Float64\" style = \"text-align: left;\">Float64</th></tr></thead><tbody><tr><td class = \"rowNumber\" style = \"font-weight: bold; text-align: right;\">1</td><td style = \"text-align: left;\">GDP</td><td style = \"text-align: right;\">1.431</td><td style = \"text-align: right;\">1.48</td><td style = \"text-align: right;\">1.431</td><td style = \"text-align: right;\">1.481</td><td style = \"text-align: right;\">1.431</td><td style = \"text-align: right;\">1.539</td></tr><tr><td class = \"rowNumber\" style = \"font-weight: bold; text-align: right;\">2</td><td style = \"text-align: left;\">Ctot</td><td style = \"text-align: right;\">0.9</td><td style = \"text-align: right;\">1.338</td><td style = \"text-align: right;\">0.9</td><td style = \"text-align: right;\">1.343</td><td style = \"text-align: right;\">0.9</td><td style = \"text-align: right;\">1.373</td></tr><tr><td class = \"rowNumber\" style = \"font-weight: bold; text-align: right;\">3</td><td style = \"text-align: left;\">Ltot</td><td style = \"text-align: right;\">0.392</td><td style = \"text-align: right;\">0.221</td><td style = \"text-align: right;\">0.392</td><td style = \"text-align: right;\">0.174</td><td style = \"text-align: right;\">0.392</td><td style = \"text-align: right;\">0.234</td></tr><tr><td class = \"rowNumber\" style = \"font-weight: bold; text-align: right;\">4</td><td style = \"text-align: left;\">K</td><td style = \"text-align: right;\">14.311</td><td style = \"text-align: right;\">1.547</td><td style = \"text-align: right;\">14.311</td><td style = \"text-align: right;\">1.548</td><td style = \"text-align: right;\">14.311</td><td style = \"text-align: right;\">1.635</td></tr><tr><td class = \"rowNumber\" style = \"font-weight: bold; text-align: right;\">5</td><td style = \"text-align: left;\">RBN</td><td style = \"text-align: right;\">1.011</td><td style = \"text-align: right;\">0.054</td><td style = \"text-align: right;\">1.011</td><td style = \"text-align: right;\">0.033</td><td style = \"text-align: right;\">1.011</td><td style = \"text-align: right;\">0.101</td></tr><tr><td class = \"rowNumber\" style = \"font-weight: bold; text-align: right;\">6</td><td style = \"text-align: left;\">r</td><td style = \"text-align: right;\">0.007</td><td style = \"text-align: right;\">0.025</td><td style = \"text-align: right;\">0.007</td><td style = \"text-align: right;\">0.022</td><td style = \"text-align: right;\">0.007</td><td style = \"text-align: right;\">0.025</td></tr><tr><td class = \"rowNumber\" style = \"font-weight: bold; text-align: right;\">7</td><td style = \"text-align: left;\">B</td><td style = \"text-align: right;\">3.637</td><td style = \"text-align: right;\">0.619</td><td style = \"text-align: right;\">3.637</td><td style = \"text-align: right;\">0.619</td><td style = \"text-align: right;\">3.637</td><td style = \"text-align: right;\">0.613</td></tr><tr><td class = \"rowNumber\" style = \"font-weight: bold; text-align: right;\">8</td><td style = \"text-align: left;\">TT</td><td style = \"text-align: right;\">0.114</td><td style = \"text-align: right;\">4.705</td><td style = \"text-align: right;\">0.114</td><td style = \"text-align: right;\">6.045</td><td style = \"text-align: right;\">0.114</td><td style = \"text-align: right;\">5.427</td></tr><tr><td class = \"rowNumber\" style = \"font-weight: bold; text-align: right;\">9</td><td style = \"text-align: left;\">PI</td><td style = \"text-align: right;\">1.0</td><td style = \"text-align: right;\">0.02</td><td style = \"text-align: right;\">1.0</td><td style = \"text-align: right;\">0.0</td><td style = \"text-align: right;\">1.0</td><td style = \"text-align: right;\">0.067</td></tr><tr><td class = \"rowNumber\" style = \"font-weight: bold; text-align: right;\">10</td><td style = \"text-align: left;\">piw</td><td style = \"text-align: right;\">0.0</td><td style = \"text-align: right;\">0.449</td><td style = \"text-align: right;\">0.0</td><td style = \"text-align: right;\">0.285</td><td style = \"text-align: right;\">0.0</td><td style = \"text-align: right;\">0.359</td></tr><tr><td class = \"rowNumber\" style = \"font-weight: bold; text-align: right;\">11</td><td style = \"text-align: left;\">taul</td><td style = \"text-align: right;\">0.28</td><td style = \"text-align: right;\">0.0</td><td style = \"text-align: right;\">0.28</td><td style = \"text-align: right;\">0.0</td><td style = \"text-align: right;\">0.28</td><td style = \"text-align: right;\">0.0</td></tr><tr><td class = \"rowNumber\" style = \"font-weight: bold; text-align: right;\">12</td><td style = \"text-align: left;\">tauk</td><td style = \"text-align: right;\">0.36</td><td style = \"text-align: right;\">0.0</td><td style = \"text-align: right;\">0.36</td><td style = \"text-align: right;\">0.0</td><td style = \"text-align: right;\">0.36</td><td style = \"text-align: right;\">0.0</td></tr><tr><td class = \"rowNumber\" style = \"font-weight: bold; text-align: right;\">13</td><td style = \"text-align: left;\">u</td><td style = \"text-align: right;\">0.0</td><td style = \"text-align: right;\">1.013</td><td style = \"text-align: right;\">0.0</td><td style = \"text-align: right;\">1.013</td><td style = \"text-align: right;\">0.0</td><td style = \"text-align: right;\">1.013</td></tr></tbody></table></div>"
      ],
      "text/latex": [
       "\\begin{tabular}{r|ccccccc}\n",
       "\t& Variable & Mean\\_Eco\\_1 & Std\\_Eco\\_1 & Mean\\_Eco\\_2 & Std\\_Eco\\_2 & Mean\\_Eco\\_3 & Std\\_Eco\\_3\\\\\n",
       "\t\\hline\n",
       "\t& Any & Float64 & Float64 & Float64 & Float64 & Float64 & Float64\\\\\n",
       "\t\\hline\n",
       "\t1 & GDP & 1.431 & 1.48 & 1.431 & 1.481 & 1.431 & 1.539 \\\\\n",
       "\t2 & Ctot & 0.9 & 1.338 & 0.9 & 1.343 & 0.9 & 1.373 \\\\\n",
       "\t3 & Ltot & 0.392 & 0.221 & 0.392 & 0.174 & 0.392 & 0.234 \\\\\n",
       "\t4 & K & 14.311 & 1.547 & 14.311 & 1.548 & 14.311 & 1.635 \\\\\n",
       "\t5 & RBN & 1.011 & 0.054 & 1.011 & 0.033 & 1.011 & 0.101 \\\\\n",
       "\t6 & r & 0.007 & 0.025 & 0.007 & 0.022 & 0.007 & 0.025 \\\\\n",
       "\t7 & B & 3.637 & 0.619 & 3.637 & 0.619 & 3.637 & 0.613 \\\\\n",
       "\t8 & TT & 0.114 & 4.705 & 0.114 & 6.045 & 0.114 & 5.427 \\\\\n",
       "\t9 & PI & 1.0 & 0.02 & 1.0 & 0.0 & 1.0 & 0.067 \\\\\n",
       "\t10 & piw & 0.0 & 0.449 & 0.0 & 0.285 & 0.0 & 0.359 \\\\\n",
       "\t11 & taul & 0.28 & 0.0 & 0.28 & 0.0 & 0.28 & 0.0 \\\\\n",
       "\t12 & tauk & 0.36 & 0.0 & 0.36 & 0.0 & 0.36 & 0.0 \\\\\n",
       "\t13 & u & 0.0 & 1.013 & 0.0 & 1.013 & 0.0 & 1.013 \\\\\n",
       "\\end{tabular}\n"
      ],
      "text/plain": [
       "\u001b[1m13×7 DataFrame\u001b[0m\n",
       "\u001b[1m Row \u001b[0m│\u001b[1m Variable \u001b[0m\u001b[1m Mean_Eco_1 \u001b[0m\u001b[1m Std_Eco_1 \u001b[0m\u001b[1m Mean_Eco_2 \u001b[0m\u001b[1m Std_Eco_2 \u001b[0m\u001b[1m Mean_Eco_3 \u001b[0m\u001b[1m Std\u001b[0m ⋯\n",
       "     │\u001b[90m Any      \u001b[0m\u001b[90m Float64    \u001b[0m\u001b[90m Float64   \u001b[0m\u001b[90m Float64    \u001b[0m\u001b[90m Float64   \u001b[0m\u001b[90m Float64    \u001b[0m\u001b[90m Flo\u001b[0m ⋯\n",
       "─────┼──────────────────────────────────────────────────────────────────────────\n",
       "   1 │ GDP            1.431      1.48        1.431      1.481       1.431      ⋯\n",
       "   2 │ Ctot           0.9        1.338       0.9        1.343       0.9\n",
       "   3 │ Ltot           0.392      0.221       0.392      0.174       0.392\n",
       "   4 │ K             14.311      1.547      14.311      1.548      14.311\n",
       "   5 │ RBN            1.011      0.054       1.011      0.033       1.011      ⋯\n",
       "   6 │ r              0.007      0.025       0.007      0.022       0.007\n",
       "   7 │ B              3.637      0.619       3.637      0.619       3.637\n",
       "   8 │ TT             0.114      4.705       0.114      6.045       0.114\n",
       "   9 │ PI             1.0        0.02        1.0        0.0         1.0        ⋯\n",
       "  10 │ piw            0.0        0.449       0.0        0.285       0.0\n",
       "  11 │ taul           0.28       0.0         0.28       0.0         0.28\n",
       "  12 │ tauk           0.36       0.0         0.36       0.0         0.36\n",
       "  13 │ u              0.0        1.013       0.0        1.013       0.0        ⋯\n",
       "\u001b[36m                                                                1 column omitted\u001b[0m"
      ]
     },
     "metadata": {},
     "output_type": "display_data"
    },
    {
     "data": {
      "text/html": [
       "<div><div style = \"float: left;\"><span>8×4 DataFrame</span></div><div style = \"clear: both;\"></div></div><div class = \"data-frame\" style = \"overflow-x: scroll;\"><table class = \"data-frame\" style = \"margin-bottom: 6px;\"><thead><tr class = \"header\"><th class = \"rowNumber\" style = \"font-weight: bold; text-align: right;\">Row</th><th style = \"text-align: left;\">Variable</th><th style = \"text-align: left;\">corr_Eco_1</th><th style = \"text-align: left;\">corr_Eco_2</th><th style = \"text-align: left;\">corr_Eco_3</th></tr><tr class = \"subheader headerLastRow\"><th class = \"rowNumber\" style = \"font-weight: bold; text-align: right;\"></th><th title = \"Any\" style = \"text-align: left;\">Any</th><th title = \"Float64\" style = \"text-align: left;\">Float64</th><th title = \"Float64\" style = \"text-align: left;\">Float64</th><th title = \"Float64\" style = \"text-align: left;\">Float64</th></tr></thead><tbody><tr><td class = \"rowNumber\" style = \"font-weight: bold; text-align: right;\">1</td><td style = \"text-align: left;\">corr(Pip,Y)</td><td style = \"text-align: right;\">0.204</td><td style = \"text-align: right;\">NaN</td><td style = \"text-align: right;\">0.113</td></tr><tr><td class = \"rowNumber\" style = \"font-weight: bold; text-align: right;\">2</td><td style = \"text-align: left;\">corr(Piw,Y)</td><td style = \"text-align: right;\">0.125</td><td style = \"text-align: right;\">0.157</td><td style = \"text-align: right;\">0.157</td></tr><tr><td class = \"rowNumber\" style = \"font-weight: bold; text-align: right;\">3</td><td style = \"text-align: left;\">corr(tau^k, Y)</td><td style = \"text-align: right;\">NaN</td><td style = \"text-align: right;\">NaN</td><td style = \"text-align: right;\">NaN</td></tr><tr><td class = \"rowNumber\" style = \"font-weight: bold; text-align: right;\">4</td><td style = \"text-align: left;\">corr(tau^L,Y)</td><td style = \"text-align: right;\">NaN</td><td style = \"text-align: right;\">NaN</td><td style = \"text-align: right;\">NaN</td></tr><tr><td class = \"rowNumber\" style = \"font-weight: bold; text-align: right;\">5</td><td style = \"text-align: left;\">corr(B,Y)</td><td style = \"text-align: right;\">-0.971</td><td style = \"text-align: right;\">-0.972</td><td style = \"text-align: right;\">-0.976</td></tr><tr><td class = \"rowNumber\" style = \"font-weight: bold; text-align: right;\">6</td><td style = \"text-align: left;\">corr(C,Y)</td><td style = \"text-align: right;\">0.949</td><td style = \"text-align: right;\">0.943</td><td style = \"text-align: right;\">0.934</td></tr><tr><td class = \"rowNumber\" style = \"font-weight: bold; text-align: right;\">7</td><td style = \"text-align: left;\">corr(Y,Y(-1))</td><td style = \"text-align: right;\">0.979</td><td style = \"text-align: right;\">0.967</td><td style = \"text-align: right;\">0.967</td></tr><tr><td class = \"rowNumber\" style = \"font-weight: bold; text-align: right;\">8</td><td style = \"text-align: left;\">corr(B,B(-1))</td><td style = \"text-align: right;\">0.96</td><td style = \"text-align: right;\">0.966</td><td style = \"text-align: right;\">0.966</td></tr></tbody></table></div>"
      ],
      "text/latex": [
       "\\begin{tabular}{r|cccc}\n",
       "\t& Variable & corr\\_Eco\\_1 & corr\\_Eco\\_2 & corr\\_Eco\\_3\\\\\n",
       "\t\\hline\n",
       "\t& Any & Float64 & Float64 & Float64\\\\\n",
       "\t\\hline\n",
       "\t1 & corr(Pip,Y) & 0.204 & NaN & 0.113 \\\\\n",
       "\t2 & corr(Piw,Y) & 0.125 & 0.157 & 0.157 \\\\\n",
       "\t3 & corr(tau\\^k, Y) & NaN & NaN & NaN \\\\\n",
       "\t4 & corr(tau\\^L,Y) & NaN & NaN & NaN \\\\\n",
       "\t5 & corr(B,Y) & -0.971 & -0.972 & -0.976 \\\\\n",
       "\t6 & corr(C,Y) & 0.949 & 0.943 & 0.934 \\\\\n",
       "\t7 & corr(Y,Y(-1)) & 0.979 & 0.967 & 0.967 \\\\\n",
       "\t8 & corr(B,B(-1)) & 0.96 & 0.966 & 0.966 \\\\\n",
       "\\end{tabular}\n"
      ],
      "text/plain": [
       "\u001b[1m8×4 DataFrame\u001b[0m\n",
       "\u001b[1m Row \u001b[0m│\u001b[1m Variable       \u001b[0m\u001b[1m corr_Eco_1 \u001b[0m\u001b[1m corr_Eco_2 \u001b[0m\u001b[1m corr_Eco_3 \u001b[0m\n",
       "     │\u001b[90m Any            \u001b[0m\u001b[90m Float64    \u001b[0m\u001b[90m Float64    \u001b[0m\u001b[90m Float64    \u001b[0m\n",
       "─────┼────────────────────────────────────────────────────\n",
       "   1 │ corr(Pip,Y)          0.204     NaN           0.113\n",
       "   2 │ corr(Piw,Y)          0.125       0.157       0.157\n",
       "   3 │ corr(tau^k, Y)     NaN         NaN         NaN\n",
       "   4 │ corr(tau^L,Y)      NaN         NaN         NaN\n",
       "   5 │ corr(B,Y)           -0.971      -0.972      -0.976\n",
       "   6 │ corr(C,Y)            0.949       0.943       0.934\n",
       "   7 │ corr(Y,Y(-1))        0.979       0.967       0.967\n",
       "   8 │ corr(B,B(-1))        0.96        0.966       0.966"
      ]
     },
     "metadata": {},
     "output_type": "display_data"
    }
   ],
   "source": [
    "## The normalized standard deviation in percent, equal to the standard deviation divided by the mean *100 \n",
    "## Except for u, Pi^P, Pi^W, index_RBN, r, tauk, taul for which the standard deviation *100 is reported.\n",
    "\n",
    "describe_simulation(\"baseline\",3) \n"
   ]
  },
  {
   "cell_type": "markdown",
   "metadata": {},
   "source": [
    "# APPENDIX D7 \n",
    "### TABLE 8\n",
    "####  Report the theoretical moments of 3 economies with the refined truncation\n",
    "\n",
    "Eco 1 is optimal\n",
    "\n",
    "Eco 2 is Pi^P = 1\n",
    "\n",
    "\n"
   ]
  },
  {
   "cell_type": "code",
   "execution_count": 12,
   "metadata": {},
   "outputs": [
    {
     "data": {
      "text/html": [
       "<div><div style = \"float: left;\"><span>13×5 DataFrame</span></div><div style = \"clear: both;\"></div></div><div class = \"data-frame\" style = \"overflow-x: scroll;\"><table class = \"data-frame\" style = \"margin-bottom: 6px;\"><thead><tr class = \"header\"><th class = \"rowNumber\" style = \"font-weight: bold; text-align: right;\">Row</th><th style = \"text-align: left;\">Variable</th><th style = \"text-align: left;\">Mean_Eco_1</th><th style = \"text-align: left;\">Std_Eco_1</th><th style = \"text-align: left;\">Mean_Eco_2</th><th style = \"text-align: left;\">Std_Eco_2</th></tr><tr class = \"subheader headerLastRow\"><th class = \"rowNumber\" style = \"font-weight: bold; text-align: right;\"></th><th title = \"Any\" style = \"text-align: left;\">Any</th><th title = \"Float64\" style = \"text-align: left;\">Float64</th><th title = \"Float64\" style = \"text-align: left;\">Float64</th><th title = \"Float64\" style = \"text-align: left;\">Float64</th><th title = \"Float64\" style = \"text-align: left;\">Float64</th></tr></thead><tbody><tr><td class = \"rowNumber\" style = \"font-weight: bold; text-align: right;\">1</td><td style = \"text-align: left;\">GDP</td><td style = \"text-align: right;\">1.431</td><td style = \"text-align: right;\">1.499</td><td style = \"text-align: right;\">1.431</td><td style = \"text-align: right;\">1.499</td></tr><tr><td class = \"rowNumber\" style = \"font-weight: bold; text-align: right;\">2</td><td style = \"text-align: left;\">Ctot</td><td style = \"text-align: right;\">0.9</td><td style = \"text-align: right;\">1.34</td><td style = \"text-align: right;\">0.9</td><td style = \"text-align: right;\">1.343</td></tr><tr><td class = \"rowNumber\" style = \"font-weight: bold; text-align: right;\">3</td><td style = \"text-align: left;\">Ltot</td><td style = \"text-align: right;\">0.392</td><td style = \"text-align: right;\">0.223</td><td style = \"text-align: right;\">0.392</td><td style = \"text-align: right;\">0.18</td></tr><tr><td class = \"rowNumber\" style = \"font-weight: bold; text-align: right;\">4</td><td style = \"text-align: left;\">K</td><td style = \"text-align: right;\">14.311</td><td style = \"text-align: right;\">1.6</td><td style = \"text-align: right;\">14.311</td><td style = \"text-align: right;\">1.599</td></tr><tr><td class = \"rowNumber\" style = \"font-weight: bold; text-align: right;\">5</td><td style = \"text-align: left;\">RBN</td><td style = \"text-align: right;\">1.011</td><td style = \"text-align: right;\">0.054</td><td style = \"text-align: right;\">1.011</td><td style = \"text-align: right;\">0.034</td></tr><tr><td class = \"rowNumber\" style = \"font-weight: bold; text-align: right;\">6</td><td style = \"text-align: left;\">r</td><td style = \"text-align: right;\">0.007</td><td style = \"text-align: right;\">0.025</td><td style = \"text-align: right;\">0.007</td><td style = \"text-align: right;\">0.023</td></tr><tr><td class = \"rowNumber\" style = \"font-weight: bold; text-align: right;\">7</td><td style = \"text-align: left;\">B</td><td style = \"text-align: right;\">3.637</td><td style = \"text-align: right;\">0.619</td><td style = \"text-align: right;\">3.637</td><td style = \"text-align: right;\">0.62</td></tr><tr><td class = \"rowNumber\" style = \"font-weight: bold; text-align: right;\">8</td><td style = \"text-align: left;\">TT</td><td style = \"text-align: right;\">0.114</td><td style = \"text-align: right;\">4.785</td><td style = \"text-align: right;\">0.114</td><td style = \"text-align: right;\">6.079</td></tr><tr><td class = \"rowNumber\" style = \"font-weight: bold; text-align: right;\">9</td><td style = \"text-align: left;\">PI</td><td style = \"text-align: right;\">1.0</td><td style = \"text-align: right;\">0.02</td><td style = \"text-align: right;\">1.0</td><td style = \"text-align: right;\">0.0</td></tr><tr><td class = \"rowNumber\" style = \"font-weight: bold; text-align: right;\">10</td><td style = \"text-align: left;\">piw</td><td style = \"text-align: right;\">0.0</td><td style = \"text-align: right;\">0.426</td><td style = \"text-align: right;\">0.0</td><td style = \"text-align: right;\">0.285</td></tr><tr><td class = \"rowNumber\" style = \"font-weight: bold; text-align: right;\">11</td><td style = \"text-align: left;\">taul</td><td style = \"text-align: right;\">0.28</td><td style = \"text-align: right;\">0.0</td><td style = \"text-align: right;\">0.28</td><td style = \"text-align: right;\">0.0</td></tr><tr><td class = \"rowNumber\" style = \"font-weight: bold; text-align: right;\">12</td><td style = \"text-align: left;\">tauk</td><td style = \"text-align: right;\">0.36</td><td style = \"text-align: right;\">0.0</td><td style = \"text-align: right;\">0.36</td><td style = \"text-align: right;\">0.0</td></tr><tr><td class = \"rowNumber\" style = \"font-weight: bold; text-align: right;\">13</td><td style = \"text-align: left;\">u</td><td style = \"text-align: right;\">0.0</td><td style = \"text-align: right;\">1.013</td><td style = \"text-align: right;\">0.0</td><td style = \"text-align: right;\">1.013</td></tr></tbody></table></div>"
      ],
      "text/latex": [
       "\\begin{tabular}{r|ccccc}\n",
       "\t& Variable & Mean\\_Eco\\_1 & Std\\_Eco\\_1 & Mean\\_Eco\\_2 & Std\\_Eco\\_2\\\\\n",
       "\t\\hline\n",
       "\t& Any & Float64 & Float64 & Float64 & Float64\\\\\n",
       "\t\\hline\n",
       "\t1 & GDP & 1.431 & 1.499 & 1.431 & 1.499 \\\\\n",
       "\t2 & Ctot & 0.9 & 1.34 & 0.9 & 1.343 \\\\\n",
       "\t3 & Ltot & 0.392 & 0.223 & 0.392 & 0.18 \\\\\n",
       "\t4 & K & 14.311 & 1.6 & 14.311 & 1.599 \\\\\n",
       "\t5 & RBN & 1.011 & 0.054 & 1.011 & 0.034 \\\\\n",
       "\t6 & r & 0.007 & 0.025 & 0.007 & 0.023 \\\\\n",
       "\t7 & B & 3.637 & 0.619 & 3.637 & 0.62 \\\\\n",
       "\t8 & TT & 0.114 & 4.785 & 0.114 & 6.079 \\\\\n",
       "\t9 & PI & 1.0 & 0.02 & 1.0 & 0.0 \\\\\n",
       "\t10 & piw & 0.0 & 0.426 & 0.0 & 0.285 \\\\\n",
       "\t11 & taul & 0.28 & 0.0 & 0.28 & 0.0 \\\\\n",
       "\t12 & tauk & 0.36 & 0.0 & 0.36 & 0.0 \\\\\n",
       "\t13 & u & 0.0 & 1.013 & 0.0 & 1.013 \\\\\n",
       "\\end{tabular}\n"
      ],
      "text/plain": [
       "\u001b[1m13×5 DataFrame\u001b[0m\n",
       "\u001b[1m Row \u001b[0m│\u001b[1m Variable \u001b[0m\u001b[1m Mean_Eco_1 \u001b[0m\u001b[1m Std_Eco_1 \u001b[0m\u001b[1m Mean_Eco_2 \u001b[0m\u001b[1m Std_Eco_2 \u001b[0m\n",
       "     │\u001b[90m Any      \u001b[0m\u001b[90m Float64    \u001b[0m\u001b[90m Float64   \u001b[0m\u001b[90m Float64    \u001b[0m\u001b[90m Float64   \u001b[0m\n",
       "─────┼────────────────────────────────────────────────────────\n",
       "   1 │ GDP            1.431      1.499       1.431      1.499\n",
       "   2 │ Ctot           0.9        1.34        0.9        1.343\n",
       "   3 │ Ltot           0.392      0.223       0.392      0.18\n",
       "   4 │ K             14.311      1.6        14.311      1.599\n",
       "   5 │ RBN            1.011      0.054       1.011      0.034\n",
       "   6 │ r              0.007      0.025       0.007      0.023\n",
       "   7 │ B              3.637      0.619       3.637      0.62\n",
       "   8 │ TT             0.114      4.785       0.114      6.079\n",
       "   9 │ PI             1.0        0.02        1.0        0.0\n",
       "  10 │ piw            0.0        0.426       0.0        0.285\n",
       "  11 │ taul           0.28       0.0         0.28       0.0\n",
       "  12 │ tauk           0.36       0.0         0.36       0.0\n",
       "  13 │ u              0.0        1.013       0.0        1.013"
      ]
     },
     "metadata": {},
     "output_type": "display_data"
    },
    {
     "data": {
      "text/html": [
       "<div><div style = \"float: left;\"><span>8×3 DataFrame</span></div><div style = \"clear: both;\"></div></div><div class = \"data-frame\" style = \"overflow-x: scroll;\"><table class = \"data-frame\" style = \"margin-bottom: 6px;\"><thead><tr class = \"header\"><th class = \"rowNumber\" style = \"font-weight: bold; text-align: right;\">Row</th><th style = \"text-align: left;\">Variable</th><th style = \"text-align: left;\">corr_Eco_1</th><th style = \"text-align: left;\">corr_Eco_2</th></tr><tr class = \"subheader headerLastRow\"><th class = \"rowNumber\" style = \"font-weight: bold; text-align: right;\"></th><th title = \"Any\" style = \"text-align: left;\">Any</th><th title = \"Float64\" style = \"text-align: left;\">Float64</th><th title = \"Float64\" style = \"text-align: left;\">Float64</th></tr></thead><tbody><tr><td class = \"rowNumber\" style = \"font-weight: bold; text-align: right;\">1</td><td style = \"text-align: left;\">corr(Pip,Y)</td><td style = \"text-align: right;\">0.206</td><td style = \"text-align: right;\">NaN</td></tr><tr><td class = \"rowNumber\" style = \"font-weight: bold; text-align: right;\">2</td><td style = \"text-align: left;\">corr(Piw,Y)</td><td style = \"text-align: right;\">0.127</td><td style = \"text-align: right;\">0.154</td></tr><tr><td class = \"rowNumber\" style = \"font-weight: bold; text-align: right;\">3</td><td style = \"text-align: left;\">corr(tau^k, Y)</td><td style = \"text-align: right;\">NaN</td><td style = \"text-align: right;\">NaN</td></tr><tr><td class = \"rowNumber\" style = \"font-weight: bold; text-align: right;\">4</td><td style = \"text-align: left;\">corr(tau^L,Y)</td><td style = \"text-align: right;\">NaN</td><td style = \"text-align: right;\">NaN</td></tr><tr><td class = \"rowNumber\" style = \"font-weight: bold; text-align: right;\">5</td><td style = \"text-align: left;\">corr(B,Y)</td><td style = \"text-align: right;\">-0.971</td><td style = \"text-align: right;\">-0.971</td></tr><tr><td class = \"rowNumber\" style = \"font-weight: bold; text-align: right;\">6</td><td style = \"text-align: left;\">corr(C,Y)</td><td style = \"text-align: right;\">0.945</td><td style = \"text-align: right;\">0.94</td></tr><tr><td class = \"rowNumber\" style = \"font-weight: bold; text-align: right;\">7</td><td style = \"text-align: left;\">corr(Y,Y(-1))</td><td style = \"text-align: right;\">0.979</td><td style = \"text-align: right;\">0.968</td></tr><tr><td class = \"rowNumber\" style = \"font-weight: bold; text-align: right;\">8</td><td style = \"text-align: left;\">corr(B,B(-1))</td><td style = \"text-align: right;\">0.96</td><td style = \"text-align: right;\">0.966</td></tr></tbody></table></div>"
      ],
      "text/latex": [
       "\\begin{tabular}{r|ccc}\n",
       "\t& Variable & corr\\_Eco\\_1 & corr\\_Eco\\_2\\\\\n",
       "\t\\hline\n",
       "\t& Any & Float64 & Float64\\\\\n",
       "\t\\hline\n",
       "\t1 & corr(Pip,Y) & 0.206 & NaN \\\\\n",
       "\t2 & corr(Piw,Y) & 0.127 & 0.154 \\\\\n",
       "\t3 & corr(tau\\^k, Y) & NaN & NaN \\\\\n",
       "\t4 & corr(tau\\^L,Y) & NaN & NaN \\\\\n",
       "\t5 & corr(B,Y) & -0.971 & -0.971 \\\\\n",
       "\t6 & corr(C,Y) & 0.945 & 0.94 \\\\\n",
       "\t7 & corr(Y,Y(-1)) & 0.979 & 0.968 \\\\\n",
       "\t8 & corr(B,B(-1)) & 0.96 & 0.966 \\\\\n",
       "\\end{tabular}\n"
      ],
      "text/plain": [
       "\u001b[1m8×3 DataFrame\u001b[0m\n",
       "\u001b[1m Row \u001b[0m│\u001b[1m Variable       \u001b[0m\u001b[1m corr_Eco_1 \u001b[0m\u001b[1m corr_Eco_2 \u001b[0m\n",
       "     │\u001b[90m Any            \u001b[0m\u001b[90m Float64    \u001b[0m\u001b[90m Float64    \u001b[0m\n",
       "─────┼────────────────────────────────────────\n",
       "   1 │ corr(Pip,Y)          0.206     NaN\n",
       "   2 │ corr(Piw,Y)          0.127       0.154\n",
       "   3 │ corr(tau^k, Y)     NaN         NaN\n",
       "   4 │ corr(tau^L,Y)      NaN         NaN\n",
       "   5 │ corr(B,Y)           -0.971      -0.971\n",
       "   6 │ corr(C,Y)            0.945       0.94\n",
       "   7 │ corr(Y,Y(-1))        0.979       0.968\n",
       "   8 │ corr(B,B(-1))        0.96        0.966"
      ]
     },
     "metadata": {},
     "output_type": "display_data"
    }
   ],
   "source": [
    "# TABLE 8 \n",
    "describe_simulation(\"refined\",2) \n"
   ]
  },
  {
   "cell_type": "markdown",
   "metadata": {},
   "source": [
    "# Table 8: APPENDIX J\n",
    "\n",
    "Eco 1 is optimal\n",
    "\n",
    "Eco 2 is Pi^P = 1\n",
    "\n",
    "Eco 3 is Taylor !!! \n",
    "\n",
    "Eco 4 is cyclical tax rates\n",
    "\n"
   ]
  },
  {
   "cell_type": "code",
   "execution_count": null,
   "metadata": {},
   "outputs": [],
   "source": [
    "# ATTENTION, TAYLOR_BASELINE = ECON 3 : A CHANGER \n",
    "\n",
    "## The normalized standard deviation in percent, equal to the standard deviation divided by the mean *100 \n",
    "## Except for u and inflations, for which the standard deviation *100 is reported.\n",
    "\n",
    "# Eco 1 is optimal, Eco 2 is Pi^P = 1, Eco 3 is Taylor (A CHANGER!!) Eco 4 is cyclical tax rates \n",
    "describe_simulation(\"unequal\",4) \n",
    "\n"
   ]
  },
  {
   "cell_type": "code",
   "execution_count": null,
   "metadata": {},
   "outputs": [],
   "source": []
  }
 ],
 "metadata": {
  "kernelspec": {
   "display_name": "Julia 1.8.0",
   "language": "julia",
   "name": "julia-1.8"
  },
  "language_info": {
   "file_extension": ".jl",
   "mimetype": "application/julia",
   "name": "julia",
   "version": "1.8.0"
  }
 },
 "nbformat": 4,
 "nbformat_minor": 2
}
