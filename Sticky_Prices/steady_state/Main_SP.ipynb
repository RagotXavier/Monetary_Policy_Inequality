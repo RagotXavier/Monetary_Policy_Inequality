{
 "cells": [
  {
   "cell_type": "code",
   "execution_count": 7,
   "metadata": {},
   "outputs": [],
   "source": [
    "using Parameters       # @unpack\n",
    "using QuantEcon        # rouwenhorst\n",
    "using LinearAlgebra    # dot\n",
    "using Roots            # findzero\n",
    "using SparseArrays     # SparseMatrixCSC\n",
    "using IterativeSolvers # powm!\n",
    "using Plots            # Plots\n",
    "using NBInclude        # including notebooks instead of jl files\n",
    "using MAT              ####  write the .m file \n",
    "using DataFrames\n",
    "using Printf\n"
   ]
  },
  {
   "cell_type": "code",
   "execution_count": 8,
   "metadata": {},
   "outputs": [],
   "source": [
    "@nbinclude(\"Structures_SP.ipynb\");\n",
    "@nbinclude(\"Utils_SP.ipynb\");\n",
    "@nbinclude(\"SolveAiyagari_SP.ipynb\");\n",
    "@nbinclude(\"Projection_SP.ipynb\");\n",
    "@nbinclude(\"Projection_SP_ref.ipynb\");\n",
    "@nbinclude(\"Ramsey_SP.ipynb\");"
   ]
  },
  {
   "cell_type": "markdown",
   "metadata": {},
   "source": [
    "## Main Specification "
   ]
  },
  {
   "cell_type": "code",
   "execution_count": 9,
   "metadata": {},
   "outputs": [
    {
     "name": "stdout",
     "output_type": "stream",
     "text": [
      "iteration: 50 0.09568587046056519\n",
      "iteration: 100 0.030022482274856398\n",
      "iteration: 150 0.007256960017945231\n",
      "iteration: 200 0.002846844148156604\n",
      "iteration: 250 0.0016444734011664863\n",
      "iteration: 300 0.0007640979840733611\n",
      "iteration: 350 0.00031200000002817835\n",
      "iteration: 400 0.00011848289549780579\n",
      "iteration: 450 4.3149783452055614e-5\n",
      "iteration: 500 1.532034875746691e-5\n",
      "iteration: 550 5.355401964374852e-6\n",
      "iteration: 600 1.855284204600897e-6\n",
      "iteration: 650 6.39903051504716e-7\n",
      "iteration: 700 2.2040068142486963e-7\n",
      "iteration: 750 7.593797360139109e-8\n",
      "iteration: 800 2.6193087600748188e-8\n",
      "iteration: 850 9.04609362296012e-9\n",
      "Solved in 850 iterations\n",
      "sum(y0_h .^ ν .* S_h) - sum(ys .^ ν .* Sy) = 5.241918010767677e-12\n"
     ]
    },
    {
     "data": {
      "text/plain": [
       "Dict{String, Float64} with 11 entries:\n",
       "  \"total tax/Y\"                 => 0.228864\n",
       "  \"Share of constrained agents\" => 0.194328\n",
       "  \"L\"                           => 0.391889\n",
       "  \"MPC\"                         => 0.172001\n",
       "  \"I/Y\"                         => 0.25\n",
       "  \"C/Y\"                         => 0.628753\n",
       "  \"Gini\"                        => 0.730188\n",
       "  \"G/Y\"                         => 0.121247\n",
       "  \"B/Y\"                         => 0.635375\n",
       "  \"Transfers/Y\"                 => 0.0796604\n",
       "  \"K/Y\"                         => 2.5"
      ]
     },
     "metadata": {},
     "output_type": "display_data"
    }
   ],
   "source": [
    "\n",
    "#########################\n",
    "#### MAIN SPECIFICATION \n",
    "#########################\n",
    "\n",
    "\n",
    "params = Params(\n",
    "    KsY=2.5*4,\n",
    "    α=0.36,  # capital share\n",
    "    δ=0.025, # capital depreciation\n",
    "    γ=1.,   \n",
    "    ϕ=0.5,   # Frisch elasticity 0.5\n",
    "    χ = 1.0, \n",
    "    ϵ = 6.0,\n",
    "    κ= 100.0, ####  price adjustment not taxe\n",
    "    ν= 0.0,   #### inequal distribution of profit \n",
    "    tl=0.28,  #### tax rate labor \n",
    "    tk=0.36,  #### tax rate capital\n",
    "    Tt=0.114, #### transfert\n",
    "    na=100,\n",
    "    a_min=1e-9, \n",
    "    a_max=1000.0,\n",
    "    curv_a=4.0,\n",
    "    ny=5,\n",
    "    ρy= 0.99, # \n",
    "    σy= 0.123 # \n",
    "    );\n",
    "\n",
    "solution = steady(params);\n",
    "\n",
    "N=5\n",
    "proj = Project_plan(N,solution,params); \n",
    "plan = multi_find(proj,solution, params);\n",
    "Write_Dynare(proj,solution,params,plan,\"baseline\")\n",
    "describe_solution(solution,params)\n"
   ]
  },
  {
   "cell_type": "code",
   "execution_count": 10,
   "metadata": {},
   "outputs": [
    {
     "data": {
      "text/html": [
       "<div><div style = \"float: left;\"><span>5×1 DataFrame</span></div><div style = \"clear: both;\"></div></div><div class = \"data-frame\" style = \"overflow-x: scroll;\"><table class = \"data-frame\" style = \"margin-bottom: 6px;\"><thead><tr class = \"header\"><th class = \"rowNumber\" style = \"font-weight: bold; text-align: right;\">Row</th><th style = \"text-align: left;\">Quartile</th></tr><tr class = \"subheader headerLastRow\"><th class = \"rowNumber\" style = \"font-weight: bold; text-align: right;\"></th><th title = \"Float64\" style = \"text-align: left;\">Float64</th></tr></thead><tbody><tr><td class = \"rowNumber\" style = \"font-weight: bold; text-align: right;\">1</td><td style = \"text-align: right;\">0.0</td></tr><tr><td class = \"rowNumber\" style = \"font-weight: bold; text-align: right;\">2</td><td style = \"text-align: right;\">0.2</td></tr><tr><td class = \"rowNumber\" style = \"font-weight: bold; text-align: right;\">3</td><td style = \"text-align: right;\">5.2</td></tr><tr><td class = \"rowNumber\" style = \"font-weight: bold; text-align: right;\">4</td><td style = \"text-align: right;\">18.2</td></tr><tr><td class = \"rowNumber\" style = \"font-weight: bold; text-align: right;\">5</td><td style = \"text-align: right;\">76.4</td></tr></tbody></table></div>"
      ],
      "text/latex": [
       "\\begin{tabular}{r|c}\n",
       "\t& Quartile\\\\\n",
       "\t\\hline\n",
       "\t& Float64\\\\\n",
       "\t\\hline\n",
       "\t1 & 0.0 \\\\\n",
       "\t2 & 0.2 \\\\\n",
       "\t3 & 5.2 \\\\\n",
       "\t4 & 18.2 \\\\\n",
       "\t5 & 76.4 \\\\\n",
       "\\end{tabular}\n"
      ],
      "text/plain": [
       "\u001b[1m5×1 DataFrame\u001b[0m\n",
       "\u001b[1m Row \u001b[0m│\u001b[1m Quartile \u001b[0m\n",
       "     │\u001b[90m Float64  \u001b[0m\n",
       "─────┼──────────\n",
       "   1 │      0.0\n",
       "   2 │      0.2\n",
       "   3 │      5.2\n",
       "   4 │     18.2\n",
       "   5 │     76.4"
      ]
     },
     "metadata": {},
     "output_type": "display_data"
    },
    {
     "data": {
      "text/html": [
       "<div><div style = \"float: left;\"><span>1×1 DataFrame</span></div><div style = \"clear: both;\"></div></div><div class = \"data-frame\" style = \"overflow-x: scroll;\"><table class = \"data-frame\" style = \"margin-bottom: 6px;\"><thead><tr class = \"header\"><th class = \"rowNumber\" style = \"font-weight: bold; text-align: right;\">Row</th><th style = \"text-align: left;\">Top5</th></tr><tr class = \"subheader headerLastRow\"><th class = \"rowNumber\" style = \"font-weight: bold; text-align: right;\"></th><th title = \"Float64\" style = \"text-align: left;\">Float64</th></tr></thead><tbody><tr><td class = \"rowNumber\" style = \"font-weight: bold; text-align: right;\">1</td><td style = \"text-align: right;\">33.2</td></tr></tbody></table></div>"
      ],
      "text/latex": [
       "\\begin{tabular}{r|c}\n",
       "\t& Top5\\\\\n",
       "\t\\hline\n",
       "\t& Float64\\\\\n",
       "\t\\hline\n",
       "\t1 & 33.2 \\\\\n",
       "\\end{tabular}\n"
      ],
      "text/plain": [
       "\u001b[1m1×1 DataFrame\u001b[0m\n",
       "\u001b[1m Row \u001b[0m│\u001b[1m Top5    \u001b[0m\n",
       "     │\u001b[90m Float64 \u001b[0m\n",
       "─────┼─────────\n",
       "   1 │    33.2"
      ]
     },
     "metadata": {},
     "output_type": "display_data"
    },
    {
     "data": {
      "text/html": [
       "<div><div style = \"float: left;\"><span>1×1 DataFrame</span></div><div style = \"clear: both;\"></div></div><div class = \"data-frame\" style = \"overflow-x: scroll;\"><table class = \"data-frame\" style = \"margin-bottom: 6px;\"><thead><tr class = \"header\"><th class = \"rowNumber\" style = \"font-weight: bold; text-align: right;\">Row</th><th style = \"text-align: left;\">Gini</th></tr><tr class = \"subheader headerLastRow\"><th class = \"rowNumber\" style = \"font-weight: bold; text-align: right;\"></th><th title = \"Float64\" style = \"text-align: left;\">Float64</th></tr></thead><tbody><tr><td class = \"rowNumber\" style = \"font-weight: bold; text-align: right;\">1</td><td style = \"text-align: right;\">0.73</td></tr></tbody></table></div>"
      ],
      "text/latex": [
       "\\begin{tabular}{r|c}\n",
       "\t& Gini\\\\\n",
       "\t\\hline\n",
       "\t& Float64\\\\\n",
       "\t\\hline\n",
       "\t1 & 0.73 \\\\\n",
       "\\end{tabular}\n"
      ],
      "text/plain": [
       "\u001b[1m1×1 DataFrame\u001b[0m\n",
       "\u001b[1m Row \u001b[0m│\u001b[1m Gini    \u001b[0m\n",
       "     │\u001b[90m Float64 \u001b[0m\n",
       "─────┼─────────\n",
       "   1 │    0.73"
      ]
     },
     "metadata": {},
     "output_type": "display_data"
    }
   ],
   "source": [
    "################################################\n",
    "#### TABLE 2: Wealth distribution in the model\n",
    "################################################\n",
    "@unpack aGrid,ny= params\n",
    "\n",
    "ww = [repeat(params.aGrid,params.ny) vec(solution.stationaryDist)] ;\n",
    "ww2 = sortslices(ww, dims=1) ; \n",
    "vW = round.(wealthD(ww2,5), digits=2) ;\n",
    "\n",
    "# Table 2 \n",
    "df_quartile= DataFrame(Quartile=vec(round.(wealthD(ww2,5)[:,2]*100, digits=1)) ) ;\n",
    "df_Gini= DataFrame(Gini = round.(Gini(solution.ga, solution.stationaryDist),digits=2)) ;\n",
    "df_Top5= DataFrame(Top5 =round.(wealthD(ww2,20)[:,2]*100, digits=1)[end]) ;\n",
    "\n",
    "display(df_quartile)\n",
    "display(df_Top5)\n",
    "display(df_Gini)"
   ]
  },
  {
   "cell_type": "markdown",
   "metadata": {},
   "source": [
    "### APPENDIX D7: The refined truncation\n"
   ]
  },
  {
   "cell_type": "code",
   "execution_count": 11,
   "metadata": {},
   "outputs": [
    {
     "name": "stdout",
     "output_type": "stream",
     "text": [
      "sum(y0_h .^ ν .* S_h) - sum(ys .^ ν .* Sy) = 5.241918010767677e-12\n"
     ]
    }
   ],
   "source": [
    "##################################################\n",
    "#### APPENDIX D7 The refined truncation\n",
    "##################################################\n",
    "@nbinclude(\"Projection_SP_ref.ipynb\");\n",
    "N=5;\n",
    "Vidio = repeat([20],params.ny)\n",
    "\n",
    "proj_refined = refinedProject_plan(N,Vidio,solution,params,new_ξs=false)\n",
    "plan_refined = multi_find(proj_refined,solution, params)\n",
    "Write_Dynare(proj_refined,solution,params,plan_refined,\"refined\")"
   ]
  },
  {
   "cell_type": "markdown",
   "metadata": {},
   "source": [
    "### Appendix E1: generate steady-state for robustness on the slope "
   ]
  },
  {
   "cell_type": "code",
   "execution_count": null,
   "metadata": {},
   "outputs": [],
   "source": [
    "\n",
    "# #########################\n",
    "# #### Robustness \n",
    "# #########################\n",
    "\n",
    "slope_p = [0.0062, 0.019, 0.05 ,0.085, 0.24] ;\n",
    "kappa_rob = (params.ϵ-1) ./slope_p ;  \n",
    "\n",
    "for kappa_params in kappa_rob \n",
    "\n",
    "    params = Params(\n",
    "        KsY=2.5*4,\n",
    "        α=0.36,  # capital share\n",
    "        δ=0.025, # capital depreciation\n",
    "        γ=1.,   \n",
    "        ϕ=0.5,  # Frisch elasticity 0.5\n",
    "        χ = 1.0, # defined later \n",
    "        ϵ = 6.0,\n",
    "        κ= kappa_params, ####  price adjustment not taxe\n",
    "        ν= 0.0, #### inequal distribution of profit \n",
    "        tl=0.28, #### tax rate labor \n",
    "        tk=0.36, #### tax rate capital\n",
    "        Tt=0.114, #### transfert\n",
    "        na=100,\n",
    "        a_min=1e-9, \n",
    "        a_max=1000.0,\n",
    "        curv_a=4.0,\n",
    "        ny=5,\n",
    "        ρy= 0.99, # \n",
    "        σy= 0.123 # \n",
    "        );\n",
    "\n",
    "    solution = steady(params);\n",
    "\n",
    "    N=5\n",
    "    proj = Project_plan(N,solution,params); \n",
    "    plan = multi_find(proj,solution, params);\n",
    "\n",
    "    formatted_with_decimals = @sprintf(\"%.2f\", kappa_params)\n",
    "    kappa_int = Int(floor(parse(Float64, formatted_with_decimals)))\n",
    "    formatted_name = @sprintf(\"%d\", kappa_int)\n",
    "    Write_Dynare(proj,solution,params,plan,\"rob_$(formatted_name)\")\n",
    "end"
   ]
  },
  {
   "cell_type": "markdown",
   "metadata": {},
   "source": [
    "### APPENDIX E.3.2 Unequal profit distribution\n"
   ]
  },
  {
   "cell_type": "code",
   "execution_count": 12,
   "metadata": {},
   "outputs": [
    {
     "name": "stdout",
     "output_type": "stream",
     "text": [
      "iteration: 50 0.09568587046056519\n",
      "iteration: 100 0.030022482274856398\n",
      "iteration: 150 0.007256960017945231\n",
      "iteration: 200 0.002846844148156604\n",
      "iteration: 250 0.0016444734011664863\n",
      "iteration: 300 0.0007640979840733611\n",
      "iteration: 350 0.00031200000002817835\n",
      "iteration: 400 0.00011848289549780579\n",
      "iteration: 450 4.3149783452055614e-5\n",
      "iteration: 500 1.532034875746691e-5\n",
      "iteration: 550 5.355401964374852e-6\n",
      "iteration: 600 1.855284204600897e-6\n",
      "iteration: 650 6.39903051504716e-7\n",
      "iteration: 700 2.2040068142486963e-7\n",
      "iteration: 750 7.593797360139109e-8\n",
      "iteration: 800 2.6193087600748188e-8\n",
      "iteration: 850 9.04609362296012e-9\n",
      "Solved in 850 iterations\n",
      "sum(y0_h .^ ν .* S_h) - sum(ys .^ ν .* Sy) = 1.2830625450988009e-11\n"
     ]
    },
    {
     "data": {
      "text/plain": [
       "Dict{String, Float64} with 11 entries:\n",
       "  \"total tax/Y\"                 => 0.228864\n",
       "  \"Share of constrained agents\" => 0.194328\n",
       "  \"L\"                           => 0.391889\n",
       "  \"MPC\"                         => 0.172001\n",
       "  \"I/Y\"                         => 0.25\n",
       "  \"C/Y\"                         => 0.628753\n",
       "  \"Gini\"                        => 0.730188\n",
       "  \"G/Y\"                         => 0.121247\n",
       "  \"B/Y\"                         => 0.635375\n",
       "  \"Transfers/Y\"                 => 0.0796604\n",
       "  \"K/Y\"                         => 2.5"
      ]
     },
     "metadata": {},
     "output_type": "display_data"
    }
   ],
   "source": [
    "##################################################\n",
    "#### APPENDIX E.3.2 Unequal profit distribution\n",
    "##################################################\n",
    "\n",
    "params_unequal = Params(\n",
    "    KsY=2.5*4,\n",
    "    α  = 0.36,  \n",
    "    δ  =0.025, \n",
    "    γ  =1.,  ####  \n",
    "    ϕ  =0.5,  \n",
    "    χ  =1.0,\n",
    "    ϵ  =6.0,\n",
    "    κ  =20.0,####  the Rotemberg cost parameter is set to =20\n",
    "    ν  =2.3, #### the parameter how unequal the profit distribution is ; set to =2.3 \n",
    "    tl =0.28,\n",
    "    tk =0.36, \n",
    "    Tt =0.114, \n",
    "    na =100,\n",
    "    a_min=1e-9, \n",
    "    a_max=1000.0,\n",
    "    curv_a=4.0,\n",
    "    ny=5,\n",
    "    ρy= 0.99,\n",
    "    σy= 0.123\n",
    "    );\n",
    "\n",
    "solution_unequal = steady(params_unequal);\n",
    "\n",
    "\n",
    "N=5\n",
    "proj_unequal = Project_plan(N,solution_unequal,params_unequal);\n",
    "plan_unequal = multi_find(proj_unequal,solution_unequal, params_unequal);\n",
    "Write_Dynare(proj_unequal,solution_unequal,params_unequal,plan_unequal,\"unequal\")\n",
    "describe_solution(solution_unequal,params_unequal)\n",
    "\n"
   ]
  }
 ],
 "metadata": {
  "kernelspec": {
   "display_name": "Julia 1.10.0",
   "language": "julia",
   "name": "julia-1.10"
  },
  "language_info": {
   "file_extension": ".jl",
   "mimetype": "application/julia",
   "name": "julia",
   "version": "1.10.0"
  }
 },
 "nbformat": 4,
 "nbformat_minor": 2
}
