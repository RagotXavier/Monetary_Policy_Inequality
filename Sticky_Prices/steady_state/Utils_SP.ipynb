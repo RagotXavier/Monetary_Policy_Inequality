{
 "cells": [
  {
   "cell_type": "markdown",
   "id": "936f01b1",
   "metadata": {},
   "source": [
    "Go back to the `SolveAiyagari.ipynb` notebook."
   ]
  },
  {
   "cell_type": "markdown",
   "id": "26a08fe8",
   "metadata": {},
   "source": [
    "# Useful functions"
   ]
  },
  {
   "cell_type": "markdown",
   "id": "890c68c0",
   "metadata": {},
   "source": [
    "## Gini coefficient"
   ]
  },
  {
   "cell_type": "markdown",
   "id": "4d576a77",
   "metadata": {},
   "source": [
    "We consider a discrete distribution of variables $\\{y_i\\}_{i=1,\\ldots,n}$ with probabilities $\\{p_{y_i}\\}_{i=1,\\ldots,n}$. The variables $\\{y_i\\}$ are positive and sorted in increasing order ($0<y_i<y_{i+1}$). \n",
    "The Gini coefficient $G$ is then defined as:\n",
    "$$G = 1- \\frac{\\sum_{i=1}^n p_{y_i}(S_{i-1}+S_{i})}{S_n},$$\n",
    "where $S_0=0$ and:\n",
    "$$S_i = \\sum_{j=1}^i y_jp_{y_j}.$$\n",
    "\n",
    "The function we define is `Gini(ys, pys)`,where `ys` corresponds to $\\{y_i\\}_{i=1,\\ldots,n}$, and `pys` to $\\{p_{y_i}\\}_{i=1,\\ldots,n}$. The inputs `ys` and `pys` can be either of type `Vector` or `Matrix` (but both of the same type).\n",
    "\n",
    "The input `ys` is *not* required to be sorted."
   ]
  },
  {
   "cell_type": "code",
   "execution_count": 1,
   "id": "a9f8abdd",
   "metadata": {},
   "outputs": [
    {
     "data": {
      "text/plain": [
       "Gini (generic function with 2 methods)"
      ]
     },
     "metadata": {},
     "output_type": "display_data"
    }
   ],
   "source": [
    "function Gini(ys::Vector{T}, pys::Vector{T})::T where{T<:Real}\n",
    "    @assert size(ys)==size(pys)\n",
    "    iys = sortperm(ys)\n",
    "    ys .= ys[iys]\n",
    "    pys .= pys[iys]\n",
    "    Ss = [zero(T); cumsum(ys.*pys)]\n",
    "    return one(T) - sum(pys.*(Ss[1:end-1].+Ss[2:end]))/Ss[end]\n",
    "end\n",
    "function Gini(ys::Matrix{T}, pys::Matrix{T})::T where{T<:Real}\n",
    "    @assert size(ys)==size(pys)\n",
    "    return Gini(ys[:],pys[:])\n",
    "end"
   ]
  },
  {
   "cell_type": "markdown",
   "id": "984f4b10",
   "metadata": {},
   "source": [
    "This function computes the distribution by quintile"
   ]
  },
  {
   "cell_type": "code",
   "execution_count": null,
   "id": "af6f5b12",
   "metadata": {},
   "outputs": [],
   "source": [
    "\n",
    "function wealthD(ww::AbstractArray,NN::Integer)\n",
    "    ww2 = sortslices(ww, dims=1)\n",
    "    fracw = cumsum(ww2[:,1].*ww2[:,2])\n",
    "    fracw =fracw ./fracw[end]\n",
    "    fracS = cumsum(ww2[:,2])\n",
    "    plot(fracS,fracw)\n",
    "    vect = zeros(Float64,NN,2)\n",
    "    is  = 0\n",
    "    for i=1:NN\n",
    "        is = maximum(findall(x->x<=i/NN,fracS))\n",
    "        vect[i,1] = fracS[is] #- vect[i-1,1]\n",
    "        vect[i,2] = fracw[is] #- vect[i-1,2]\n",
    "    end\n",
    "    vecf = zeros(Float64,NN,2)\n",
    "    vecf[1,:] .= vect[1,:]\n",
    "    for i=2:NN   \n",
    "        vecf[i,1] = vect[i,1] - vect[i-1,1]\n",
    "        vecf[i,2] = vect[i,2] - vect[i-1,2]\n",
    "    end\n",
    "    return  vecf\n",
    "    end"
   ]
  }
 ],
 "metadata": {
  "kernelspec": {
   "display_name": "Julia 1.9.2",
   "language": "julia",
   "name": "julia-1.9"
  },
  "language_info": {
   "file_extension": ".jl",
   "mimetype": "application/julia",
   "name": "julia",
   "version": "1.9.2"
  }
 },
 "nbformat": 4,
 "nbformat_minor": 5
}
