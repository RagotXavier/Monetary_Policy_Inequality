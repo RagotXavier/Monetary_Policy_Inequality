{
 "cells": [
  {
   "cell_type": "markdown",
   "id": "936f01b1",
   "metadata": {},
   "source": [
    "Go back to the `SolveAiyagari.ipynb` notebook."
   ]
  },
  {
   "cell_type": "markdown",
   "id": "26a08fe8",
   "metadata": {},
   "source": [
    "# Useful functions"
   ]
  },
  {
   "cell_type": "code",
   "execution_count": 1,
   "id": "bbbda143",
   "metadata": {},
   "outputs": [
    {
     "data": {
      "text/plain": [
       "norm (generic function with 1 method)"
      ]
     },
     "metadata": {},
     "output_type": "display_data"
    }
   ],
   "source": [
    "function norm(x; p=nothing) \n",
    "    return isnothing(p) ? maximum(abs.(x)) : sum(abs.(x).^p)\n",
    "end"
   ]
  },
  {
   "cell_type": "markdown",
   "id": "890c68c0",
   "metadata": {},
   "source": [
    "## Gini coefficient"
   ]
  },
  {
   "cell_type": "markdown",
   "id": "4d576a77",
   "metadata": {},
   "source": [
    "We consider a discrete distribution of variables $\\{y_i\\}_{i=1,\\ldots,n}$ with probabilities $\\{p_{y_i}\\}_{i=1,\\ldots,n}$. The variables $\\{y_i\\}$ are positive and sorted in increasing order ($0<y_i<y_{i+1}$). \n",
    "The Gini coefficient $G$ is then defined as:\n",
    "$$G = 1- \\frac{\\sum_{i=1}^n p_{y_i}(S_{i-1}+S_{i})}{S_n},$$\n",
    "where $S_0=0$ and:\n",
    "$$S_i = \\sum_{j=1}^i y_jp_{y_j}.$$\n",
    "\n",
    "The function we define is `Gini(ys, pys)`,where `ys` corresponds to $\\{y_i\\}_{i=1,\\ldots,n}$, and `pys` to $\\{p_{y_i}\\}_{i=1,\\ldots,n}$. The inputs `ys` and `pys` can be either of type `Vector` or `Matrix` (but both of the same type).\n",
    "\n",
    "The input `ys` is *not* required to be sorted."
   ]
  },
  {
   "cell_type": "code",
   "execution_count": 27,
   "id": "a9f8abdd",
   "metadata": {},
   "outputs": [
    {
     "data": {
      "text/plain": [
       "Gini (generic function with 2 methods)"
      ]
     },
     "execution_count": 27,
     "metadata": {},
     "output_type": "execute_result"
    }
   ],
   "source": [
    "function Gini(ys::Vector{T}, pys::Vector{T})::T where{T<:Real}\n",
    "    @assert size(ys)==size(pys)\n",
    "    iys = sortperm(ys)\n",
    "    ys .= ys[iys]\n",
    "    pys .= pys[iys]\n",
    "    Ss = [zero(T); cumsum(ys.*pys)]\n",
    "    return one(T) - sum(pys.*(Ss[1:end-1].+Ss[2:end]))/Ss[end]\n",
    "end\n",
    "function Gini(ys::Matrix{T}, pys::Matrix{T})::T where{T<:Real}\n",
    "    @assert size(ys)==size(pys)\n",
    "    return Gini(ys[:],pys[:])\n",
    "end"
   ]
  },
  {
   "cell_type": "markdown",
   "id": "984f4b10",
   "metadata": {},
   "source": [
    "This function computes the distribution by quintile"
   ]
  },
  {
   "cell_type": "code",
   "execution_count": null,
   "id": "af6f5b12",
   "metadata": {},
   "outputs": [],
   "source": [
    "\n",
    "function wealthD(ww::AbstractArray,NN::Integer)\n",
    "    ww2 = sortslices(ww, dims=1)\n",
    "    fracw = cumsum(ww2[:,1].*ww2[:,2])\n",
    "    fracw =fracw ./fracw[end]\n",
    "    fracS = cumsum(ww2[:,2])\n",
    "    plot(fracS,fracw)\n",
    "    vect = zeros(Float64,NN,2)\n",
    "    is  = 0\n",
    "    for i=1:NN\n",
    "        is = maximum(findall(x->x<=i/NN,fracS))\n",
    "        vect[i,1] = fracS[is] #- vect[i-1,1]\n",
    "        vect[i,2] = fracw[is] #- vect[i-1,2]\n",
    "    end\n",
    "    vecf = zeros(Float64,NN,2)\n",
    "    vecf[1,:] .= vect[1,:]\n",
    "    for i=2:NN   \n",
    "        vecf[i,1] = vect[i,1] - vect[i-1,1]\n",
    "        vecf[i,2] = vect[i,2] - vect[i-1,2]\n",
    "    end\n",
    "    return  vecf\n",
    "    end"
   ]
  },
  {
   "cell_type": "code",
   "execution_count": null,
   "id": "8746b39a",
   "metadata": {},
   "outputs": [],
   "source": [
    "# Aigar"
   ]
  },
  {
   "cell_type": "markdown",
   "id": "9593afa2",
   "metadata": {},
   "source": [
    "# Deprecated functions\n",
    "\n",
    "These functions are not used anymore but kept for legacy reasons.\n",
    "\n",
    "## Converting from base `E` to base 10 (and vice-versa)\n",
    "\n",
    "\n",
    "### From base `E` to base 10\n",
    "\n",
    "The function `convertBasisE10(vE, E, N)` converts a number expressed in base-`E` (and represented as the vector `vE`) into its decimal representation `p` (as an integer).\n",
    "\n",
    "***Remarks*** \n",
    "* elements in `vE` are  between 1 and $E$ (and not 0 and $E-1$);\n",
    "* `vE[1]` represents the largest power and `vE[N]` represents units."
   ]
  },
  {
   "cell_type": "code",
   "execution_count": 3,
   "id": "eca0dd0c",
   "metadata": {},
   "outputs": [],
   "source": [
    "function convertBasisE10(vE::Vector{I}, E::I)::I where {I<:Integer}\n",
    "# converts the a vector vE into an integer p \n",
    "\n",
    "    @assert (minimum(vE)≥1)&&(maximum(vE)≤E)\n",
    "    \n",
    "    N = length(vE)    \n",
    "    p = one(I) #otherwise p lieas between 0 and (E+1)^N - 1\n",
    "    for k ∈ eachindex(vE)\n",
    "        p += (vE[k]-1)*E^(N-k)\n",
    "    end\n",
    "    return p\n",
    "end;"
   ]
  },
  {
   "cell_type": "markdown",
   "id": "888b13e7",
   "metadata": {},
   "source": [
    "#### Example\n",
    "\n",
    "We convert `[2, 2, 1]` (i.e., 110 with a more usual binary notation) into base 10."
   ]
  },
  {
   "cell_type": "code",
   "execution_count": 7,
   "id": "f13bdb44",
   "metadata": {},
   "outputs": [
    {
     "data": {
      "text/plain": [
       "7"
      ]
     },
     "execution_count": 7,
     "metadata": {},
     "output_type": "execute_result"
    }
   ],
   "source": [
    "convertBasisE10([2, 2, 1], 2)"
   ]
  },
  {
   "cell_type": "markdown",
   "id": "62339486",
   "metadata": {},
   "source": [
    "### From base 10 to base `E`\n",
    "\n",
    "The function `convertBasis10E(p, E, N)` converts a number expressed in base-10 (and represented as the integer p) into its base-`E` representation `vE` (as a vector of length `N`). This is the inverse of `convertBasisE10`.\n",
    "\n",
    "Same remarks as for `convertBasisE10`."
   ]
  },
  {
   "cell_type": "code",
   "execution_count": 10,
   "id": "dfea1fbe",
   "metadata": {},
   "outputs": [
    {
     "data": {
      "text/plain": [
       "convertBasis10E (generic function with 1 method)"
      ]
     },
     "execution_count": 10,
     "metadata": {},
     "output_type": "execute_result"
    }
   ],
   "source": [
    "function  convertBasis10E(p::I, E::I, N::I)::Vector{I} where{I<:Integer}\n",
    "\n",
    "    vE = zeros(I, N)    \n",
    "    @assert (p≥1)&&(p≤E^N)\n",
    "    ptemp = p-1;\n",
    "    for k ∈ eachindex(vE)\n",
    "        ptemp, r = divrem(ptemp,E)\n",
    "        vE[N-k+1] = 1+r        \n",
    "    end\n",
    "    return vE\n",
    "end"
   ]
  },
  {
   "cell_type": "markdown",
   "id": "ca8ba731",
   "metadata": {},
   "source": [
    "#### Example\n",
    "\n",
    "We check that 7 converts back into  `[2, 2, 1]`."
   ]
  },
  {
   "cell_type": "code",
   "execution_count": 13,
   "id": "2cf4a48b",
   "metadata": {},
   "outputs": [
    {
     "data": {
      "text/plain": [
       "3-element Vector{Int64}:\n",
       " 2\n",
       " 2\n",
       " 1"
      ]
     },
     "execution_count": 13,
     "metadata": {},
     "output_type": "execute_result"
    }
   ],
   "source": [
    "convertBasis10E(7, 2, 3)"
   ]
  },
  {
   "cell_type": "code",
   "execution_count": null,
   "id": "41154ebf",
   "metadata": {},
   "outputs": [],
   "source": []
  }
 ],
 "metadata": {
  "kernelspec": {
   "display_name": "Julia 1.9.2",
   "language": "julia",
   "name": "julia-1.9"
  },
  "language_info": {
   "file_extension": ".jl",
   "mimetype": "application/julia",
   "name": "julia",
   "version": "1.9.2"
  }
 },
 "nbformat": 4,
 "nbformat_minor": 5
}
