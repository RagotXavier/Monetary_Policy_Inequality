{
 "cells": [
  {
   "cell_type": "code",
   "execution_count": 1,
   "metadata": {},
   "outputs": [],
   "source": [
    "using Parameters                     # @unpack\n",
    "using QuantEcon:rouwenhorst,tauchen  # Rouwenhorst + Tauchen\n",
    "using Roots:find_zero                # root finding\n",
    "using SparseArrays                   # sparse matrices\n",
    "using IterativeSolvers:powm!         # largest eigenvector + associated eigenvector\n",
    "using Plots                          # Plots\n",
    "using LinearAlgebra\n",
    "using NBInclude                      # including notebooks instead of jl files\n",
    "using JuMP                           # Optimization package\n",
    "import Ipopt                         # related to JuMP\n",
    "import Test                          # related to JuMP\n",
    "using MAT                            # writing a .m file\n",
    "using DataFrames\n",
    "using Printf\n"
   ]
  },
  {
   "cell_type": "code",
   "execution_count": 2,
   "metadata": {},
   "outputs": [],
   "source": [
    "@nbinclude(\"Structures_SW.ipynb\"); \n",
    "@nbinclude(\"Utils_SW.ipynb\");\n",
    "@nbinclude(\"SolveAiyagari_SW.ipynb\");\n",
    "@nbinclude(\"Truncation_SW.ipynb\");\n",
    "@nbinclude(\"Ramsey_SW.ipynb\");\n",
    "@nbinclude(\"ToDynare_SW.ipynb\");"
   ]
  },
  {
   "cell_type": "markdown",
   "metadata": {},
   "source": [
    "## Main Specification "
   ]
  },
  {
   "cell_type": "code",
   "execution_count": 3,
   "metadata": {},
   "outputs": [
    {
     "name": "stdout",
     "output_type": "stream",
     "text": [
      "iteration: 50 0.04130553693089408\n",
      "iteration: 100 0.08136691559381093\n",
      "iteration: 150 0.009136032373954476\n",
      "iteration: 200 0.0031241180556728894\n",
      "iteration: 250 0.001210211520891905\n",
      "iteration: 300 0.0004769009155005794\n",
      "iteration: 350 0.00018666553750325745\n",
      "iteration: 400 7.214021667376306e-5\n",
      "iteration: 450 2.753478913081394e-5\n",
      "iteration: 500 1.040351269704885e-5\n",
      "iteration: 550 3.9017281700172115e-6\n",
      "iteration: 600 1.4561010836259808e-6\n",
      "iteration: 650 5.418122109605533e-7\n",
      "iteration: 700 2.013061683525899e-7\n",
      "iteration: 750 7.475290447810407e-8\n",
      "iteration: 800 2.7758689328635857e-8\n",
      "iteration: 850 1.031055105828631e-8\n",
      "Solved in 900 iterations\n",
      "(iterL, L0, abs(L0 - old_L)) = (1, 0.3326818354670531, 1.0217617862906536e-9)\n",
      "Solved in 50 iterations\n",
      "(iterL, L0, abs(L0 - old_L)) = (2, 0.33268183579344324, 3.2639013713975373e-10)\n",
      "Solved in 50 iterations\n",
      "(iterL, L0, abs(L0 - old_L)) = (3, 0.33268183612669566, 3.332524256549618e-10)\n",
      "Solved in 50 iterations\n",
      "(iterL, L0, abs(L0 - old_L)) = (4, 0.3326818363124695, 1.8577384075513237e-10)\n",
      "Solved in 50 iterations\n",
      "(iterL, L0, abs(L0 - old_L)) = (5, 0.3326818363993567, 8.688721964134061e-11)\n",
      "Total number of positive-size histories: 73901. Gini                               0.7296\n",
      "02. Debt-to-GDP, B/Y                   62.99%\n",
      "03. Public spending-to-GDP, G/Y        10.72%\n",
      "04. Aggregate consumption-to-GDP, C/Y  64.28%\n",
      "05. Capital-to-GDP, K/Y                250.0%\n",
      "06. Investment-to-GDP, I/Y             25.0%\n",
      "07. Transfers-to-GDP, Tt/Y             9.38%\n",
      "08. Aggregate labor supply, L          0.3327\n",
      "09. Average MPC                        0.2049\n",
      "10. Consumption tax-to-GDP             0.0%\n",
      "11. Labor tax-to-GDP                   17.92%\n",
      "12. Capital tax-to-GDP                 4.96%\n",
      "13. Total tax-to-GDP                   22.88%\n",
      "14. Share of credit-constrained agents 17.94%\n"
     ]
    }
   ],
   "source": [
    "economy = Economy(\n",
    "    α      = 0.36,             # capital share\n",
    "    β      = 0.9891196834817012, \n",
    "    δ      = 0.025,            # capital depreciation\n",
    "    ϕ      = 0.5,#1.0,         # Frisch elasticity 0.5\n",
    "    χ      = 0.061,             \n",
    "    γ      = 1.0,              # inverse of IES #2.0 Curvature utility is 1.2 in monetary paper \n",
    "    τk     = 0.36,             # capital tax\n",
    "    τl     = 0.28,             # labor tax\n",
    "    Tt     = 0.114,            # lump-sum transfer\n",
    "    na     = 100,              # nb of asset grid points\n",
    "    a_min  = 1e-9,             # minimal asset holding\n",
    "    a_max  = 1000.0,           # maximal asset holding\n",
    "    curv_a = 4,                # curvature of the exponential asset grid \n",
    "    ny     = 5,                # nb of producivity states\n",
    "    ρy     = 0.9885,           # quarterly persistence of productivity\n",
    "    σy     = 0.154             # quarterly SE of productivity innovation\n",
    "    );\n",
    "\n",
    "\n",
    "\n",
    "# the function considers the same market power and change price adjustment cost to match the desired slope\n",
    "economy = Economy(economy, \n",
    "    slope_p=0.00,\n",
    "    slope_w=0.03);\n",
    "\n",
    "\n",
    "solution = steady(economy,initL=0.3326818364888149,tolL=1e-10,maxiterL=100);\n",
    "\n",
    "# Setting truncation length\n",
    "N = 5            # uniform truncation\n",
    "refiNs = fill(N+1, economy.ny)   # refined truncation\n",
    "\n",
    "# Computing the truncated model\n",
    "truncatedModel = TruncatedModel(N,refiNs,solution,economy);\n",
    "print(\"Total number of positive-size histories: \",truncatedModel.Ntot);\n",
    "\n",
    "ramsey = Ramsey(truncatedModel,solution,economy)\n",
    "Write_Dynare(\"../dynamics/toDynare_SW.mat\",ramsey,solution,economy)\n",
    "(print_dict∘describe_solution)(solution,economy)\n"
   ]
  },
  {
   "cell_type": "code",
   "execution_count": 4,
   "metadata": {},
   "outputs": [
    {
     "data": {
      "text/html": [
       "<div><div style = \"float: left;\"><span>5×1 DataFrame</span></div><div style = \"clear: both;\"></div></div><div class = \"data-frame\" style = \"overflow-x: scroll;\"><table class = \"data-frame\" style = \"margin-bottom: 6px;\"><thead><tr class = \"header\"><th class = \"rowNumber\" style = \"font-weight: bold; text-align: right;\">Row</th><th style = \"text-align: left;\">Quartile</th></tr><tr class = \"subheader headerLastRow\"><th class = \"rowNumber\" style = \"font-weight: bold; text-align: right;\"></th><th title = \"Float64\" style = \"text-align: left;\">Float64</th></tr></thead><tbody><tr><td class = \"rowNumber\" style = \"font-weight: bold; text-align: right;\">1</td><td style = \"text-align: right;\">0.0</td></tr><tr><td class = \"rowNumber\" style = \"font-weight: bold; text-align: right;\">2</td><td style = \"text-align: right;\">0.3</td></tr><tr><td class = \"rowNumber\" style = \"font-weight: bold; text-align: right;\">3</td><td style = \"text-align: right;\">5.4</td></tr><tr><td class = \"rowNumber\" style = \"font-weight: bold; text-align: right;\">4</td><td style = \"text-align: right;\">18.7</td></tr><tr><td class = \"rowNumber\" style = \"font-weight: bold; text-align: right;\">5</td><td style = \"text-align: right;\">75.6</td></tr></tbody></table></div>"
      ],
      "text/latex": [
       "\\begin{tabular}{r|c}\n",
       "\t& Quartile\\\\\n",
       "\t\\hline\n",
       "\t& Float64\\\\\n",
       "\t\\hline\n",
       "\t1 & 0.0 \\\\\n",
       "\t2 & 0.3 \\\\\n",
       "\t3 & 5.4 \\\\\n",
       "\t4 & 18.7 \\\\\n",
       "\t5 & 75.6 \\\\\n",
       "\\end{tabular}\n"
      ],
      "text/plain": [
       "\u001b[1m5×1 DataFrame\u001b[0m\n",
       "\u001b[1m Row \u001b[0m│\u001b[1m Quartile \u001b[0m\n",
       "     │\u001b[90m Float64  \u001b[0m\n",
       "─────┼──────────\n",
       "   1 │      0.0\n",
       "   2 │      0.3\n",
       "   3 │      5.4\n",
       "   4 │     18.7\n",
       "   5 │     75.6"
      ]
     },
     "metadata": {},
     "output_type": "display_data"
    },
    {
     "data": {
      "text/html": [
       "<div><div style = \"float: left;\"><span>1×1 DataFrame</span></div><div style = \"clear: both;\"></div></div><div class = \"data-frame\" style = \"overflow-x: scroll;\"><table class = \"data-frame\" style = \"margin-bottom: 6px;\"><thead><tr class = \"header\"><th class = \"rowNumber\" style = \"font-weight: bold; text-align: right;\">Row</th><th style = \"text-align: left;\">Top5</th></tr><tr class = \"subheader headerLastRow\"><th class = \"rowNumber\" style = \"font-weight: bold; text-align: right;\"></th><th title = \"Float64\" style = \"text-align: left;\">Float64</th></tr></thead><tbody><tr><td class = \"rowNumber\" style = \"font-weight: bold; text-align: right;\">1</td><td style = \"text-align: right;\">34.5</td></tr></tbody></table></div>"
      ],
      "text/latex": [
       "\\begin{tabular}{r|c}\n",
       "\t& Top5\\\\\n",
       "\t\\hline\n",
       "\t& Float64\\\\\n",
       "\t\\hline\n",
       "\t1 & 34.5 \\\\\n",
       "\\end{tabular}\n"
      ],
      "text/plain": [
       "\u001b[1m1×1 DataFrame\u001b[0m\n",
       "\u001b[1m Row \u001b[0m│\u001b[1m Top5    \u001b[0m\n",
       "     │\u001b[90m Float64 \u001b[0m\n",
       "─────┼─────────\n",
       "   1 │    34.5"
      ]
     },
     "metadata": {},
     "output_type": "display_data"
    },
    {
     "data": {
      "text/html": [
       "<div><div style = \"float: left;\"><span>1×1 DataFrame</span></div><div style = \"clear: both;\"></div></div><div class = \"data-frame\" style = \"overflow-x: scroll;\"><table class = \"data-frame\" style = \"margin-bottom: 6px;\"><thead><tr class = \"header\"><th class = \"rowNumber\" style = \"font-weight: bold; text-align: right;\">Row</th><th style = \"text-align: left;\">Gini</th></tr><tr class = \"subheader headerLastRow\"><th class = \"rowNumber\" style = \"font-weight: bold; text-align: right;\"></th><th title = \"Float64\" style = \"text-align: left;\">Float64</th></tr></thead><tbody><tr><td class = \"rowNumber\" style = \"font-weight: bold; text-align: right;\">1</td><td style = \"text-align: right;\">0.73</td></tr></tbody></table></div>"
      ],
      "text/latex": [
       "\\begin{tabular}{r|c}\n",
       "\t& Gini\\\\\n",
       "\t\\hline\n",
       "\t& Float64\\\\\n",
       "\t\\hline\n",
       "\t1 & 0.73 \\\\\n",
       "\\end{tabular}\n"
      ],
      "text/plain": [
       "\u001b[1m1×1 DataFrame\u001b[0m\n",
       "\u001b[1m Row \u001b[0m│\u001b[1m Gini    \u001b[0m\n",
       "     │\u001b[90m Float64 \u001b[0m\n",
       "─────┼─────────\n",
       "   1 │    0.73"
      ]
     },
     "metadata": {},
     "output_type": "display_data"
    }
   ],
   "source": [
    "################################################\n",
    "#### Wealth distribution in the model (Main Spec)\n",
    "################################################\n",
    "\n",
    "ww = [repeat(economy.aGrid,economy.ny) vec(solution.stationaryDist)] ;\n",
    "ww2 = sortslices(ww, dims=1) ; \n",
    "vW = round.(wealthD(ww2,5), digits=2) ;\n",
    "\n",
    "# Table 2 \n",
    "df_quartile= DataFrame(Quartile=vec(round.(wealthD(ww2,5)[:,2]*100, digits=1)) ) ;\n",
    "df_Gini= DataFrame(Gini = round.(Gini(solution.ga, solution.stationaryDist),digits=2)) ;\n",
    "df_Top5= DataFrame(Top5 =round.(wealthD(ww2,20)[:,2]*100, digits=1)[end]) ;\n",
    "\n",
    "display(df_quartile)\n",
    "display(df_Top5)\n",
    "display(df_Gini)\n"
   ]
  }
 ],
 "metadata": {
  "kernelspec": {
   "display_name": "Julia 1.10.0",
   "language": "julia",
   "name": "julia-1.10"
  },
  "language_info": {
   "file_extension": ".jl",
   "mimetype": "application/julia",
   "name": "julia",
   "version": "1.10.0"
  }
 },
 "nbformat": 4,
 "nbformat_minor": 2
}
