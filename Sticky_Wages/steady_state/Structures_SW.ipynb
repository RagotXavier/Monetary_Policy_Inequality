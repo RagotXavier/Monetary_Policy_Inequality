{
 "cells": [
  {
   "cell_type": "markdown",
   "metadata": {},
   "source": [
    "# The structures notebook  <a id=\"summary-truncation\"></a>[<font size=1>(back to `Main.ipynb`)</font>](./Main.ipynb)\n",
    "\n",
    "This notebook gathers all structures -- and their related constructors -- that are used in the computaion of the steady-state Ramsey allocation."
   ]
  },
  {
   "cell_type": "markdown",
   "metadata": {},
   "source": [
    "# Input"
   ]
  },
  {
   "cell_type": "markdown",
   "metadata": {},
   "source": [
    "## Structure"
   ]
  },
  {
   "cell_type": "code",
   "execution_count": 1,
   "metadata": {},
   "outputs": [],
   "source": [
    "struct Economy{T<:Real,T1<:Function,T2<:Function,T3<:Function,T4<:Function,T5<:Function,T6<:Function,T7<:Function,T8<:Function,I<:Int64}\n",
    "    β::T      # discount factor\n",
    "    α::T      # capital share in the Cobb-Douglas production function\n",
    "    δ::T      # capital depreciation\n",
    "    γ::T      # inverse of consumption IES (needed for Dynare only)\n",
    "    χ::T      # scaling labor supply\n",
    "    ϕ::T      # Frish elasticity\n",
    "    τl::T     # labor tax\n",
    "    τk::T     # capital tax\n",
    "    τs::T     # labor subsidy\n",
    "    Tt::T     # transfers\n",
    "\n",
    "    #=\n",
    "        *** wage and price rigidities ***\n",
    "    =#\n",
    "    ψp::T     # price adj cost\n",
    "    ψw::T     # wage adj cost\n",
    "    ϵp::T     # market power firm\n",
    "    ϵw::T     # market power union\n",
    "    κw::T     # corrective factor for the steady-state labor wedge\n",
    "    \n",
    "    #=\n",
    "        *** utility functions ***\n",
    "    =#\n",
    "    u  ::T1        # utility function for consumption\n",
    "    u′ ::T2       # u′\n",
    "    inv_u′::T3       # inverse of u′\n",
    "    u′′::T4     # second-order derivative of u \n",
    "    v  ::T5     # second-order derivative of u \n",
    "    v′ ::T6     # second-order derivative of u \n",
    "    v′′::T7     # second-order derivative of u\n",
    "    inv_v′::T8\n",
    "    \n",
    "    #=\n",
    "        *** grid for asset choices ***\n",
    "    =#\n",
    "    na    ::I         # number of grid points\n",
    "    a_min ::T         # min asset holdings\n",
    "    aGrid ::Vector{T} # grid for asset choices\n",
    "\n",
    "    #=\n",
    "        *** productivity process ***\n",
    "    =#\n",
    "    ny    ::I         # number of productivity states\n",
    "    ys    ::Vector{T} # productivity states  \n",
    "    Πy    ::Matrix{T} # transition matrix \n",
    "    Sy    ::Vector{T} # productivity distribution \n",
    "end;\n"
   ]
  },
  {
   "cell_type": "markdown",
   "metadata": {},
   "source": [
    "## Constructor"
   ]
  },
  {
   "cell_type": "code",
   "execution_count": 1,
   "metadata": {},
   "outputs": [
    {
     "ename": "LoadError",
     "evalue": "TypeError: in Type{...} expression, expected UnionAll, got a value of type typeof(Economy)",
     "output_type": "error",
     "traceback": [
      "TypeError: in Type{...} expression, expected UnionAll, got a value of type typeof(Economy)",
      "",
      "Stacktrace:",
      " [1] top-level scope",
      "   @ In[1]:101"
     ]
    }
   ],
   "source": [
    "function Economy(;\n",
    "    α::T      = 0.36,\n",
    "    # β::T      = 0.99, #discount factor\n",
    "    β::T      = 9891196834817012,\n",
    "    δ::T      = 0.025,\n",
    "    ϕ::T      = 0.5,\n",
    "    γ::T      = 2.0,\n",
    "    τk::T     = 0.36,\n",
    "    # χ::T      = 1.0,       \n",
    "    χ::T      = 0.033,\n",
    "    τl::T     = 0.28, # initial guess\n",
    "    τs::T     = 0.0, # be careful, it is 1-τ in Heathcote and κ is λ ! \n",
    "    Tt::T     = 0.114,\n",
    "    ψp::T     = 0.0,  #price adj cost\n",
    "    ψw::T     = 100.0, #wage adj cost\n",
    "    ϵp::T     = 6.0,  #market power firm\n",
    "    ϵw::T     = 21.0, #market power union\n",
    "    κw::T     = 1.0,\n",
    "    ρy        = 0.994,            # quarterly persistence of productivity\n",
    "    σy        = 0.0727,              # quarterly SE of productivity innovation\n",
    "    # ρy::T     = 0.99,      # version sticky price\n",
    "    # σy::T     = 0.123,      # version sticky price\n",
    "    ny::I     = 5,\n",
    "    na::I     = 100,\n",
    "    a_min::T  = 1e-9,\n",
    "    a_max::T  = 1000.0, #10000\n",
    "    curv_a::I = 4\n",
    "    ) where {T<:Real,I<:Int}\n",
    "    \n",
    "    Rt = one(T)/β #before-tax gross interest rate\n",
    "    wt = (one(T)-α)*( (Rt - (1-δ))/α )^(α/(α-one(T)))\n",
    "    \n",
    "    R  = (one(T) + (one(T) - τk)*(Rt-one(T)))\n",
    "\n",
    "    \n",
    "    # κw= 1/(1-1/ϵw) # κw is 1/(1-tauE)\n",
    "    # tauE = 1 - 1/κw\n",
    "    # w  = (1-τl)*(1-τs)*(1-tauE)*one(T) # their tax allowed wt = 1? \n",
    "    w  = (1-τl)*wt #  \n",
    "\n",
    "\n",
    "    # w  = (1-τl)*(1-τs)*(1-tauE)*wt \n",
    "\n",
    "\n",
    "    \n",
    "    # χ  = ((1/3.508)^(1/ϕ))/w \n",
    "    #χ  = 0.01# to targer L = 0.33 0.12\n",
    "\n",
    "\n",
    "    #κw = 1/(1-1/ϵw) # κw is 1/(1-tauE)\n",
    "\n",
    "\n",
    "    #=\n",
    "        *** Constructing utility functions ***\n",
    "    =#\n",
    "    u(c)       = (γ ≈ one(T)) ? log(c) : (c^(one(T)-γ)-zero(T))/(one(T)-γ)::T\n",
    "    u′(c)      = c^(-γ)::T\n",
    "    inv_u′(up) = up^(-one(T)/γ)::T \n",
    "    u′′(c)     = -γ*c^(-γ-one(T))::T\n",
    "    v(l)       = (1/χ)*(l^(1+1/ϕ))/(1+1/ϕ) # function v\n",
    "    v′(l)      = (1/χ)*l^(1/ϕ)\n",
    "    inv_v′(vp) = (χ*vp)^ϕ\n",
    "    v′′(l)     = (1/χ)*(1/ϕ)*l^(1/ϕ-1)    \n",
    "\n",
    "    #=\n",
    "        *** Constructing the asset grid ***\n",
    "    =#    \n",
    "    aGrid = a_min .+ (a_max-a_min)*(range(0.0, 1.0, length=na)).^curv_a\n",
    "    \n",
    "    #=\n",
    "        *** Constructing the productivity process ***\n",
    "    =#\n",
    "    mc    =  rouwenhorst(ny,ρy,σy)\n",
    "    Trans = collect(mc.p')\n",
    "    Trans[findall(x->x<=5*10^-5,Trans)] .= zero(Trans[1,1])\n",
    "    for i = 1:ny\n",
    "        Trans[i,i] += one(Trans[1,1]) - sum(Trans,dims=1)[i]\n",
    "    end\n",
    "    Sy  = (Trans^100000)[:,1]\n",
    "    \n",
    "    endow = exp.(mc.state_values)\n",
    "    ys = endow./sum(Sy.*endow) # ensuring L=1\n",
    "    \n",
    "     #return the Params using the natural constructor \n",
    "    return Economy{T,typeof(u),typeof(u′),typeof(inv_u′),\n",
    "                    typeof(u′′),typeof(v),typeof(v′),typeof(v′′),typeof(inv_v′),I}(\n",
    "        β,α,δ,γ,χ,ϕ,τl,τk,τs,Tt,\n",
    "        ψp,ψw,ϵp,ϵw,κw,\n",
    "        u,u′,inv_u′,u′′,v,v′,v′′,inv_v′,\n",
    "        na,a_min,aGrid,\n",
    "        ny,ys,Matrix(Trans'),Sy)\n",
    "        \n",
    "end;\n",
    "\n",
    "function Economy(slope_p::T,# slope Philipps curve pricve\n",
    "    slope_w::T,# slope Phillips curve wage\n",
    "    eco::Economy) where {T<:Real}\n",
    "    #changing only the price adjustment cost\n",
    "\n",
    "    Economy(eco.β,eco.α,eco.δ,eco.γ,eco.χ,eco.ϕ,eco.τl,eco.τk,eco.τs,eco.Tt,\n",
    "        (eco.ϵp-1)/slope_p,eco.ϵw/slope_w,eco.ϵp,eco.ϵw,eco.κw,\n",
    "        eco.u,eco.u′,eco.inv_u′,eco.u′′,eco.v,eco.v′,eco.v′′,eco.inv_v′,\n",
    "        eco.na,eco.a_min,eco.aGrid,\n",
    "        eco.ny,eco.ys,eco.Πy,eco.Sy)\n",
    "end;\n",
    "\n",
    "function Economy(eco::Economy; \n",
    "    slope_p::T=0.05,# slope Philipps curve pricve\n",
    "    slope_w::T=0.05# slope Phillips curve wage\n",
    "    ) where {T<:Real}\n",
    "    \n",
    "    Economy(slope_p,slope_w,eco)        \n",
    "end;"
   ]
  },
  {
   "cell_type": "markdown",
   "metadata": {},
   "source": [
    "# Output of the Aiyagari model"
   ]
  },
  {
   "cell_type": "markdown",
   "metadata": {},
   "source": [
    "## Structure "
   ]
  },
  {
   "cell_type": "code",
   "execution_count": 3,
   "metadata": {},
   "outputs": [],
   "source": [
    "mutable struct AiyagariSolution{T<:Real,I<:Integer}    \n",
    "    ga::Matrix{T} # policy function for savings on the asset grid\n",
    "    gl::Matrix{T} # policy function for labor supply on the asset grid\n",
    "    gc::Matrix{T} # policy function for consumption on the asset grid\n",
    "    Rt::T         # pre-tax gross interest rate\n",
    "    wt::T         # pre-tax wage rate\n",
    "    R::T          # post-tax gross interest rate\n",
    "    w::T          # post-tax wage rate\n",
    "    A::T          # aggregate savings\n",
    "    C::T          # aggregate consumption\n",
    "    K::T          # aggregate capital\n",
    "    L::T          # aggregate and individual labor supply (in efficient units)\n",
    "    G::T          # public spending\n",
    "    Y::T          # GDP\n",
    "    B::T          # public debt\n",
    "#     πw::T         # wage inflation\n",
    "#     πp::T         # price inflation\n",
    "    transitMat::SparseMatrixCSC{T,I} #\n",
    "    stationaryDist::Matrix{T} #\n",
    "    residEuler::Matrix{T} #\n",
    "end"
   ]
  },
  {
   "cell_type": "markdown",
   "metadata": {},
   "source": [
    "## Constructor"
   ]
  },
  {
   "cell_type": "code",
   "execution_count": 4,
   "metadata": {},
   "outputs": [],
   "source": [
    "function AiyagariSolution(eco::Economy{T,T1,T2,T3,T4,T5,T6,T7,T8,I}) where {T<:Real,\n",
    "            T1<:Function,T2<:Function,T3<:Function,T4<:Function,T5<:Function,\n",
    "            T6<:Function,T7<:Function,T8<:Function,I<:Int64}\n",
    "    @unpack β,α,δ,γ,τs,τk,τl,ys,na,u′,ny,aGrid = eco\n",
    "    Rt = one(T)/β #before-tax gross interest rate\n",
    "    # wt = one(T)  #(one(T)-α)*( (Rt - (1-δ))/α )^(α/(α-one(T)))\n",
    "    wt = (one(T)-α)*( (Rt - (1-δ))/α )^(α/(α-one(T)))\n",
    "    # R = (one(T) + (one(T) - τk)*(1.0025-one(T)))\n",
    "    R  = (one(T) + (one(T) - τk)*(Rt-one(T)))\n",
    "\n",
    "#     w = (1-τl)*(1-τs)*one(T)\n",
    "    w = (1-τl)*wt\n",
    "    L = one(T)/3one(T)\n",
    "    cs = repeat(ys', outer=(na,1))\n",
    "    \n",
    "    ls = fill(L,size(cs))\n",
    "    \n",
    "    as = repeat(aGrid, outer=(1,ny))\n",
    "    @assert size(cs) == size(as) == (na,ny)\n",
    "    \n",
    "    A  = sum(as)\n",
    "    return AiyagariSolution{T,I}(as,ls,cs,Rt,wt,R,w,A,A,A,L,\n",
    "                                    zero(T),A*L,zero(T),\n",
    "                                    spzeros(T, I, na*ny,na*ny), \n",
    "                                    fill(one(T)/(na*ny), na,ny), zeros(T,na,ny))\n",
    "end"
   ]
  },
  {
   "cell_type": "markdown",
   "metadata": {},
   "source": [
    "# Truncated model"
   ]
  },
  {
   "cell_type": "markdown",
   "metadata": {},
   "source": [
    "## Structures"
   ]
  },
  {
   "cell_type": "markdown",
   "metadata": {},
   "source": [
    "We consider three structures for the truncated model:\n",
    "\n",
    "* `TruncatedAllocation` containing the allocations at the truncated history level (as well as sizes and transition matrix);\n",
    "* `ξs` containing the various ξs;\n",
    "* `TruncatedModel` containing the two previous structures, as well as some other elements (characteristic lengths of the truncation and the indices of non-zero truncated histories)."
   ]
  },
  {
   "cell_type": "code",
   "execution_count": 5,
   "metadata": {},
   "outputs": [],
   "source": [
    "struct TruncatedAllocation{I<:Integer,T<:Real}\n",
    "    S_h::Vector{T}       # size of truncated histories\n",
    "    Π_h::SparseMatrixCSC{T,I}# transition matrix for histories\n",
    "    y0_h::Vector{T}      # current productivity levels\n",
    "    a_beg_h::Vector{T}   # beginning-of-period wealth per history and per capita\n",
    "    a_end_h::Vector{T}   # end-of-period wealth per history and per capita\n",
    "    c_h::Vector{T}       # consumption per history and per capita\n",
    "    l_h::Vector{T}       # labor supply per history and per capita\n",
    "    ly_τ_h::Vector{T}    # (l y)^τ\n",
    "    u_h::Vector{T}       # utility of consumption per history and per capita\n",
    "    u′_h::Vector{T}      # marginal utility of consumption per history and per capita\n",
    "    u′′_h::Vector{T}     # second-order derivative of utility of consumption per history and per capita\n",
    "    v_h::Vector{T}       # utility of labor per history and per capita\n",
    "    v′_h::Vector{T}      # marginal utility of labor per history and per capita\n",
    "    resid_E_h::Vector{T} # Euler Lagrange multiplier at the history level\n",
    "    nb_cc_h::I           # nb of credit constrained histories\n",
    "    ind_cc_h::Vector{I}  # indices of credit constrained histories\n",
    "end\n",
    "\n",
    "struct ξs_struct{T<:Real}\n",
    "    ξu0::Vector{T}\n",
    "    ξu1::Vector{T}\n",
    "    ξu2::Vector{T}\n",
    "    ξuE::Vector{T}\n",
    "    ξy ::Vector{T}\n",
    "    ξv0::Vector{T}\n",
    "    ξv1::Vector{T}\n",
    "end  \n",
    "\n",
    "struct TruncatedModel{I<:Integer,T<:Real}\n",
    "    N::I\n",
    "    refiNs::Vector{I}\n",
    "    Ntot::I\n",
    "    ind_h::Vector{I}\n",
    "    truncatedAllocation::TruncatedAllocation{I,T}\n",
    "    ξs::ξs_struct{T}\n",
    "end"
   ]
  },
  {
   "cell_type": "markdown",
   "metadata": {},
   "source": [
    "## Constructors\n",
    "\n",
    "Basic constructors allowing for kwarg definition."
   ]
  },
  {
   "cell_type": "code",
   "execution_count": 6,
   "metadata": {},
   "outputs": [],
   "source": [
    "function TruncatedAllocation(;S_h::Vector{T}, Π_h::SparseMatrixCSC{T,I}, y0_h::Vector{T}, \n",
    "        a_beg_h::Vector{T}, a_end_h::Vector{T}, c_h::Vector{T}, l_h::Vector{T}, ly_τ_h::Vector{T}, \n",
    "        u_h::Vector{T}, u′_h::Vector{T}, u′′_h::Vector{T}, v_h::Vector{T}, v′_h::Vector{T}, \n",
    "        resid_E_h::Vector{T}, nb_cc_h::I, ind_cc_h::Vector{I}) where{I<:Integer,T<:Real}\n",
    "    TruncatedAllocation{I,T}(S_h,Π_h,y0_h,a_beg_h,a_end_h,c_h,l_h,ly_τ_h,u_h,u′_h,u′′_h,\n",
    "            v_h,v′_h,resid_E_h, nb_cc_h,ind_cc_h)    \n",
    "end\n",
    "\n",
    "function ξs_struct(;ξu0::Vector{T},ξu1::Vector{T},ξu2::Vector{T},ξuE::Vector{T},\n",
    "            ξy::Vector{T},ξv0::Vector{T},ξv1::Vector{T}) where{T<:Real}\n",
    "    ξs_struct{T}(ξu0,ξu1,ξu2,ξuE,ξy,ξv0,ξv1)\n",
    "end  \n",
    "\n",
    "function TruncatedModel(;N::I,refiNs::Vector{I},Ntot::I,ind_h::Vector{I},\n",
    "        truncatedAllocation::TruncatedAllocation{I,T},ξs::ξs_struct{T}) where {I<:Integer,T<:Real}\n",
    "    TruncatedModel{I,T}(N,refiNs,Ntot,ind_h,truncatedAllocation,ξs)\n",
    "end"
   ]
  },
  {
   "cell_type": "markdown",
   "metadata": {},
   "source": [
    "# Ramsey solution"
   ]
  },
  {
   "cell_type": "markdown",
   "metadata": {},
   "source": [
    "## Structures\n",
    "\n",
    "We consider three structures for the Ramsey solution:\n",
    "\n",
    "* `Weights` containing the Pareto weights of the social welfare function. The structure contains the weights per productivity level $y$:  $(\\omega_y)_y$,  represented by `ω` and $(\\overline{\\omega}_{y})_y = ( S_y \\omega_{y})_y$,  represented by `ωb`. It also constains the weights per history $h$: $(\\omega_h)_h$ (`ω_h`) and $(\\overline{\\omega}_{h})_h = ( S_h \\omega_{h})_h$ (represented by `ωb_h`).\n",
    "* `LagrangeMult` containing the Lagrange multipliers of the Ramsey program and some of their transforms. The `b`subscript refers to the history wise variable. For instance, the Lagrange multiplier on the Euler equation  $(\\lambda_{c,h})_h$ is represented by the vector `λc`, $(\\overline{\\lambda}_{c,h})_h = ( S_h \\lambda_{c,h})_h$ is represented  by `λcb`, and $(\\tilde{\\lambda}_{c,h})_h = (\\sum_{\\tilde h} \\Pi_{{\\tilde h} h} \\lambda_{c,\\tilde h})_h$ is represented  by `λct`. Same for the Lagrange multiplier on the labor FOC $(\\lambda_{l,h})$ represented by `λl`, plus `λlb` and `λlt`. For the marginal value of liquidity $(\\psi_{h})_y$ represented by the vector `ψ`, only add $(\\overline{\\psi}_{h})_h$ represented by  `ψb`. For the Lagrange mutiplier $\\mu$ on the government budget constraint, it is represented by the scalar `μ` (but no transform).\n",
    "* `Ramsey` containing the two previous structures, as well as the truncated model `truncatedModel`."
   ]
  },
  {
   "cell_type": "code",
   "execution_count": 7,
   "metadata": {},
   "outputs": [],
   "source": [
    "struct Weights{T<:Real}\n",
    "    ω       ::Vector{T} # weights per productivity (vector of length ny)\n",
    "    ωb      ::Vector{T} #     ω × S_h \n",
    "    ω_h     ::Vector{T} # weights per history (vector of length Ntot)\n",
    "    ωb_h    ::Vector{T} #     ω_h × S_h \n",
    "    ω_param ::Vector{T} # parametric weights per productivity (vector of length ny)\n",
    "    ωb_param::Vector{T} #     ω_param × S_h\n",
    "end \n",
    "struct LagrangeMult{T<:Real}\n",
    "    λc ::Vector{T} # on Euler equation \n",
    "    λct::Vector{T} #     λc lagged\n",
    "    λcb::Vector{T} #     λc × S_h\n",
    "    # λl ::Vector{T} # on first-order conditions for individual labor supply\n",
    "    # λlt::Vector{T} #     λl lagged\n",
    "    # λlb::Vector{T} #     λl × S_h\n",
    "    μ  ::T         # on govt budget constraint\n",
    "    Λ  ::T         # on relation inflations\n",
    "    γw ::T         # on wage Phillips curve\n",
    "    υ ::T          # on interest rate constraint (nominal deflated and real)\n",
    "    Γ ::T          # on no profit condition \n",
    "    ψ  ::Vector{T} # social value of liquidity\n",
    "    ψb ::Vector{T} #     ψ × S_h\n",
    "end \n",
    "struct Ramsey{I<:Integer,T<:Real}\n",
    "    # weights       ::Weights{T}\n",
    "    lagrangeMult  ::LagrangeMult{T}\n",
    "    truncatedModel::TruncatedModel{I,T}\n",
    "end"
   ]
  },
  {
   "cell_type": "markdown",
   "metadata": {},
   "source": [
    "## Constructor \n",
    "\n",
    "As before, we define basic constructors allowing for kwarg definition."
   ]
  },
  {
   "cell_type": "code",
   "execution_count": 8,
   "metadata": {},
   "outputs": [],
   "source": [
    "function Weights(;ω::Vector{T},ωb::Vector{T},ω_h::Vector{T},ωb_h::Vector{T},\n",
    "    ω_param::Vector{T},ωb_param::Vector{T}) where{T<:Real}\n",
    "#@assert size(ω) == size(ωb)\n",
    "Weights(ω,ωb,ω_h,ωb_h,ω_param,ωb_param)\n",
    "end \n",
    "function LagrangeMult(;λc::Vector{T},λct::Vector{T},λcb::Vector{T},\n",
    "        #  λl::Vector{T},λlt::Vector{T},λlb::Vector{T},\n",
    "         μ::T,Λ::T,γw::T,υ::T,Γ::T,\n",
    "         ψ::Vector{T},ψb::Vector{T}) where{T<:Real}\n",
    "LagrangeMult(λc,λct,λcb,μ,Λ,γw,υ,Γ,ψ,ψb)\n",
    "end \n",
    "function Ramsey(;lagrangeMult::LagrangeMult{T},\n",
    "   truncatedModel::TruncatedModel{I,T}) where{I<:Integer,T<:Real}\n",
    "Ramsey(lagrangeMult,truncatedModel)\n",
    "end"
   ]
  }
 ],
 "metadata": {
  "kernelspec": {
   "display_name": "Julia 1.8.0",
   "language": "julia",
   "name": "julia-1.8"
  },
  "language_info": {
   "file_extension": ".jl",
   "mimetype": "application/julia",
   "name": "julia",
   "version": "1.8.0"
  }
 },
 "nbformat": 4,
 "nbformat_minor": 2
}
