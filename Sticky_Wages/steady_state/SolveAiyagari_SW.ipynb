{
 "cells": [
  {
   "cell_type": "markdown",
   "metadata": {},
   "source": [
    "@nbinclude(\"Utils.ipynb\");"
   ]
  },
  {
   "cell_type": "markdown",
   "metadata": {},
   "source": [
    "# Computation of policy functions by EGM method"
   ]
  },
  {
   "cell_type": "markdown",
   "metadata": {},
   "source": [
    "## First helper function\n",
    "\n",
    "The first function `interpLinear` is a linear interpolation function, that is more specialized and hence slightly faster than the interpolation function of the `LinearInterpolation` package.\n",
    "\n",
    "The function specification is `interpLinear(x, xs, ys, n, lb)` where:\n",
    "* `x` is a scalar where the interpolation is computed;\n",
    "* `xs` and `ys` are sorted vectors such that `(xs[i], ys[i])` for `i=1,...,n` is a set of `n` known points;\n",
    "* `n` is the common length of vectors `xs` and `ys`;\n",
    "* `lb` is the lower bound for the truncation of the interpolation. If the interpolation result is lower than lb, the interpolation is trauncated to lb.\n",
    "\n",
    "The function returns a pair containing:\n",
    "* a scalar corresponding to the interpolated value (truncated if needed);\n",
    "* an index `np` which is such that the interpolation is performed between indices `np` and `np+1`."
   ]
  },
  {
   "cell_type": "code",
   "execution_count": 1,
   "metadata": {},
   "outputs": [
    {
     "data": {
      "text/plain": [
       "interpLinear (generic function with 1 method)"
      ]
     },
     "metadata": {},
     "output_type": "display_data"
    }
   ],
   "source": [
    "function interpLinear(x::T, \n",
    "                      xs::Vector{T},\n",
    "                      ys::Vector{T}, \n",
    "                      n::I, lb_y::T)::Tuple{T,I} where{T<:Real,I<:Integer}\n",
    "   \n",
    "    nx = searchsortedlast(xs, x) \n",
    "    #np is the largest index such that xs[np]≤x (and hence xs[np+1]>x). Returns 0 if x≤xs[1]. xs sorted.\n",
    "        \n",
    "    #Adjust nx if x falls out of bounds of xs\n",
    "    if nx == 0\n",
    "        nx += 1\n",
    "    elseif (nx==n)\n",
    "        nx -= 1\n",
    "    end    \n",
    "\n",
    "    # Linear interpolation in x between xs[nx] and xs[nx+1]\n",
    "    x_l,x_h = xs[nx],xs[nx+1]\n",
    "    y_l,y_h = ys[nx],ys[nx+1]\n",
    "    y = y_l + (y_h-y_l)/(x_h-x_l)*(x-x_l) \n",
    "    \n",
    "    # returns interpolated value and corresponding index\n",
    "    return ((y<lb_y) ? lb_y : y), nx\n",
    "    \n",
    "end"
   ]
  },
  {
   "cell_type": "markdown",
   "metadata": {},
   "source": [
    "## Second helper function\n",
    "\n",
    "The second function is `update_cEGM!(solution, economy)`, where:\n",
    "* `solution::AiyagariSolution` is a mutable `struct` `AiyagariSolution` which is updated by the function;\n",
    "* `economy::Economy` is a immutable `struct` `Economy` which contains economy parameters.\n",
    "\n",
    "The function updates the consumption policy function `gc` (in `solution`) using:\n",
    "* previous period savings `agrid` (in `economy`), \n",
    "* current savings policy function `ga` (in `solution`), \n",
    "* model parameters in `economy`.    "
   ]
  },
  {
   "cell_type": "code",
   "execution_count": 2,
   "metadata": {},
   "outputs": [],
   "source": [
    "function update_cEGM!(solution::AiyagariSolution,\n",
    "                      economy::Economy)::Nothing\n",
    "    \n",
    "    @unpack Tt, u′,na,a_min,aGrid,ny,ys = economy\n",
    "    @unpack ga,R,w,L = solution\n",
    "    cs = similar(ga)\n",
    "\n",
    "    for iy = 1:ny\n",
    "        for ia = 1:na\n",
    "            cs[ia,iy] = find_zero(c -> c-(R*aGrid[ia] + w*ys[iy]*L              \n",
    "                -interpLinear(aGrid[ia], ga[:,iy], aGrid, na, a_min)[1] + Tt),\n",
    "                one(w))\n",
    "            # we solve for the agent's budget constraint (a fsolve is needed because\n",
    "            # of the labor supply Euler equation). We use a linear interpolation for the\n",
    "            # saving policy function -- which is somewhat 'inverted' because of the EGM\n",
    "            # solution.\n",
    "        end\n",
    "    end\n",
    "    solution.gc = cs\n",
    "    return nothing\n",
    "end;"
   ]
  },
  {
   "cell_type": "markdown",
   "metadata": {},
   "source": [
    "## Third helper function\n",
    "\n",
    "\n",
    "The third function is `EulerBackEGM!(solution, economy)`, where (as before):\n",
    "* `solution::AiyagariSolution` is a mutable `struct` `AiyagariSolution` which is updated by the function;\n",
    "* `economy::Economy` is a immutable `struct` `Economy` which contains economy parameters.\n",
    "\n",
    "The function updates the policy functions for savings `ga`, for consumption `gc`, and for labor supply `gl` (all of them in `solution`) using the Euler equations for labor and consumption."
   ]
  },
  {
   "cell_type": "code",
   "execution_count": 3,
   "metadata": {},
   "outputs": [],
   "source": [
    "function EulerBackEGM!(solution::AiyagariSolution,\n",
    "                       economy::Economy)::Nothing\n",
    "    \n",
    "    @unpack β,Tt,u′,inv_u′,na,aGrid,ny,ys,Πy = economy\n",
    "    update_cEGM!(solution, economy) \n",
    "    @unpack gc,R,w,L = solution\n",
    "    \n",
    "    u′s_next = similar(gc)\n",
    "    u′s_next .= u′.(gc)\n",
    "    Eu′s = similar(gc)\n",
    "    Eu′s .= β*R*u′s_next*Πy'\n",
    "    \n",
    "    cs = similar(gc) \n",
    "    as = similar(gc)\n",
    "    \n",
    "    cs .= inv_u′.(Eu′s)\n",
    "    for ia = 1:na\n",
    "        for iy = 1:ny\n",
    "            as[ia,iy] = (aGrid[ia] + cs[ia,iy] - Tt - w*ys[iy]*L)/R                 \n",
    "        end\n",
    "    end\n",
    "    # as is a(a')\n",
    "    # cs is c(a')\n",
    "    \n",
    "    # updates policy function in solution\n",
    "    solution.gc .= cs\n",
    "    solution.ga .= as\n",
    "    return nothing\n",
    "end;"
   ]
  },
  {
   "cell_type": "markdown",
   "metadata": {},
   "source": [
    "## Final function computing policy functions\n",
    "\n",
    "\n",
    "The final function (the one actually computing policy functions) is `SolveEGM!(solution, economy; tol::Float64=1e-6, maxiter::Int64=10000)`, where (as before):\n",
    "* `solution::AiyagariSolution` is a mutable `struct` `AiyagariSolution` which is updated by the function;\n",
    "* `economy::Economy` is a immutable `struct` `Economy` which contains economy parameters;\n",
    "* `tol::Float64` is a precision criterion to stop the convergence process;\n",
    "* `maxiter::Int64` is a number of maximal repetitions (in case of non-convergence of policy function). The me\n",
    "\n",
    "The function computes the policy functions for savings `ga`, for consumption `gc`, and for labor supply `gl` (all of them in `solution`) by iterating over the function `EulerBackEGM!`. \n",
    "\n",
    "The function stops when:\n",
    "* either the difference between the policy function `ga` and its update is below the threshold `tol`;\n",
    "* or the number of iterations is above the number of repetitions `maxiter`.\n",
    "The output message is different in both cases."
   ]
  },
  {
   "cell_type": "code",
   "execution_count": 4,
   "metadata": {},
   "outputs": [],
   "source": [
    "function SolveEGM!(solution::AiyagariSolution,\n",
    "                   economy::Economy;\n",
    "                   tol::T=1e-6, maxiter::I=10000)::Nothing where {T<:Real,I<:Integer}\n",
    "    # ierates on policy functions until convergence\n",
    "    \n",
    "    as  = similar(solution.ga)\n",
    "    as .= solution.ga\n",
    "    i = 0\n",
    "    while true \n",
    "        i += 1\n",
    "        EulerBackEGM!(solution, economy) #updates policy functions once\n",
    "        if i%50 == 0\n",
    "            # The convergence is only checked by blocks of 50 iterations            \n",
    "            test = maximum(abs.(solution.ga .- as) ./ (\n",
    "                abs.(solution.ga) .+ abs.(as))) #computation of the convergence criterion\n",
    "            \n",
    "            if test < tol\n",
    "                # convergence is reached\n",
    "                println(\"Solved in \",i,\" \",\"iterations\");flush(stdout)\n",
    "                break\n",
    "            elseif i > maxiter\n",
    "                # maximal nb of iterations is reached (but no convergence)\n",
    "                println(\"Convergence not reached after \",i,\"iterations. Criterion = \", test);flush(stdout)\n",
    "                break\n",
    "            else\n",
    "                println(\"iteration: \", i , \" \", maximum(test));flush(stdout)\n",
    "                flush(stdout)\n",
    "            end\n",
    "        end\n",
    "        as .= solution.ga\n",
    "    end \n",
    "    return nothing\n",
    "end;"
   ]
  },
  {
   "cell_type": "markdown",
   "metadata": {},
   "source": [
    "# Computing stationary distribution"
   ]
  },
  {
   "cell_type": "markdown",
   "metadata": {},
   "source": [
    "## The helper function\n",
    "\n",
    "There is one helper function `transitionMat(ga,economy)` where:\n",
    "* `ga::Matrix{T}` is the saving policy function (a `na`$\\times$ `ny` matrix defined on the product grid of assets $\\times$ productivity);\n",
    "\n",
    "* `economy::Param` is the collection of model parameters.\n",
    "NB: For types, we have: `T<:Real` and `I<:Integer`.\n",
    "\n",
    "The function returns a sparse matrix (of type `SparseMatrixCSC{T,I}` from the package `SparseArrays`) such that:\n",
    "* the sparse matrix is of size `na*ny`$\\times$`na*ny`;\n",
    "* a matrix element corresponds to the probability to switch from a pair of (savings, productivity level) to another pair of (savings, productivity level)."
   ]
  },
  {
   "cell_type": "code",
   "execution_count": 5,
   "metadata": {},
   "outputs": [],
   "source": [
    "function transitionMat(ga::Matrix{T}, economy::Economy{T,T1,T2,T3,T4,T5,T6,T7,T8,I})::SparseMatrixCSC{T,I} where {\n",
    "                            T<:Real,T1<:Function,T2<:Function,T3<:Function,T4<:Function,\n",
    "                            T5<:Function,T6<:Function,T7<:Function,T8<:Function,\n",
    "                            I<:Int64}\n",
    "    @unpack na,a_min,aGrid,ny,Πy = economy\n",
    "    \n",
    "    trans  = spzeros(T, I, na*ny, na*ny)\n",
    "    p      = zero(T)\n",
    "    a_val  = zero(T)\n",
    "    ia_val = zero(I)\n",
    "    i_mat  = zero(I)\n",
    "    j_mat  = zero(I)\n",
    "    for ia = 1:na\n",
    "        for iy = 1:ny\n",
    "            a_val, ia_val = interpLinear(aGrid[ia], ga[:,iy], aGrid, na, a_min) \n",
    "            p = (aGrid[ia] - ga[ia_val,iy])/(\n",
    "                    ga[ia_val+1,iy] - ga[ia_val,iy])\n",
    "            p = min(max(p,zero(T)),one(T))\n",
    "            #i_mat = (iy-1)*na\n",
    "            j_mat = (iy-1)*na\n",
    "            for jy = 1:ny\n",
    "                #j_mat = (jy-1)*na\n",
    "                i_mat = (jy-1)*na\n",
    "                trans[i_mat+ia_val+1,j_mat+ia] = p * Πy[iy,jy]\n",
    "                trans[i_mat+ia_val,j_mat+ia] = (one(T)-p) * Πy[iy,jy]\n",
    "            end\n",
    "        end\n",
    "    end   \n",
    "    return trans\n",
    "end;"
   ]
  },
  {
   "cell_type": "code",
   "execution_count": null,
   "metadata": {},
   "outputs": [],
   "source": [
    "# returns the index i such that: xs[i]≤x<xs[i+1]\n",
    "# xs is assumed to be sorted in increasing order\n",
    "# we impose bouds on i such that i≥1 and i+1≤length(xs)\n",
    "function myfindbtwn(x,xs)\n",
    "    i = findfirst(xs.≥x)\n",
    "    if isnothing(i)\n",
    "        return length(xs)-1\n",
    "    elseif i==1\n",
    "        return i\n",
    "    else\n",
    "        return i-one(typeof(i))\n",
    "    end\n",
    "end;\n",
    "\n",
    "function transitionMat′(ga::Matrix{T}, economy::Economy{T,T1,T2,T3,T4,T5,T6,T7,T8,I})::SparseMatrixCSC{T,I} where {\n",
    "                            T<:Real,T1<:Function,T2<:Function,T3<:Function,T4<:Function,\n",
    "                            T5<:Function,T6<:Function,T7<:Function,T8<:Function,\n",
    "                            I<:Int64}\n",
    "    @unpack na,a_min,aGrid,ny,Πy = economy\n",
    "    \n",
    "    trans  = spzeros(T, I, na*ny, na*ny)\n",
    "    p      = zero(T)\n",
    "    a_val  = zero(T)\n",
    "    ia_val = zero(I)\n",
    "    i_mat  = zero(I)\n",
    "    j_mat  = zero(I)\n",
    "    for ia = 1:na\n",
    "        for iy = 1:ny\n",
    "            a_val   = ga[ia,iy]\n",
    "            ia_val  = myfindbtwn(a_val,aGrid)\n",
    "            p = (a_val - aGrid[ia_val])/(aGrid[ia_val+1] - aGrid[ia_val])\n",
    "            p = min(max(p,zero(T)),one(T))\n",
    "            i_mat = (iy-1)*na\n",
    "            for jy = 1:ny\n",
    "                j_mat = (jy-1)*na\n",
    "                trans[i_mat+ia,j_mat+ia_val+1] = p * Πy[iy,jy]\n",
    "                trans[i_mat+ia,j_mat+ia_val] = (one(T)-p) * Πy[iy,jy]\n",
    "            end\n",
    "        end\n",
    "    end   \n",
    "    return trans'\n",
    "end;"
   ]
  },
  {
   "cell_type": "markdown",
   "metadata": {},
   "source": [
    "## The final function\n",
    "\n",
    "The function actually computing the stationary distribution is `stationaryDist(M; tol::Float64=1e-16, maxiter::Int64=100000)`, where:\n",
    "* `M::SparseMatrixCSC{T,I}` is a (sparse) transition matrix that results from function `transitionMat`;\n",
    "* `tol::Float64 = 1e-6` is a precision criterion to stop the convergence process;\n",
    "* `maxiter::Int64=10000` is a number of maximal repetitions (in case of non-convergence of the computation).\n",
    "\n",
    " The function returns a vector $\\Pi$ of size `na*ny` that verifies $\\Pi M=\\Pi$ and is  stationary distribution -- that is known to exist. It is computed as the normalised eigenvector corresponding to the largest eigen value of the transition matrix -- which is $1$. To do so, we rely on the function `powm!` of the package `IterativeSolvers`."
   ]
  },
  {
   "cell_type": "code",
   "execution_count": 6,
   "metadata": {},
   "outputs": [],
   "source": [
    "function statDist(M::SparseMatrixCSC{T,I}; tol::T=1e-16, maxiter::I=100000\n",
    "        )::Vector{T} where {T<:Real,I<:Integer}\n",
    "    nM = size(M)[1]\n",
    "    _, x = powm!(Matrix(M), ones(T, nM), \n",
    "                    maxiter = maxiter,tol = tol)\n",
    "    # returns the approximate largest eigenvalue λ of M and one of its eigenvector\n",
    "    return x/sum(x)\n",
    "end;"
   ]
  },
  {
   "cell_type": "markdown",
   "metadata": {},
   "source": [
    "# Computing the steady-state equilibrium"
   ]
  },
  {
   "cell_type": "markdown",
   "metadata": {},
   "source": [
    "## The main function"
   ]
  },
  {
   "cell_type": "markdown",
   "metadata": {},
   "source": [
    "The function `steady(economy; tol::T=1e-8, maxiter::I=100000)` computes the steady-state solution of the Aiyigary model, where (as before):\n",
    "* `economy::Economy` is a immutable `struct` `Economy` which contains economy parameters;\n",
    "* `tol::T=1e-8` is a precision criterion to stop the convergence process;\n",
    "* `maxiter::I=100000` is a number of maximal repetitions (in case of non-convergence of computations). The me\n",
    "\n",
    "The function returns the steady-state allocation under the form of a mutable `struct` of type `AiyagariSolution{T,I}`. \n",
    "\n",
    "The function `steady`relies on previous functions, in particular `SolveEGM!` for computing steady-state policy functions and `stationaryDist` to compute the stationnary distribution."
   ]
  },
  {
   "cell_type": "code",
   "execution_count": 8,
   "metadata": {},
   "outputs": [
    {
     "ename": "LoadError",
     "evalue": "LoadError: UndefVarError: @unpack not defined\nin expression starting at In[8]:5",
     "output_type": "error",
     "traceback": [
      "LoadError: UndefVarError: @unpack not defined\nin expression starting at In[8]:5",
      ""
     ]
    }
   ],
   "source": [
    "function steady(economy::Economy;\n",
    "                tolEGM::T=1e-8, maxiterEGM::I=100000, \n",
    "                tolSD::T=1e-16, maxiterSD::I=500000,\n",
    "                initL::T=0.5,tolL::T=1e-6, maxiterL::I=100)::AiyagariSolution{T,I} where {T<:Real,I<:Integer}\n",
    "\n",
    "    @unpack β,α,δ,τl,Tt,τk,u′,inv_v′,v′,na,a_min,aGrid,ny,ys,ϵw,κw = economy\n",
    "    solution = AiyagariSolution(economy)\n",
    "    @unpack ga,gc,L,w = solution\n",
    "    # we iterate on L until v'(L) = (ϵw -1)/ϵw wₜ∫ᵢyᵢₜu′(cᵢₜ)ℓ(di)\n",
    "    \n",
    "    iterL = 0\n",
    "    L0    = initL\n",
    "    old_L = L0 \n",
    "    relax = 0.5\n",
    "    as = similar(ga)  #policy rules as a function of beginning of period asset\n",
    "    cs = similar(ga)  #policy rules as a function of beginning of period asset\n",
    "    transitMat = spzeros(typeof(β), typeof(na), na*ny, na*ny)\n",
    "    stationaryDist = zeros(typeof(β), na, ny)\n",
    "\n",
    "    \n",
    "\n",
    "\n",
    "    while true\n",
    "        solution.L = L0        \n",
    "        SolveEGM!(solution, economy, tol=tolEGM, maxiter=maxiterEGM)\n",
    "        @unpack ga,R,w,L = solution\n",
    "        transitMat = transitionMat(ga,economy)\n",
    "        stationaryDist = reshape(statDist(transitMat,tol=tolSD,maxiter=maxiterSD), na, ny)\n",
    "        for ia = 1:na\n",
    "            for iy = 1:ny\n",
    "                as[ia,iy] = interpLinear(aGrid[ia], ga[:,iy], aGrid, na, a_min)[1]\n",
    "                cs[ia,iy] = R*aGrid[ia] - as[ia,iy] + w*ys[iy]*L + Tt\n",
    "            end\n",
    "        end\n",
    "        # we can check that norm(transitionMat′(as,economy) .- transitMat) small\n",
    "        \n",
    "\n",
    "        old_L = L0\n",
    "        \n",
    "        L0    = inv_v′(κw*(1-1/ϵw)*w*sum(stationaryDist.*((repeat(ys,1,na)'.*u′.(cs))))) \n",
    "        L0    = relax*L0 + (1-relax)*old_L\n",
    "        iterL += 1\n",
    "\n",
    "\n",
    "        @show iterL,L0,abs(L0-old_L)\n",
    "        if (iterL > maxiterL)||(abs(L0-old_L) < tolL)\n",
    "            solution.ga = as\n",
    "            solution.gc = cs\n",
    "            solution.transitMat = transitMat\n",
    "            solution.stationaryDist = stationaryDist\n",
    "            break\n",
    "        end     \n",
    "    end\n",
    "    \n",
    "\n",
    "\n",
    "    \n",
    "    solution.gl = fill(solution.L,size(cs))\n",
    "    \n",
    "    # We compute aggregate quantities\n",
    "    solution.A = sum(solution.stationaryDist.*solution.ga) #aggregate savings\n",
    "    solution.C = sum(solution.stationaryDist.*solution.gc) #aggregate consumption\n",
    "    # solution.K = L*α/(1/β-1+δ)^(1/(1-α)) #aggregate capital\n",
    "    solution.K = solution.L*((1/β-1+δ)/α)^(1/(α-1)) #aggregate capital\n",
    "    solution.Y = (solution.K)^α*(solution.L)^(1-α)\n",
    "\n",
    "    solution.B = solution.A-solution.K\n",
    "    solution.G = solution.Y- δ*solution.K - solution.C \n",
    "    \n",
    "    # We check Euler equations by computing their residuals\n",
    "    solution.residEuler = u′.(solution.gc) - β*solution.R*reshape(\n",
    "    solution.transitMat'*reshape(u′.(solution.gc),na*ny,1),na,ny)\n",
    "    \n",
    "    return solution\n",
    "end;"
   ]
  },
  {
   "cell_type": "markdown",
   "metadata": {},
   "source": [
    "## Checking the consistency of the solution"
   ]
  },
  {
   "cell_type": "code",
   "execution_count": 9,
   "metadata": {},
   "outputs": [],
   "source": [
    "function check_solution(solution::AiyagariSolution, economy::Economy)::Nothing\n",
    "    @unpack β,α,δ,τl,τs,τk,Tt,na,a_min,aGrid,ny,ys = economy\n",
    "    @unpack ga,gc,R,w,A,K,C,L,G,stationaryDist = solution\n",
    "    if !(sum(stationaryDist) ≈ 1.0)\n",
    "        @warn(\"error in stationary distribution. Sum: \", round(sum(stationaryDist),digits=4))\n",
    "    else\n",
    "        println(\"Passed: stationary distribution. Sum: \", round(sum(stationaryDist),digits=4))\n",
    "    end\n",
    "    if !(L*α/(R/(1-τk)-1+δ)^(1/(1-α)) ≈ K)\n",
    "        @warn(\"error in capital. K=\", round(K,digits=4), \"; L*(K_FB/L_FB)=\", \n",
    "            round(L*((1/β - (1-δ))/α)^(1/(α-1)),digits=4))\n",
    "    else\n",
    "        println(\"Passed: capital. K=\", round(K,digits=4), \"; L*(K_FB/L_FB)=\", \n",
    "            round(L*((1/β - (1-δ))/α)^(1/(α-1)),digits=4))\n",
    "    end\n",
    "    if !(A ≈ sum(stationaryDist.*ga))\n",
    "        @warn(\"error in aggregate savings. A=\",round(A,digits=4), \n",
    "            \"; ∫aᵢℓ(di)=\",round(sum(stationaryDist.*ga),digits=4))\n",
    "    else\n",
    "        println(\"Passed: aggregate savings. A=\",round(A,digits=4), \n",
    "            \"; ∫aᵢ′ℓ(di)=\",round(sum(stationaryDist.*ga),digits=4))\n",
    "    end\n",
    "    if abs(A-sum(stationaryDist.*repeat(economy.aGrid,1,ny))) > na*ny*1e-10\n",
    "        @warn(\"error in convergence for savings. A=\",round(A,digits=4), \n",
    "            \"; ∫aᵢℓ(di)=\",round(sum(stationaryDist.*repeat(economy.aGrid,1,ny)),digits=4))\n",
    "    else\n",
    "        println(\"Passed: convergence for savings. A=\",round(A,digits=4), \n",
    "            \"; ∫aᵢℓ(di)=\",round(sum(stationaryDist.*repeat(economy.aGrid,1,ny)),digits=4))\n",
    "    end\n",
    "    C_ = w*L - A + Tt + R*sum(stationaryDist.*repeat(economy.aGrid,1,ny))\n",
    "    if !(C ≈ C_)\n",
    "        @warn(\"error in aggregate consumption. C=\",round(C,digits=4), \n",
    "            \"; ∫cᵢ ℓ(di)=\",round(C_,digits=4))\n",
    "    else\n",
    "        println(\"Passed: aggregate consumption. C=\",round(C,digits=4), \n",
    "            \"; ∫cᵢ ℓ(di)=\",round(C_,digits=4))\n",
    "    end\n",
    "    gov_bc = K^α * L^(1-α) - δ*K - (R-1)*A - w*L - G - Tt\n",
    "    if (abs(gov_bc) > 1e-10)\n",
    "        @warn(\"error in govt budget constraint. Gap=\",round(gov_bc,sigdigits=4))\n",
    "    else\n",
    "        println(\"Passed: govt budget constraint. Gap=\",round(gov_bc,sigdigits=4))\n",
    "    end\n",
    "    rc = K^α * L^(1-α) - δ*K - C - G\n",
    "    if (abs(rc) > 1e-10)\n",
    "        @warn(\"error in resource constraint. Gap=\",round(rc,sigdigits=4))\n",
    "    else\n",
    "        println(\"Passed: resource constraint. Gap=\",round(rc,sigdigits=4))\n",
    "    end\n",
    "    \n",
    "    # correcting for consumption tax\n",
    "    τc = 0.0\n",
    "    R_init = R\n",
    "    w_init = w*(1+τc)\n",
    "    A_init = A*(1+τc)\n",
    "    B_init = A_init - K\n",
    "    \n",
    "    gov_bc_init = K^α * L^(1-α) - δ*K +τc*C - (R_init-1)*A_init - w_init*L - G - Tt\n",
    "    if (abs(gov_bc_init) > 1e-10)\n",
    "        @warn(\"error in govt budget constraint (post tax). Gap=\",round(gov_bc_init,sigdigits=4))\n",
    "    else\n",
    "        println(\"Passed: govt budget constraint (post tax). Gap=\",round(gov_bc_init,sigdigits=4))\n",
    "    end\n",
    "    return nothing\n",
    "end"
   ]
  },
  {
   "cell_type": "markdown",
   "metadata": {},
   "source": [
    "# Describing the model solution"
   ]
  },
  {
   "cell_type": "code",
   "execution_count": 2,
   "metadata": {},
   "outputs": [
    {
     "ename": "LoadError",
     "evalue": "LoadError: UndefVarError: @unpack not defined\nin expression starting at In[2]:2",
     "output_type": "error",
     "traceback": [
      "LoadError: UndefVarError: @unpack not defined\nin expression starting at In[2]:2",
      ""
     ]
    }
   ],
   "source": [
    "function describe_solution(solution::AiyagariSolution, economy::Economy; calib=\"quarterly\")    \n",
    "    @unpack β,α,δ,τk,τl,τs,Tt,u′,na,a_min,aGrid,ny,ys = economy\n",
    "    @unpack ga,gc,Rt,wt,R,w,A,C,K,L,G,Y,B,stationaryDist,residEuler = solution\n",
    "    T = typeof(β)\n",
    "    τc = 0.\n",
    "    # Adjusting stocks to the calibration (quarterly or yearly)\n",
    "    stock_adj = occursin('q', lowercase(calib)) ? 4one(typeof(β)) : one(typeof(β))\n",
    "     \n",
    "    # Computing post-consumption-tax quantities\n",
    "    R_init = R\n",
    "    w_init = w\n",
    "    A_init = A\n",
    "    B_init = A_init - K\n",
    "    \n",
    "    # Computing MPC\n",
    "    diff_gc = gc[2:end,:] - gc[1:end-1,:]\n",
    "    diff_ga = aGrid[2:end,:] - aGrid[1:end-1,:]\n",
    "    mpc = sum(diff_gc.*stationaryDist[1:end-1,:]./diff_ga)\n",
    "    \n",
    "    # Computing total fiscal revenues\n",
    "    capital_tax = τk*(Rt-1)*A_init\n",
    "    labor_tax   = wt*L - w*L\n",
    "    conso_tax   = τc*C\n",
    "    tot_tax     = capital_tax+labor_tax+conso_tax\n",
    "    \n",
    "    return Dict{String,T}(\"01. Gini\" => Gini(ga, stationaryDist), \n",
    "                \"02. Debt-to-GDP, B/Y\"  => B_init/(stock_adj*Y), \n",
    "                \"03. Public spending-to-GDP, G/Y\"  => G/Y, \n",
    "                \"04. Aggregate consumption-to-GDP, C/Y\"  => C/Y,\n",
    "                \"05. Capital-to-GDP, K/Y\"  => K/(stock_adj*Y),\n",
    "                \"06. Investment-to-GDP, I/Y\"  => δ*K/Y,\n",
    "                \"07. Transfers-to-GDP, Tt/Y\" => Tt/Y,\n",
    "                \"08. Aggregate labor supply, L\" => L,\n",
    "                \"09. Average MPC\" => mpc,\n",
    "                \"10. Consumption tax-to-GDP\" => conso_tax/Y,\n",
    "                \"11. Labor tax-to-GDP\" => labor_tax/Y,\n",
    "                \"12. Capital tax-to-GDP\" => capital_tax/Y,\n",
    "                \"13. Total tax-to-GDP\" => tot_tax/Y,\n",
    "                \"14. Share of credit-constrained agents\" => sum(stationaryDist[1,:]))\n",
    "end\n",
    "\n"
   ]
  },
  {
   "cell_type": "code",
   "execution_count": 1,
   "metadata": {},
   "outputs": [
    {
     "data": {
      "text/plain": [
       "describe_simulation (generic function with 1 method)"
      ]
     },
     "metadata": {},
     "output_type": "display_data"
    }
   ],
   "source": []
  },
  {
   "cell_type": "markdown",
   "metadata": {},
   "source": [
    "The function \n",
    "> `print_dict(dict::Dict{String,T}; sep=':',digits::Int64=4)::Nothing`\n",
    "\n",
    "prints the description (label$\\,\\times\\,$value) in the alphabetical order of the labels, with `digits` digits for the rounding and where label and value are separeted by `sep`.    \n"
   ]
  },
  {
   "cell_type": "code",
   "execution_count": null,
   "metadata": {},
   "outputs": [],
   "source": [
    "function print_dict(dict::Dict{String,T}; sep=\"\",digits=4)::Nothing where {T<:Real}\n",
    "    tuples = sort([(k,v) for (k,v) in dict], by = first)\n",
    "    max_label_length = maximum(map(length∘first,tuples))\n",
    "    for (k,v) in tuples\n",
    "        k_ = lowercase(k)\n",
    "        trail_space = repeat(' ',1+max_label_length-length(k))\n",
    "        to_pct = (occursin(\"to-gdp\",k_)||occursin(\"share\",k_)) \n",
    "        if to_pct\n",
    "            println(k,sep*trail_space,round(100*v,digits=digits-2),\"%\")\n",
    "        else\n",
    "            println(k,sep*trail_space,round(v,digits=digits))\n",
    "        end\n",
    "    end\n",
    "    return nothing\n",
    "end;"
   ]
  },
  {
   "cell_type": "markdown",
   "metadata": {},
   "source": [
    "The function \n",
    "> `restricted_trans(iy::I,solution::AiyagariSolution) where I<:Int`\n",
    "\n",
    "returns the transition matrix and the stationary distribution corresponding to `solution` but restricted to idiosyncratic state `iy`.\n",
    "\n",
    "In other words, multiplying $n$ times the obtained transition matrix  to the obtained stationary distribution allows one to obtain the stationary distribution of agents that have been at least for $n$ consecutive periods in state $n$."
   ]
  },
  {
   "cell_type": "code",
   "execution_count": null,
   "metadata": {},
   "outputs": [],
   "source": [
    "function restricted_trans(iy::I, solution::AiyagariSolution) where I<:Int\n",
    "    transM = copy(solution.transitMat)\n",
    "    statD  = copy(solution.stationaryDist)\n",
    "    (na,ny)= size(statD)\n",
    "    iy′    = iy\n",
    "    for iy in 1:ny\n",
    "        (iy==iy′) && continue\n",
    "        for ia in 1:na\n",
    "            statD[ia,iy] = zero(eltype(statD))\n",
    "        end\n",
    "    end\n",
    "    for iy in 1:ny, jy in 1:ny\n",
    "        (iy==iy′) && (jy==iy′) && continue\n",
    "        for ia in 1:na, ja in 1:na\n",
    "            transM[(iy-1)*na+ia,(jy-1)*na+ja] = zero(eltype(statD))\n",
    "        end\n",
    "    end\n",
    "    return transM, statD\n",
    "end"
   ]
  },
  {
   "cell_type": "markdown",
   "metadata": {},
   "source": [
    "The function \n",
    "> `long_term_value(iy::I,solution::AiyagariSolution; policy::Symbol=:ga, tol=1e-6, maxiter=100) where I<:Int`\n",
    "\n",
    "returns the value of the variable `policy` (by default asset, `:ga`) for agents remaining in state `iy` for a long period.\n",
    "\n",
    "For instance, `long_term_value(iy,solution, policy=:gc)` returns the consumption level of agents remaining for a long time in state `iy`. "
   ]
  },
  {
   "cell_type": "code",
   "execution_count": 1,
   "metadata": {},
   "outputs": [
    {
     "ename": "LoadError",
     "evalue": "UndefVarError: AiyagariSolution not defined",
     "output_type": "error",
     "traceback": [
      "UndefVarError: AiyagariSolution not defined",
      "",
      "Stacktrace:",
      " [1] top-level scope",
      "   @ In[1]:1"
     ]
    }
   ],
   "source": [
    "function long_term_value(iy::I, solution::AiyagariSolution; symbol::Symbol=:ga, tol=1e-6, maxiter=100) where I<:Int\n",
    "    gx = getproperty(solution,symbol)[:]\n",
    "    transM_iy,statD_iy = restricted_trans(iy,solution);\n",
    "    transM_iy_n = transM_iy^2500\n",
    "    statD_iy_n  = transM_iy_n * statD[:]\n",
    "    toR  = sum(gx.*statD_iy_n)/sum(statD_iy_n)\n",
    "    toR_ = toR\n",
    "    diff = one(eltype(gx))\n",
    "    iter  = 0\n",
    "    while (diff > tol)&&(iter<maxiter)        \n",
    "        statD_iy_n = transM_iy_n * statD_iy_n\n",
    "        toR_ = toR\n",
    "        toR  = sum(gx.*statD_iy_n)/sum(statD_iy_n)\n",
    "        diff = abs(toR-toR_)\n",
    "        iter+= 1\n",
    "    end\n",
    "    return toR\n",
    "end"
   ]
  },
  {
   "cell_type": "code",
   "execution_count": null,
   "metadata": {},
   "outputs": [],
   "source": [
    "function long_term_path(iy::I, n::I, x0::T, solution::AiyagariSolution, economy::Economy;\n",
    "         symbol::Symbol=:ga, tol=1e-6, maxiter=100) where {I<:Int,T<:Real}\n",
    "    @unpack aGrid, na, a_min = economy\n",
    "    MS = solution.stationaryDist\n",
    "    gx = getproperty(solution,symbol)\n",
    "    gx_foo(x) = interpLinear(x,aGrid,gx[:,iy],na,a_min)[1]\n",
    "    \n",
    "    toR = zeros(T,n)\n",
    "\n",
    "    toR[1] = x0\n",
    "    for i in eachindex(toR[2:end])\n",
    "        toR[i+1] = gx_foo(toR[i])\n",
    "    end\n",
    "    return toR\n",
    "end"
   ]
  },
  {
   "cell_type": "code",
   "execution_count": null,
   "metadata": {},
   "outputs": [],
   "source": []
  }
 ],
 "metadata": {
  "kernelspec": {
   "display_name": "Julia 1.9.2",
   "language": "julia",
   "name": "julia-1.9"
  },
  "language_info": {
   "file_extension": ".jl",
   "mimetype": "application/julia",
   "name": "julia",
   "version": "1.9.2"
  }
 },
 "nbformat": 4,
 "nbformat_minor": 2
}
